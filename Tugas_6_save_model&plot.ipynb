{
  "nbformat": 4,
  "nbformat_minor": 0,
  "metadata": {
    "colab": {
      "name": "Tugas_6_save-model&plot.ipynb",
      "provenance": [],
      "collapsed_sections": [],
      "include_colab_link": true
    },
    "kernelspec": {
      "name": "python3",
      "display_name": "Python 3"
    },
    "language_info": {
      "name": "python"
    },
    "accelerator": "GPU"
  },
  "cells": [
    {
      "cell_type": "markdown",
      "metadata": {
        "id": "view-in-github",
        "colab_type": "text"
      },
      "source": [
        "<a href=\"https://colab.research.google.com/github/MrezaFd/Tugas-Besar-ML-059-055-/blob/main/Tugas_6_save_model%26plot.ipynb\" target=\"_parent\"><img src=\"https://colab.research.google.com/assets/colab-badge.svg\" alt=\"Open In Colab\"/></a>"
      ]
    },
    {
      "cell_type": "code",
      "metadata": {
        "id": "pg3l1ejwCF9P"
      },
      "source": [
        "import numpy as np\n",
        "import pandas as pd\n",
        "import matplotlib.pyplot as plt"
      ],
      "execution_count": 1,
      "outputs": []
    },
    {
      "cell_type": "code",
      "metadata": {
        "colab": {
          "resources": {
            "http://localhost:8080/nbextensions/google.colab/files.js": {
              "data": "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",
              "ok": true,
              "headers": [
                [
                  "content-type",
                  "application/javascript"
                ]
              ],
              "status": 200,
              "status_text": ""
            }
          },
          "base_uri": "https://localhost:8080/",
          "height": 94
        },
        "id": "_yhI15_dBJI1",
        "outputId": "604780a0-ddb4-4c87-d466-96464d2a895d"
      },
      "source": [
        "from google.colab import files #import lib\n",
        "files.upload()"
      ],
      "execution_count": 2,
      "outputs": [
        {
          "output_type": "display_data",
          "data": {
            "text/html": [
              "\n",
              "     <input type=\"file\" id=\"files-96561d8a-2774-4bf7-b926-894247cded5a\" name=\"files[]\" multiple disabled\n",
              "        style=\"border:none\" />\n",
              "     <output id=\"result-96561d8a-2774-4bf7-b926-894247cded5a\">\n",
              "      Upload widget is only available when the cell has been executed in the\n",
              "      current browser session. Please rerun this cell to enable.\n",
              "      </output>\n",
              "      <script src=\"/nbextensions/google.colab/files.js\"></script> "
            ],
            "text/plain": [
              "<IPython.core.display.HTML object>"
            ]
          },
          "metadata": {}
        },
        {
          "output_type": "stream",
          "name": "stdout",
          "text": [
            "Saving kaggle.json to kaggle.json\n"
          ]
        },
        {
          "output_type": "execute_result",
          "data": {
            "text/plain": [
              "{'kaggle.json': b'{\"username\":\"hexazor\",\"key\":\"663a14597732196faa9d3257dd4ff4df\"}'}"
            ]
          },
          "metadata": {},
          "execution_count": 2
        }
      ]
    },
    {
      "cell_type": "code",
      "metadata": {
        "id": "T-PttF09A1jP"
      },
      "source": [
        "!mkdir -p ~/.kaggle #membuat directory bernama kaggle \n",
        "!cp kaggle.json ~/.kaggle/ #copy file kaggle.json upload tadi ke directory baru\n",
        "!chmod 600 ~/.kaggle/kaggle.json #berikan izin untuk file kaggle.jsonv"
      ],
      "execution_count": 3,
      "outputs": []
    },
    {
      "cell_type": "code",
      "metadata": {
        "colab": {
          "base_uri": "https://localhost:8080/"
        },
        "id": "OvexdoKwBZ5V",
        "outputId": "f72120ca-a5ad-460d-cbd2-b250563b82d8"
      },
      "source": [
        "#Unduh dataset\n",
        "!kaggle datasets download -d fanconic/skin-cancer-malignant-vs-benign"
      ],
      "execution_count": 4,
      "outputs": [
        {
          "output_type": "stream",
          "name": "stdout",
          "text": [
            "Downloading skin-cancer-malignant-vs-benign.zip to /content\n",
            "100% 324M/325M [00:02<00:00, 148MB/s]\n",
            "100% 325M/325M [00:02<00:00, 152MB/s]\n"
          ]
        }
      ]
    },
    {
      "cell_type": "code",
      "metadata": {
        "id": "4rtnNrFsEDIf",
        "colab": {
          "base_uri": "https://localhost:8080/"
        },
        "outputId": "7cb9c2f1-762d-4723-ba71-8b44719eebce"
      },
      "source": [
        "from zipfile import ZipFile\n",
        "file_name = \"skin-cancer-malignant-vs-benign.zip\"\n",
        "\n",
        "with ZipFile(file_name,'r') as zip :\n",
        "  zip.extractall()\n",
        "  print('Berhasil')"
      ],
      "execution_count": 5,
      "outputs": [
        {
          "output_type": "stream",
          "name": "stdout",
          "text": [
            "Berhasil\n"
          ]
        }
      ]
    },
    {
      "cell_type": "code",
      "metadata": {
        "id": "31Pr3YSaDHnn"
      },
      "source": [
        "!mkdir a"
      ],
      "execution_count": 6,
      "outputs": []
    },
    {
      "cell_type": "code",
      "metadata": {
        "id": "u6Wd9eg8DOao"
      },
      "source": [
        "!mv -t a test train"
      ],
      "execution_count": 7,
      "outputs": []
    },
    {
      "cell_type": "code",
      "metadata": {
        "id": "y9L_1kqnEEjc"
      },
      "source": [
        "# Definisikan path untuk data train dan data validation\n",
        "import os\n",
        "base_dir = '/content/a'\n",
        "\n",
        "\n",
        "train_dir = os.path.join(base_dir, 'train')\n",
        "validation_dir = os.path.join(base_dir, 'test')"
      ],
      "execution_count": 8,
      "outputs": []
    },
    {
      "cell_type": "code",
      "metadata": {
        "id": "9gc0BCSREF0M"
      },
      "source": [
        "import cv2\n",
        "import numpy as np\n",
        "\n",
        "# Gather data train\n",
        "train_data = []\n",
        "train_label = []\n",
        "for r, d, f in os.walk(train_dir):\n",
        "    for file in f:\n",
        "        if \".jpg\" in file:\n",
        "            imagePath = os.path.join(r, file)\n",
        "            image = cv2.imread(imagePath)\n",
        "            image = cv2.resize(image, (150,150))\n",
        "            train_data.append(image)\n",
        "            label = imagePath.split(os.path.sep)[-2]\n",
        "            train_label.append(label)\n",
        "\n",
        "train_data = np.array(train_data)\n",
        "train_label = np.array(train_label)"
      ],
      "execution_count": 9,
      "outputs": []
    },
    {
      "cell_type": "code",
      "metadata": {
        "id": "FuoKFhhVEG_O"
      },
      "source": [
        "# Gather data validation\n",
        "val_data = []\n",
        "val_label = []\n",
        "for r, d, f in os.walk(validation_dir):\n",
        "    for file in f:\n",
        "        if \".jpg\" in file:\n",
        "            imagePath = os.path.join(r, file)\n",
        "            image = cv2.imread(imagePath)\n",
        "            image = cv2.resize(image, (150,150))\n",
        "            val_data.append(image)\n",
        "            label = imagePath.split(os.path.sep)[-2]\n",
        "            val_label.append(label)\n",
        "\n",
        "val_data = np.array(val_data)\n",
        "val_label = np.array(val_label)"
      ],
      "execution_count": 10,
      "outputs": []
    },
    {
      "cell_type": "markdown",
      "metadata": {
        "id": "kiXbwrN3ELqv"
      },
      "source": [
        "<h3>Data Preprocessing</h3>"
      ]
    },
    {
      "cell_type": "code",
      "metadata": {
        "colab": {
          "base_uri": "https://localhost:8080/"
        },
        "id": "m5VhnvtrEI1I",
        "outputId": "f0c091f0-42cc-4cbf-ec65-d5332aa1e375"
      },
      "source": [
        "# Tampilkan shape dari data train dan data validation\n",
        "print(\"Train Data = \", train_data.shape)\n",
        "print(\"Train Label = \", train_label.shape)\n",
        "print(\"Validation Data = \", val_data.shape)\n",
        "print(\"Validation Label = \", val_label.shape)"
      ],
      "execution_count": 11,
      "outputs": [
        {
          "output_type": "stream",
          "name": "stdout",
          "text": [
            "Train Data =  (2637, 150, 150, 3)\n",
            "Train Label =  (2637,)\n",
            "Validation Data =  (660, 150, 150, 3)\n",
            "Validation Label =  (660,)\n"
          ]
        }
      ]
    },
    {
      "cell_type": "code",
      "metadata": {
        "colab": {
          "base_uri": "https://localhost:8080/"
        },
        "id": "q1LVp6dCENne",
        "outputId": "5cebc8e8-d1e9-4e04-a8fb-2128f0eb0889"
      },
      "source": [
        "# Normalisasi dataset\n",
        "print(\"Data sebelum di-normalisasi \", train_data[0][0][0])\n",
        "\n",
        "x_train = train_data.astype('float32') / 255.0\n",
        "x_val = val_data.astype('float32') / 255.0\n",
        "print(\"Data setelah di-normalisasi \", x_train[0][0][0])"
      ],
      "execution_count": 12,
      "outputs": [
        {
          "output_type": "stream",
          "name": "stdout",
          "text": [
            "Data sebelum di-normalisasi  [ 88 101 145]\n",
            "Data setelah di-normalisasi  [0.34509805 0.39607844 0.5686275 ]\n"
          ]
        }
      ]
    },
    {
      "cell_type": "code",
      "metadata": {
        "colab": {
          "base_uri": "https://localhost:8080/"
        },
        "id": "tc7FivC6EPhm",
        "outputId": "2dad7ece-1e27-437d-948a-48c2a554445b"
      },
      "source": [
        "# Transformasi label encoder\n",
        "from sklearn.preprocessing import LabelEncoder\n",
        "\n",
        "print(\"Label sebelum di-encoder \", train_label[995:2005])\n",
        "\n",
        "lb = LabelEncoder()\n",
        "y_train = lb.fit_transform(train_label)\n",
        "y_val = lb.fit_transform(val_label)\n",
        "\n",
        "print(\"Label setelah di-encoder \", y_train[995:2005])"
      ],
      "execution_count": 13,
      "outputs": [
        {
          "output_type": "stream",
          "name": "stdout",
          "text": [
            "Label sebelum di-encoder  ['malignant' 'malignant' 'malignant' ... 'benign' 'benign' 'benign']\n",
            "Label setelah di-encoder  [1 1 1 ... 0 0 0]\n"
          ]
        }
      ]
    },
    {
      "cell_type": "markdown",
      "metadata": {
        "id": "4jVWbOhOEzQJ"
      },
      "source": [
        "<h3>Definisikan Model</h3>"
      ]
    },
    {
      "cell_type": "code",
      "metadata": {
        "id": "usLiFiwAEvVb"
      },
      "source": [
        "from tensorflow.keras.models import Sequential\n",
        "from tensorflow.keras.layers import InputLayer, Dense, Conv2D, MaxPool2D, Flatten\n",
        "from tensorflow.keras.callbacks import ModelCheckpoint\n",
        "import tensorflow as tf"
      ],
      "execution_count": 38,
      "outputs": []
    },
    {
      "cell_type": "code",
      "metadata": {
        "id": "rDwzxacpE1ei"
      },
      "source": [
        "# Feature Extraction Layer\n",
        "model = Sequential()\n",
        "\n",
        "model.add(InputLayer(input_shape=[150,150,3]))\n",
        "model.add(Conv2D(filters=16, kernel_size=3, strides=1, padding='same', activation='relu'))\n",
        "model.add(MaxPool2D(pool_size=2, padding='same'))\n",
        "model.add(Conv2D(filters=32, kernel_size=3, strides=1, padding='same', activation='relu'))\n",
        "model.add(MaxPool2D(pool_size=2, padding='same'))\n",
        "model.add(Conv2D(filters=64, kernel_size=3, strides=1, padding='same', activation='relu'))\n",
        "model.add(MaxPool2D(pool_size=2, padding='same'))\n",
        "model.add(Flatten())"
      ],
      "execution_count": 39,
      "outputs": []
    },
    {
      "cell_type": "code",
      "metadata": {
        "id": "Sud1AUF0E2k8"
      },
      "source": [
        "# Fully Connected Layer\n",
        "model.add(Dense(128, activation='relu'))\n",
        "model.add(Dense(1, activation='sigmoid'))"
      ],
      "execution_count": 40,
      "outputs": []
    },
    {
      "cell_type": "code",
      "metadata": {
        "colab": {
          "base_uri": "https://localhost:8080/"
        },
        "id": "XW-KE9ePE466",
        "outputId": "3aef711a-51b6-4ace-9280-a41f0bd66495"
      },
      "source": [
        "# Print model summary\n",
        "print(model.summary())"
      ],
      "execution_count": 41,
      "outputs": [
        {
          "output_type": "stream",
          "name": "stdout",
          "text": [
            "Model: \"sequential_2\"\n",
            "_________________________________________________________________\n",
            " Layer (type)                Output Shape              Param #   \n",
            "=================================================================\n",
            " conv2d_6 (Conv2D)           (None, 150, 150, 16)      448       \n",
            "                                                                 \n",
            " max_pooling2d_6 (MaxPooling  (None, 75, 75, 16)       0         \n",
            " 2D)                                                             \n",
            "                                                                 \n",
            " conv2d_7 (Conv2D)           (None, 75, 75, 32)        4640      \n",
            "                                                                 \n",
            " max_pooling2d_7 (MaxPooling  (None, 38, 38, 32)       0         \n",
            " 2D)                                                             \n",
            "                                                                 \n",
            " conv2d_8 (Conv2D)           (None, 38, 38, 64)        18496     \n",
            "                                                                 \n",
            " max_pooling2d_8 (MaxPooling  (None, 19, 19, 64)       0         \n",
            " 2D)                                                             \n",
            "                                                                 \n",
            " flatten_2 (Flatten)         (None, 23104)             0         \n",
            "                                                                 \n",
            " dense_4 (Dense)             (None, 128)               2957440   \n",
            "                                                                 \n",
            " dense_5 (Dense)             (None, 1)                 129       \n",
            "                                                                 \n",
            "=================================================================\n",
            "Total params: 2,981,153\n",
            "Trainable params: 2,981,153\n",
            "Non-trainable params: 0\n",
            "_________________________________________________________________\n",
            "None\n"
          ]
        }
      ]
    },
    {
      "cell_type": "code",
      "metadata": {
        "id": "MbyolzG3JgvR"
      },
      "source": [
        "best_model_cancer_path = 'model-cancer.h5'\n",
        "checkpoint_callback = ModelCheckpoint(best_model_cancer_path,\n",
        "                                     monitor='val_acc',\n",
        "                                     save_best_only=True,\n",
        "                                     verbose=1)\n",
        "callbacks_list = [checkpoint_callback]"
      ],
      "execution_count": 42,
      "outputs": []
    },
    {
      "cell_type": "code",
      "metadata": {
        "colab": {
          "base_uri": "https://localhost:8080/"
        },
        "id": "Tais64D7E5Zo",
        "outputId": "02f2017f-a2ee-4693-90cb-fa0176520024"
      },
      "source": [
        "# Compile model\n",
        "from tensorflow.keras.optimizers import Adam\n",
        "\n",
        "model.compile(optimizer=Adam(lr=0.001), \n",
        "              loss='binary_crossentropy', \n",
        "              metrics=['acc'])"
      ],
      "execution_count": 43,
      "outputs": [
        {
          "output_type": "stream",
          "name": "stderr",
          "text": [
            "/usr/local/lib/python3.7/dist-packages/keras/optimizer_v2/adam.py:105: UserWarning: The `lr` argument is deprecated, use `learning_rate` instead.\n",
            "  super(Adam, self).__init__(name, **kwargs)\n"
          ]
        }
      ]
    },
    {
      "cell_type": "markdown",
      "metadata": {
        "id": "NTNBH19iE8kt"
      },
      "source": [
        "<h3>Training Model</h3>"
      ]
    },
    {
      "cell_type": "code",
      "metadata": {
        "colab": {
          "base_uri": "https://localhost:8080/"
        },
        "id": "p4Vr8dyvE6pM",
        "outputId": "8f419a9e-1ad5-4f0c-ab27-d2d9b7b805c1"
      },
      "source": [
        "H = model.fit(x_train, y_train, batch_size=20, epochs=25, validation_data=(x_val, y_val),callbacks=[callbacks_list])\n"
      ],
      "execution_count": 44,
      "outputs": [
        {
          "output_type": "stream",
          "name": "stdout",
          "text": [
            "Epoch 1/25\n",
            "132/132 [==============================] - ETA: 0s - loss: 0.6077 - acc: 0.6701\n",
            "Epoch 00001: val_acc improved from -inf to 0.78030, saving model to model-cancer.h5\n",
            "132/132 [==============================] - 4s 28ms/step - loss: 0.6077 - acc: 0.6701 - val_loss: 0.4337 - val_acc: 0.7803\n",
            "Epoch 2/25\n",
            "131/132 [============================>.] - ETA: 0s - loss: 0.4356 - acc: 0.7824\n",
            "Epoch 00002: val_acc improved from 0.78030 to 0.82727, saving model to model-cancer.h5\n",
            "132/132 [==============================] - 3s 25ms/step - loss: 0.4352 - acc: 0.7827 - val_loss: 0.3581 - val_acc: 0.8273\n",
            "Epoch 3/25\n",
            "131/132 [============================>.] - ETA: 0s - loss: 0.3792 - acc: 0.8198\n",
            "Epoch 00003: val_acc improved from 0.82727 to 0.82879, saving model to model-cancer.h5\n",
            "132/132 [==============================] - 3s 24ms/step - loss: 0.3788 - acc: 0.8199 - val_loss: 0.3478 - val_acc: 0.8288\n",
            "Epoch 4/25\n",
            "130/132 [============================>.] - ETA: 0s - loss: 0.3627 - acc: 0.8319\n",
            "Epoch 00004: val_acc did not improve from 0.82879\n",
            "132/132 [==============================] - 3s 23ms/step - loss: 0.3667 - acc: 0.8294 - val_loss: 0.4324 - val_acc: 0.8015\n",
            "Epoch 5/25\n",
            "131/132 [============================>.] - ETA: 0s - loss: 0.3761 - acc: 0.8118\n",
            "Epoch 00005: val_acc improved from 0.82879 to 0.83636, saving model to model-cancer.h5\n",
            "132/132 [==============================] - 3s 24ms/step - loss: 0.3756 - acc: 0.8115 - val_loss: 0.3473 - val_acc: 0.8364\n",
            "Epoch 6/25\n",
            "132/132 [==============================] - ETA: 0s - loss: 0.3190 - acc: 0.8419\n",
            "Epoch 00006: val_acc did not improve from 0.83636\n",
            "132/132 [==============================] - 3s 24ms/step - loss: 0.3190 - acc: 0.8419 - val_loss: 0.3450 - val_acc: 0.8242\n",
            "Epoch 7/25\n",
            "132/132 [==============================] - ETA: 0s - loss: 0.3039 - acc: 0.8548\n",
            "Epoch 00007: val_acc did not improve from 0.83636\n",
            "132/132 [==============================] - 3s 24ms/step - loss: 0.3039 - acc: 0.8548 - val_loss: 0.4012 - val_acc: 0.8121\n",
            "Epoch 8/25\n",
            "131/132 [============================>.] - ETA: 0s - loss: 0.3277 - acc: 0.8450\n",
            "Epoch 00008: val_acc did not improve from 0.83636\n",
            "132/132 [==============================] - 3s 24ms/step - loss: 0.3283 - acc: 0.8445 - val_loss: 0.4150 - val_acc: 0.7939\n",
            "Epoch 9/25\n",
            "131/132 [============================>.] - ETA: 0s - loss: 0.3016 - acc: 0.8573\n",
            "Epoch 00009: val_acc did not improve from 0.83636\n",
            "132/132 [==============================] - 3s 25ms/step - loss: 0.3011 - acc: 0.8582 - val_loss: 0.3645 - val_acc: 0.8242\n",
            "Epoch 10/25\n",
            "132/132 [==============================] - ETA: 0s - loss: 0.2658 - acc: 0.8752\n",
            "Epoch 00010: val_acc improved from 0.83636 to 0.84091, saving model to model-cancer.h5\n",
            "132/132 [==============================] - 3s 25ms/step - loss: 0.2658 - acc: 0.8752 - val_loss: 0.3603 - val_acc: 0.8409\n",
            "Epoch 11/25\n",
            "132/132 [==============================] - ETA: 0s - loss: 0.2447 - acc: 0.8889\n",
            "Epoch 00011: val_acc did not improve from 0.84091\n",
            "132/132 [==============================] - 3s 24ms/step - loss: 0.2447 - acc: 0.8889 - val_loss: 0.3799 - val_acc: 0.8212\n",
            "Epoch 12/25\n",
            "131/132 [============================>.] - ETA: 0s - loss: 0.2341 - acc: 0.8954\n",
            "Epoch 00012: val_acc did not improve from 0.84091\n",
            "132/132 [==============================] - 3s 24ms/step - loss: 0.2334 - acc: 0.8957 - val_loss: 0.3841 - val_acc: 0.8227\n",
            "Epoch 13/25\n",
            "132/132 [==============================] - ETA: 0s - loss: 0.1940 - acc: 0.9124\n",
            "Epoch 00013: val_acc did not improve from 0.84091\n",
            "132/132 [==============================] - 3s 23ms/step - loss: 0.1940 - acc: 0.9124 - val_loss: 0.4546 - val_acc: 0.8197\n",
            "Epoch 14/25\n",
            "130/132 [============================>.] - ETA: 0s - loss: 0.1749 - acc: 0.9277\n",
            "Epoch 00014: val_acc did not improve from 0.84091\n",
            "132/132 [==============================] - 3s 23ms/step - loss: 0.1744 - acc: 0.9283 - val_loss: 0.4269 - val_acc: 0.8333\n",
            "Epoch 15/25\n",
            "130/132 [============================>.] - ETA: 0s - loss: 0.1806 - acc: 0.9246\n",
            "Epoch 00015: val_acc did not improve from 0.84091\n",
            "132/132 [==============================] - 3s 24ms/step - loss: 0.1804 - acc: 0.9245 - val_loss: 0.4561 - val_acc: 0.8106\n",
            "Epoch 16/25\n",
            "131/132 [============================>.] - ETA: 0s - loss: 0.1210 - acc: 0.9557\n",
            "Epoch 00016: val_acc did not improve from 0.84091\n",
            "132/132 [==============================] - 3s 24ms/step - loss: 0.1209 - acc: 0.9556 - val_loss: 0.5839 - val_acc: 0.8273\n",
            "Epoch 17/25\n",
            "130/132 [============================>.] - ETA: 0s - loss: 0.1016 - acc: 0.9662\n",
            "Epoch 00017: val_acc did not improve from 0.84091\n",
            "132/132 [==============================] - 3s 24ms/step - loss: 0.1026 - acc: 0.9655 - val_loss: 0.5852 - val_acc: 0.8242\n",
            "Epoch 18/25\n",
            "131/132 [============================>.] - ETA: 0s - loss: 0.1161 - acc: 0.9542\n",
            "Epoch 00018: val_acc did not improve from 0.84091\n",
            "132/132 [==============================] - 3s 24ms/step - loss: 0.1163 - acc: 0.9541 - val_loss: 0.6296 - val_acc: 0.8152\n",
            "Epoch 19/25\n",
            "131/132 [============================>.] - ETA: 0s - loss: 0.0714 - acc: 0.9756\n",
            "Epoch 00019: val_acc did not improve from 0.84091\n",
            "132/132 [==============================] - 3s 24ms/step - loss: 0.0720 - acc: 0.9754 - val_loss: 0.7064 - val_acc: 0.8394\n",
            "Epoch 20/25\n",
            "131/132 [============================>.] - ETA: 0s - loss: 0.0553 - acc: 0.9802\n",
            "Epoch 00020: val_acc improved from 0.84091 to 0.84848, saving model to model-cancer.h5\n",
            "132/132 [==============================] - 3s 25ms/step - loss: 0.0550 - acc: 0.9803 - val_loss: 0.6793 - val_acc: 0.8485\n",
            "Epoch 21/25\n",
            "132/132 [==============================] - ETA: 0s - loss: 0.0535 - acc: 0.9818\n",
            "Epoch 00021: val_acc did not improve from 0.84848\n",
            "132/132 [==============================] - 3s 24ms/step - loss: 0.0535 - acc: 0.9818 - val_loss: 0.7584 - val_acc: 0.7924\n",
            "Epoch 22/25\n",
            "131/132 [============================>.] - ETA: 0s - loss: 0.0721 - acc: 0.9767\n",
            "Epoch 00022: val_acc did not improve from 0.84848\n",
            "132/132 [==============================] - 3s 24ms/step - loss: 0.0720 - acc: 0.9769 - val_loss: 0.7658 - val_acc: 0.8106\n",
            "Epoch 23/25\n",
            "131/132 [============================>.] - ETA: 0s - loss: 0.0264 - acc: 0.9920\n",
            "Epoch 00023: val_acc did not improve from 0.84848\n",
            "132/132 [==============================] - 3s 24ms/step - loss: 0.0262 - acc: 0.9920 - val_loss: 0.8251 - val_acc: 0.8455\n",
            "Epoch 24/25\n",
            "131/132 [============================>.] - ETA: 0s - loss: 0.0686 - acc: 0.9790\n",
            "Epoch 00024: val_acc did not improve from 0.84848\n",
            "132/132 [==============================] - 3s 24ms/step - loss: 0.0682 - acc: 0.9791 - val_loss: 0.7343 - val_acc: 0.8303\n",
            "Epoch 25/25\n",
            "132/132 [==============================] - ETA: 0s - loss: 0.0461 - acc: 0.9837\n",
            "Epoch 00025: val_acc did not improve from 0.84848\n",
            "132/132 [==============================] - 3s 24ms/step - loss: 0.0461 - acc: 0.9837 - val_loss: 0.8348 - val_acc: 0.8258\n"
          ]
        }
      ]
    },
    {
      "cell_type": "markdown",
      "metadata": {
        "id": "9j4CkHMQI8dw"
      },
      "source": [
        "# **Model Save Weight**"
      ]
    },
    {
      "cell_type": "code",
      "metadata": {
        "id": "mehtsfHKJBd0"
      },
      "source": [
        "model.save_weights('model-cancer.h5')"
      ],
      "execution_count": 47,
      "outputs": []
    },
    {
      "cell_type": "code",
      "metadata": {
        "id": "AeDTsyJ0I7wN",
        "colab": {
          "base_uri": "https://localhost:8080/"
        },
        "outputId": "70a7ba0d-5e82-4c1e-89a7-129b2bc9a46e"
      },
      "source": [
        "model.get_weights()"
      ],
      "execution_count": 48,
      "outputs": [
        {
          "output_type": "execute_result",
          "data": {
            "text/plain": [
              "[array([[[[-0.01698263, -0.18792966, -0.14404342, -0.12046345,\n",
              "            0.0078126 ,  0.04350316, -0.04448006,  0.04460702,\n",
              "            0.20817134, -0.019699  ,  0.0304031 ,  0.09878087,\n",
              "           -0.19677885, -0.08543588, -0.06177767,  0.13678588],\n",
              "          [ 0.14398986, -0.02507931,  0.04367113, -0.09817869,\n",
              "            0.12227573, -0.1978103 ,  0.00617655,  0.05821764,\n",
              "           -0.08795018,  0.19315298, -0.04679071, -0.01559609,\n",
              "           -0.07561266, -0.1527082 ,  0.05750867,  0.03327572],\n",
              "          [ 0.139741  ,  0.07425105,  0.17406656,  0.12900797,\n",
              "           -0.10166358, -0.00222063,  0.03752314, -0.20128404,\n",
              "            0.10502548, -0.10467149,  0.03805979, -0.10273945,\n",
              "            0.16849871,  0.05025603, -0.09581448,  0.07413822]],\n",
              " \n",
              "         [[-0.0394084 , -0.32348967,  0.10921156,  0.04081375,\n",
              "            0.05872468,  0.08332881, -0.00969216,  0.11017407,\n",
              "           -0.19890597, -0.16480377,  0.14204735, -0.04710543,\n",
              "           -0.19650355,  0.12557672, -0.08334873, -0.13669498],\n",
              "          [-0.08911955, -0.02660539,  0.09656943,  0.03780296,\n",
              "            0.01750374,  0.03741892,  0.02637054,  0.16260333,\n",
              "           -0.1891342 ,  0.15027621,  0.12146039,  0.08685737,\n",
              "           -0.20524876,  0.10348427,  0.07112826, -0.02406617],\n",
              "          [-0.22101463,  0.06548027, -0.09660815, -0.11295629,\n",
              "           -0.05738249,  0.04516503,  0.1609366 , -0.10210988,\n",
              "            0.11206035, -0.07214146, -0.2115061 ,  0.07279816,\n",
              "            0.1976068 ,  0.06869777, -0.21773843, -0.08313154]],\n",
              " \n",
              "         [[-0.00085182, -0.10725388,  0.05339447,  0.1748469 ,\n",
              "           -0.07604785,  0.07097037, -0.04006259, -0.03417918,\n",
              "           -0.24399954, -0.04489437, -0.15091428,  0.11680367,\n",
              "           -0.12994134, -0.19214383,  0.18843582,  0.11354497],\n",
              "          [ 0.09941281,  0.23881386, -0.17914556,  0.14690652,\n",
              "           -0.12859306, -0.07010537, -0.18370293,  0.15762888,\n",
              "            0.02891432,  0.23090054, -0.03295344,  0.13938305,\n",
              "            0.09297816, -0.17130606,  0.19847986, -0.10050391],\n",
              "          [ 0.01001362, -0.06086392, -0.14803213, -0.07829326,\n",
              "           -0.0324956 ,  0.10955886, -0.16348031,  0.02769195,\n",
              "           -0.03306177, -0.01280448, -0.11936536, -0.19705367,\n",
              "            0.13876283,  0.19717288,  0.17687032, -0.02816627]]],\n",
              " \n",
              " \n",
              "        [[[ 0.0493806 , -0.31572387,  0.1426604 , -0.09906369,\n",
              "           -0.17736644, -0.05349315,  0.13024579,  0.1666748 ,\n",
              "            0.10085115, -0.22297725, -0.18651742,  0.15428513,\n",
              "           -0.0563795 ,  0.02727103,  0.00113688,  0.18169387],\n",
              "          [-0.05612422, -0.04463722,  0.10158637,  0.02034799,\n",
              "           -0.04356169, -0.2101895 , -0.17018501, -0.22338548,\n",
              "            0.2530376 , -0.06792978,  0.05991254,  0.14828086,\n",
              "           -0.14307164, -0.16819857, -0.03562242,  0.01753301],\n",
              "          [ 0.04963868,  0.03074271, -0.13571097,  0.04124813,\n",
              "            0.01700335, -0.16640438,  0.17027941,  0.06839474,\n",
              "            0.21936238, -0.06213649, -0.06355547, -0.14337613,\n",
              "           -0.01584296,  0.00528579,  0.00537152,  0.10210592]],\n",
              " \n",
              "         [[-0.05140112, -0.15347947, -0.14081039,  0.14350711,\n",
              "            0.11348263, -0.05704068, -0.05141038, -0.11814141,\n",
              "            0.13197526, -0.15579985,  0.07218798, -0.05397184,\n",
              "            0.10321277, -0.15163709, -0.21185453,  0.08340874],\n",
              "          [ 0.00863332, -0.06082493,  0.02451223,  0.11477598,\n",
              "           -0.01391207,  0.01549559,  0.06426721, -0.15842174,\n",
              "            0.14501594, -0.1160922 ,  0.0219058 , -0.04580669,\n",
              "           -0.15765241, -0.00695971, -0.20072833, -0.01137993],\n",
              "          [-0.09048332,  0.0176714 ,  0.09491708, -0.19198021,\n",
              "            0.13065112,  0.114476  ,  0.17840263, -0.15215692,\n",
              "           -0.11557245,  0.03238291, -0.2276151 , -0.16903313,\n",
              "            0.04529225,  0.03407687,  0.0682032 , -0.10355701]],\n",
              " \n",
              "         [[-0.06847084, -0.15718696, -0.08935364, -0.17332995,\n",
              "            0.17800313,  0.26030594, -0.044192  ,  0.1311623 ,\n",
              "           -0.2795981 ,  0.1562169 ,  0.18427148,  0.01678961,\n",
              "           -0.08110964,  0.12918246,  0.01725463, -0.1519887 ],\n",
              "          [ 0.05165625, -0.0190671 , -0.2067906 ,  0.21197367,\n",
              "            0.01090284, -0.06724587, -0.06223952,  0.14574426,\n",
              "           -0.18394075,  0.168713  ,  0.03368711, -0.01248228,\n",
              "           -0.16498642,  0.08012342,  0.23250371, -0.05262294],\n",
              "          [-0.05973453, -0.07663763,  0.08404816, -0.1713072 ,\n",
              "            0.04050018, -0.1591655 ,  0.09894413, -0.04939918,\n",
              "           -0.13664612, -0.01063126,  0.10737205, -0.16626121,\n",
              "            0.05853936, -0.11572332,  0.02995615,  0.09531486]]],\n",
              " \n",
              " \n",
              "        [[[-0.04140931, -0.21341294, -0.08082227, -0.19226591,\n",
              "           -0.08364857, -0.21376266,  0.01580726, -0.10672224,\n",
              "            0.03200867, -0.01274871, -0.06184819, -0.16093448,\n",
              "           -0.1096091 ,  0.06462003,  0.19344229,  0.09271497],\n",
              "          [-0.08837451, -0.02522307,  0.08338313, -0.12090321,\n",
              "           -0.05551589,  0.0747095 , -0.15052289,  0.02134184,\n",
              "            0.23300382, -0.13402009, -0.17946887,  0.15712893,\n",
              "           -0.06701358, -0.20373313, -0.05308695,  0.11407006],\n",
              "          [-0.18957704,  0.05393331, -0.17254472,  0.07661286,\n",
              "           -0.22689882,  0.06516548,  0.08544505,  0.00279893,\n",
              "           -0.14792672, -0.03024858, -0.03143303,  0.11407226,\n",
              "           -0.15279464, -0.05041821, -0.09559733,  0.14580607]],\n",
              " \n",
              "         [[-0.11816262, -0.01184934, -0.09030519, -0.18112871,\n",
              "            0.05099198,  0.12553895,  0.14718436, -0.06992386,\n",
              "           -0.210568  , -0.2241697 , -0.15440634,  0.01697279,\n",
              "           -0.12378131, -0.16561641,  0.02775168, -0.0138314 ],\n",
              "          [ 0.0821247 ,  0.02830783, -0.05978766,  0.20361859,\n",
              "            0.19300634, -0.03695393, -0.02986863, -0.16748573,\n",
              "           -0.22702526, -0.06883721,  0.1295097 ,  0.19081071,\n",
              "            0.00557641, -0.24159119, -0.16281788,  0.1295138 ],\n",
              "          [ 0.14142904, -0.03563416,  0.07737536,  0.05731314,\n",
              "           -0.07488195, -0.00160797,  0.15416765, -0.20986171,\n",
              "            0.03463988,  0.16333622,  0.01716708, -0.11926348,\n",
              "           -0.01168345,  0.1389889 , -0.12398989, -0.22070882]],\n",
              " \n",
              "         [[-0.02512087,  0.10214798, -0.10954835,  0.03830923,\n",
              "            0.10047054,  0.19152926,  0.01886278,  0.22411755,\n",
              "           -0.05378683,  0.14196683,  0.12093055,  0.1463205 ,\n",
              "            0.07151917, -0.1819884 ,  0.14760406, -0.04488141],\n",
              "          [ 0.10153462,  0.19047683,  0.01571959,  0.04095826,\n",
              "            0.06440078,  0.18185578,  0.01974289, -0.09333344,\n",
              "            0.09241575,  0.15480888,  0.22149985,  0.11724184,\n",
              "            0.02244529,  0.10658093,  0.2255021 ,  0.02369262],\n",
              "          [ 0.12882559,  0.21141668, -0.02995334,  0.10767746,\n",
              "           -0.02869586,  0.07096676,  0.05525681,  0.17453253,\n",
              "            0.03878678,  0.06659904,  0.10517017,  0.02863048,\n",
              "            0.17363091, -0.03079828, -0.17518528,  0.10638763]]]],\n",
              "       dtype=float32),\n",
              " array([ 0.00258859,  0.06509493, -0.02976452,  0.06239487, -0.03144287,\n",
              "        -0.09343985, -0.09636946,  0.03628981,  0.03264595,  0.04709627,\n",
              "        -0.02173181,  0.01207149,  0.01290322, -0.00562704,  0.02132414,\n",
              "        -0.09501752], dtype=float32),\n",
              " array([[[[-1.08861933e-02,  5.01905084e-02,  3.91726233e-02, ...,\n",
              "           -4.72420901e-02, -6.44270480e-02,  6.61866069e-02],\n",
              "          [ 2.14705616e-01, -1.21453799e-01,  4.65150960e-02, ...,\n",
              "            5.24737872e-02,  1.01187296e-01, -3.90206277e-02],\n",
              "          [ 1.23807959e-01,  1.52699858e-01,  7.84422606e-02, ...,\n",
              "           -3.08278780e-02,  1.00826271e-01,  3.94534208e-02],\n",
              "          ...,\n",
              "          [-4.79702987e-02,  1.06525242e-01,  9.77504179e-02, ...,\n",
              "           -1.41283348e-01, -4.22988459e-02,  3.04848850e-02],\n",
              "          [-1.75143462e-02, -1.50385812e-01, -2.04456836e-01, ...,\n",
              "            1.57670751e-02,  8.71607438e-02, -4.99072596e-02],\n",
              "          [-2.50654686e-02,  4.56194878e-02, -1.38593808e-01, ...,\n",
              "            9.10142586e-02, -2.58245748e-02,  1.10116757e-01]],\n",
              " \n",
              "         [[-8.33634660e-02, -1.28981322e-01, -5.26511967e-02, ...,\n",
              "            1.96763203e-02,  1.12804761e-02,  3.98153998e-02],\n",
              "          [ 2.01278076e-01, -1.28052793e-02,  2.28380471e-01, ...,\n",
              "           -1.55167595e-01, -1.11559801e-01,  3.83116193e-02],\n",
              "          [ 5.78557178e-02,  3.46005782e-02, -1.02297783e-01, ...,\n",
              "           -1.21406823e-01, -6.11420237e-02, -8.68688449e-02],\n",
              "          ...,\n",
              "          [-1.73287783e-02,  3.32056102e-03,  1.43403206e-02, ...,\n",
              "           -2.93994267e-02, -1.12200022e-01, -3.47522460e-02],\n",
              "          [ 2.75113374e-01, -2.01149732e-02, -2.49901377e-02, ...,\n",
              "            1.68500803e-02,  1.83407560e-01, -3.29541378e-02],\n",
              "          [-1.80009112e-01,  5.32236472e-02,  3.89433987e-02, ...,\n",
              "           -1.43012237e-02,  5.39675243e-02,  1.09268390e-02]],\n",
              " \n",
              "         [[-6.93741739e-02,  8.11677575e-02,  7.76647925e-02, ...,\n",
              "           -6.48846105e-02,  8.07130635e-02,  7.30806589e-02],\n",
              "          [-1.25562266e-01,  2.91999206e-02, -3.81721929e-02, ...,\n",
              "            8.27689692e-02, -9.96485502e-02, -7.49162026e-03],\n",
              "          [-1.21290982e-01, -2.28070952e-02, -1.06865965e-01, ...,\n",
              "            7.26310760e-02,  8.01865682e-02,  1.57341398e-02],\n",
              "          ...,\n",
              "          [ 2.77110282e-02, -8.51276219e-02,  6.38028383e-02, ...,\n",
              "           -1.09681478e-02,  4.41649184e-02,  1.03494033e-01],\n",
              "          [-9.69420746e-02, -2.35005505e-02,  1.44344896e-01, ...,\n",
              "           -9.90990177e-02,  2.49100775e-02,  8.44140947e-02],\n",
              "          [ 1.06063165e-01,  3.25329714e-02,  5.36338203e-02, ...,\n",
              "            3.41435857e-02,  1.76640321e-03, -2.18397826e-02]]],\n",
              " \n",
              " \n",
              "        [[[ 5.93063273e-02,  2.58274414e-02, -7.51267001e-02, ...,\n",
              "           -4.81214561e-02,  5.29050566e-02, -3.00795585e-02],\n",
              "          [ 3.22395653e-01, -1.19983600e-02,  1.04962312e-01, ...,\n",
              "           -1.94760978e-01, -8.69701579e-02,  7.55249560e-02],\n",
              "          [ 8.05099979e-02, -1.53947473e-02, -2.46343296e-02, ...,\n",
              "            5.18731959e-02, -7.65101984e-02, -5.89804538e-02],\n",
              "          ...,\n",
              "          [ 1.80347085e-01,  2.56545339e-02, -5.84281795e-02, ...,\n",
              "            8.10455158e-03, -3.16032581e-02,  1.13895880e-02],\n",
              "          [ 2.41479315e-02, -2.09676828e-02,  5.72355911e-02, ...,\n",
              "            4.99019064e-02,  3.49034905e-04, -3.80210429e-02],\n",
              "          [ 2.72989012e-02, -9.44213346e-02,  2.42659319e-02, ...,\n",
              "            5.93092218e-02, -1.02075264e-01,  8.73334110e-02]],\n",
              " \n",
              "         [[-2.40222327e-02, -1.23856373e-01,  2.07557734e-02, ...,\n",
              "           -6.63490444e-02, -6.15854040e-02, -1.09124690e-01],\n",
              "          [ 2.95446724e-01, -7.73648173e-02,  2.00998083e-01, ...,\n",
              "           -3.76494706e-01, -1.15602963e-01,  3.13922428e-02],\n",
              "          [-1.30793989e-01, -1.30511850e-01, -1.28329232e-01, ...,\n",
              "           -6.45600036e-02, -2.84764525e-02, -3.29848193e-02],\n",
              "          ...,\n",
              "          [-5.64776175e-02, -1.24231741e-01,  9.03908089e-02, ...,\n",
              "           -6.39312044e-02,  4.06861939e-02,  1.22934029e-01],\n",
              "          [ 3.91049266e-01, -2.54613608e-01,  2.72981763e-01, ...,\n",
              "            1.34431571e-01, -1.70853396e-03,  1.20640248e-01],\n",
              "          [-2.72197872e-02,  5.05221821e-02, -1.34978488e-01, ...,\n",
              "            1.11675397e-01,  5.72121777e-02,  8.56293589e-02]],\n",
              " \n",
              "         [[-5.24877347e-02,  4.98851314e-02, -5.32166511e-02, ...,\n",
              "            3.56472805e-02,  1.30771957e-02,  1.05191313e-01],\n",
              "          [ 7.91892484e-02,  1.35233607e-02,  8.56865719e-02, ...,\n",
              "           -3.02817021e-02, -1.73445508e-01, -1.53872117e-01],\n",
              "          [-9.76803228e-02, -7.04920515e-02,  7.22497329e-02, ...,\n",
              "            8.17572400e-02, -1.06609743e-02,  1.71176251e-02],\n",
              "          ...,\n",
              "          [-5.10501117e-02,  5.45682982e-02, -3.28572723e-03, ...,\n",
              "           -2.47875210e-02, -6.88128397e-02,  8.84883627e-02],\n",
              "          [ 1.57911882e-01, -1.01473577e-01,  9.22784433e-02, ...,\n",
              "           -3.45422365e-02,  5.50393984e-02,  1.57180578e-01],\n",
              "          [ 8.55209082e-02,  2.63912864e-02,  2.03413945e-02, ...,\n",
              "            5.07915094e-02,  2.48182267e-02, -6.59720972e-03]]],\n",
              " \n",
              " \n",
              "        [[[-1.51123507e-02,  7.46857002e-02,  1.75975338e-02, ...,\n",
              "            1.05780408e-01, -9.03039798e-02, -6.76898635e-04],\n",
              "          [ 3.79078597e-01,  9.39406604e-02,  1.02157548e-01, ...,\n",
              "           -4.30775613e-01, -3.56436856e-02, -1.25890553e-01],\n",
              "          [-4.60771844e-02,  1.48651293e-02,  1.72986791e-01, ...,\n",
              "           -7.96843693e-02,  1.34439036e-01, -9.42264348e-02],\n",
              "          ...,\n",
              "          [-7.52844242e-03, -6.77963113e-03, -4.54551401e-03, ...,\n",
              "           -1.84601441e-01,  4.02350910e-02, -7.78708607e-02],\n",
              "          [ 1.43623546e-01, -8.39317366e-02, -1.20968662e-01, ...,\n",
              "            4.58308384e-02,  7.80534744e-02,  4.90031429e-02],\n",
              "          [-8.81273150e-02, -1.12422584e-02,  2.78680250e-02, ...,\n",
              "            9.92995426e-02, -1.11482725e-01, -6.85789213e-02]],\n",
              " \n",
              "         [[ 1.17444009e-01,  4.51117977e-02,  3.72261144e-02, ...,\n",
              "            3.60656977e-02,  1.07560955e-01, -1.24799922e-01],\n",
              "          [ 3.38760853e-01,  9.24836174e-02,  1.32505558e-02, ...,\n",
              "           -2.10355625e-01,  4.23132330e-02, -1.26920473e-02],\n",
              "          [ 1.87117071e-03,  1.07656233e-01, -8.63245279e-02, ...,\n",
              "           -6.13444811e-03, -3.14791501e-02, -7.13843331e-02],\n",
              "          ...,\n",
              "          [-1.27525300e-01, -1.20134786e-01, -3.76641639e-02, ...,\n",
              "           -1.33157268e-01, -1.59525163e-02, -8.29113796e-02],\n",
              "          [ 2.49782041e-01, -9.58183408e-03,  2.22192705e-01, ...,\n",
              "           -7.87903089e-03,  1.49216488e-01, -1.05525576e-01],\n",
              "          [-1.40665606e-01, -9.80742052e-02,  5.08788340e-02, ...,\n",
              "            3.96200269e-02,  2.90517043e-02, -1.11779552e-02]],\n",
              " \n",
              "         [[-1.12956479e-01, -5.74793406e-02,  9.66005474e-02, ...,\n",
              "            9.20141265e-02, -8.28010738e-02, -6.88421354e-02],\n",
              "          [ 6.56828377e-03,  1.10356905e-01, -1.73621416e-01, ...,\n",
              "            5.34824990e-02, -1.23860404e-01, -8.58785138e-02],\n",
              "          [ 3.66671905e-02, -1.00507196e-02, -1.19678497e-01, ...,\n",
              "            6.21444061e-02,  5.31832129e-03,  1.28300101e-01],\n",
              "          ...,\n",
              "          [ 1.11329434e-02, -8.23574588e-02, -1.41744837e-01, ...,\n",
              "           -8.31225663e-02, -5.41504994e-02, -5.17390743e-02],\n",
              "          [ 1.60319939e-01, -3.68608907e-02,  2.89389849e-01, ...,\n",
              "            2.07756311e-02,  1.31219178e-01,  9.84977931e-02],\n",
              "          [ 3.75836529e-02, -4.45545353e-02, -9.05101448e-02, ...,\n",
              "           -1.30470777e-02,  1.35962861e-02,  1.04303539e-01]]]],\n",
              "       dtype=float32),\n",
              " array([-0.02750864, -0.04277912, -0.00541971,  0.01032392, -0.03446163,\n",
              "        -0.04258003, -0.00839936, -0.03810481, -0.0484255 , -0.00271349,\n",
              "         0.05164094, -0.06497408, -0.08101346,  0.00283635,  0.0948559 ,\n",
              "        -0.07758386, -0.04092631,  0.03211056,  0.00163169, -0.04517806,\n",
              "         0.00916636, -0.01741   , -0.03273792, -0.04946571, -0.03383309,\n",
              "        -0.03217982,  0.03524986, -0.04688475, -0.06497488, -0.03069756,\n",
              "         0.02312813, -0.02143103], dtype=float32),\n",
              " array([[[[-0.0101611 , -0.00790617,  0.01425773, ..., -0.01632976,\n",
              "            0.0618863 ,  0.00850406],\n",
              "          [-0.03181212,  0.00268689, -0.05305006, ...,  0.04645156,\n",
              "           -0.01595196, -0.04928033],\n",
              "          [-0.04056378, -0.04153441, -0.16145958, ..., -0.07568461,\n",
              "            0.04664865, -0.05285687],\n",
              "          ...,\n",
              "          [ 0.02609055, -0.02311322,  0.14339368, ..., -0.10362966,\n",
              "           -0.12487075, -0.05076878],\n",
              "          [ 0.05161123, -0.12732689,  0.07035807, ..., -0.03824843,\n",
              "            0.03041208,  0.00939673],\n",
              "          [ 0.01769387, -0.03288636, -0.0037378 , ..., -0.02992222,\n",
              "           -0.046219  ,  0.05248574]],\n",
              " \n",
              "         [[-0.06985489,  0.1612906 , -0.06613959, ...,  0.02410812,\n",
              "            0.02836563, -0.06820801],\n",
              "          [-0.01585035, -0.00750984, -0.044556  , ..., -0.03578629,\n",
              "            0.04147393,  0.01951765],\n",
              "          [-0.00062201, -0.0245684 , -0.09424561, ..., -0.06756999,\n",
              "            0.0162602 , -0.13576978],\n",
              "          ...,\n",
              "          [-0.02871645,  0.00594454,  0.01804226, ...,  0.02444379,\n",
              "           -0.10236638, -0.05213202],\n",
              "          [-0.07868824, -0.09441135, -0.06133998, ..., -0.06132799,\n",
              "            0.04953435, -0.07862984],\n",
              "          [ 0.02966126, -0.08545223, -0.06847667, ..., -0.01496073,\n",
              "           -0.00579748, -0.08753542]],\n",
              " \n",
              "         [[-0.07184326,  0.05177965, -0.13428602, ..., -0.07376826,\n",
              "           -0.08661798, -0.01260236],\n",
              "          [ 0.08049252,  0.064035  , -0.06925862, ..., -0.06719054,\n",
              "           -0.0625661 ,  0.07437578],\n",
              "          [-0.08230024, -0.01706891, -0.05230429, ..., -0.01642373,\n",
              "           -0.04932659, -0.05792851],\n",
              "          ...,\n",
              "          [-0.05345825, -0.13022691,  0.00605062, ..., -0.04732386,\n",
              "           -0.00507565, -0.01814679],\n",
              "          [-0.09136915, -0.16698632,  0.08272402, ..., -0.05002675,\n",
              "            0.01215095, -0.04676621],\n",
              "          [ 0.01571622, -0.09625022, -0.036467  , ...,  0.01448012,\n",
              "           -0.04926015,  0.01655926]]],\n",
              " \n",
              " \n",
              "        [[[-0.07792193, -0.06794672,  0.01576366, ..., -0.02058253,\n",
              "           -0.06798491,  0.0669959 ],\n",
              "          [-0.03259603, -0.02954322,  0.07832836, ...,  0.00585171,\n",
              "            0.03355305, -0.03125996],\n",
              "          [ 0.05716958, -0.00956428, -0.15850349, ..., -0.13340439,\n",
              "            0.05435979, -0.00529512],\n",
              "          ...,\n",
              "          [ 0.00242772,  0.03249256,  0.00930732, ..., -0.12036268,\n",
              "           -0.1401269 , -0.1016159 ],\n",
              "          [ 0.03972867, -0.1093836 , -0.04874247, ...,  0.0311476 ,\n",
              "           -0.07541067, -0.08967756],\n",
              "          [ 0.05778255,  0.01867857,  0.09777907, ..., -0.09992472,\n",
              "           -0.09149106,  0.05870859]],\n",
              " \n",
              "         [[ 0.02239633,  0.07085916,  0.01296374, ..., -0.05298508,\n",
              "            0.16734228, -0.0254469 ],\n",
              "          [-0.0292996 , -0.07194453, -0.03931879, ...,  0.05158715,\n",
              "           -0.07051931,  0.03210852],\n",
              "          [-0.09339719,  0.12012324,  0.16191775, ..., -0.0612434 ,\n",
              "            0.0627573 , -0.12294288],\n",
              "          ...,\n",
              "          [ 0.07410653, -0.07043925, -0.11939564, ..., -0.13627794,\n",
              "           -0.15087809,  0.05571987],\n",
              "          [ 0.04377514, -0.08215431,  0.04768874, ..., -0.08022013,\n",
              "            0.11245719, -0.06145179],\n",
              "          [ 0.07374346, -0.0159107 , -0.01953479, ...,  0.00454247,\n",
              "           -0.02259045, -0.01860926]],\n",
              " \n",
              "         [[-0.0480313 ,  0.1121779 , -0.10275597, ...,  0.04825199,\n",
              "           -0.02945866,  0.09230656],\n",
              "          [ 0.05161139, -0.04376761, -0.03471683, ...,  0.04941719,\n",
              "            0.04130558,  0.00501298],\n",
              "          [-0.00421502, -0.03129062,  0.1034739 , ..., -0.08259697,\n",
              "           -0.01997313, -0.01450586],\n",
              "          ...,\n",
              "          [-0.06716612,  0.06279835, -0.06807525, ..., -0.00373629,\n",
              "            0.06497996, -0.07217446],\n",
              "          [-0.02979358,  0.04400397, -0.05461818, ...,  0.0420789 ,\n",
              "           -0.02992778, -0.0917954 ],\n",
              "          [ 0.08503943, -0.06160726,  0.01444956, ..., -0.0019655 ,\n",
              "           -0.03828383, -0.03040553]]],\n",
              " \n",
              " \n",
              "        [[[ 0.11213703, -0.18847564,  0.03180786, ...,  0.03405731,\n",
              "           -0.02057007,  0.01796424],\n",
              "          [-0.04325666,  0.06679276, -0.0281381 , ...,  0.06120803,\n",
              "            0.03897887,  0.06813193],\n",
              "          [-0.03216149, -0.05881945,  0.00172609, ..., -0.16920018,\n",
              "           -0.02542829,  0.03283879],\n",
              "          ...,\n",
              "          [-0.04971543, -0.02729169,  0.0444594 , ...,  0.00389245,\n",
              "            0.00211606, -0.06470253],\n",
              "          [-0.05024416, -0.04742814, -0.08041163, ..., -0.06834294,\n",
              "            0.05405279,  0.00552206],\n",
              "          [ 0.04467026,  0.10685993,  0.19509651, ..., -0.10502072,\n",
              "            0.02289118, -0.03022775]],\n",
              " \n",
              "         [[ 0.0364088 ,  0.04865477,  0.08508933, ..., -0.03640368,\n",
              "            0.18506524,  0.03952534],\n",
              "          [-0.06391846,  0.05981423,  0.00194475, ..., -0.02032534,\n",
              "           -0.05720446, -0.05626142],\n",
              "          [-0.05690103, -0.03526624,  0.17391072, ..., -0.07684221,\n",
              "            0.00851837, -0.10613188],\n",
              "          ...,\n",
              "          [ 0.08855679,  0.02485191, -0.0124695 , ..., -0.01177009,\n",
              "           -0.16061182,  0.03746136],\n",
              "          [-0.05571322,  0.00388543, -0.01150156, ..., -0.03543817,\n",
              "            0.12161416, -0.01485737],\n",
              "          [ 0.11057636, -0.01571956,  0.03096625, ..., -0.08852106,\n",
              "           -0.04931316,  0.02088538]],\n",
              " \n",
              "         [[-0.1426668 ,  0.09040464,  0.06284785, ...,  0.08108792,\n",
              "            0.02180802,  0.07168081],\n",
              "          [-0.05893487, -0.06803069, -0.02113087, ..., -0.07010096,\n",
              "            0.06609746,  0.0276428 ],\n",
              "          [-0.09116096, -0.0808012 ,  0.13532424, ..., -0.10048613,\n",
              "            0.07113   , -0.06041759],\n",
              "          ...,\n",
              "          [-0.06674518,  0.10478451, -0.02904509, ..., -0.06798577,\n",
              "           -0.03373638, -0.01075416],\n",
              "          [-0.02379115, -0.04940556, -0.09351628, ...,  0.02080672,\n",
              "            0.02671869, -0.04052867],\n",
              "          [-0.07169119, -0.06885587, -0.08100428, ..., -0.00029513,\n",
              "            0.05782438, -0.07431617]]]], dtype=float32),\n",
              " array([-0.04736576, -0.06292881, -0.04002281, -0.02637298, -0.0519745 ,\n",
              "        -0.07499909, -0.0634216 , -0.03324316, -0.13586734, -0.07323259,\n",
              "        -0.11490995, -0.09398489, -0.01479972, -0.07000666, -0.03715025,\n",
              "        -0.06730875, -0.05034104, -0.07094351,  0.00189929, -0.01391762,\n",
              "        -0.01080511, -0.00767684, -0.08332593, -0.08462493, -0.0289533 ,\n",
              "        -0.11921872, -0.03799381, -0.03628815, -0.03859737, -0.03341347,\n",
              "        -0.04057802, -0.01326786, -0.02575525,  0.00601229, -0.0470731 ,\n",
              "        -0.04175366,  0.01632898, -0.02998277, -0.06369378, -0.04817748,\n",
              "         0.01630259, -0.06657393, -0.02142508, -0.049956  , -0.07779945,\n",
              "        -0.05049285, -0.01546685, -0.0764537 , -0.03206791,  0.01940887,\n",
              "        -0.10344668,  0.00126449, -0.05992368, -0.01204756, -0.06462685,\n",
              "         0.05562161, -0.03718335, -0.02453628, -0.06607135, -0.01828592,\n",
              "        -0.01090008, -0.02961851, -0.04776448, -0.02519721], dtype=float32),\n",
              " array([[-0.02156935, -0.00485899, -0.04593839, ..., -0.06261214,\n",
              "          0.00795087,  0.08138146],\n",
              "        [-0.01506856, -0.00155434,  0.07280833, ...,  0.09278908,\n",
              "         -0.0169415 , -0.08264825],\n",
              "        [ 0.00069374,  0.01525015,  0.11058678, ...,  0.10416345,\n",
              "         -0.01591315, -0.04578106],\n",
              "        ...,\n",
              "        [-0.01978668, -0.0156214 , -0.03808788, ..., -0.03886779,\n",
              "         -0.01837786, -0.035322  ],\n",
              "        [ 0.0018261 , -0.00096613,  0.00711191, ..., -0.0107705 ,\n",
              "         -0.01557264, -0.01552141],\n",
              "        [ 0.00679367,  0.00637791, -0.04558755, ..., -0.02206814,\n",
              "          0.00328635,  0.02622206]], dtype=float32),\n",
              " array([-0.00531755, -0.00599704,  0.08498215, -0.0050008 ,  0.01300661,\n",
              "        -0.0059887 , -0.00544238, -0.0185938 , -0.00555761, -0.03303601,\n",
              "        -0.00599895, -0.00577662, -0.00595586, -0.00600395, -0.00548664,\n",
              "         0.04798001, -0.01516181, -0.0135141 ,  0.07651733, -0.00538439,\n",
              "        -0.00598284,  0.07600632,  0.08551406,  0.08233579,  0.00134333,\n",
              "         0.07240248, -0.01833433, -0.00681961, -0.01884769, -0.01859666,\n",
              "        -0.00600313, -0.00489891, -0.00888455, -0.00539327, -0.04494555,\n",
              "        -0.00627277, -0.0137452 ,  0.06977075, -0.00690804, -0.01321745,\n",
              "        -0.01783131, -0.00599146, -0.00600303,  0.06637561, -0.02247556,\n",
              "        -0.00600311, -0.00600077,  0.07075457, -0.00530862, -0.00543901,\n",
              "        -0.00600303, -0.00600056,  0.02547102, -0.00600123, -0.03498944,\n",
              "        -0.00898713, -0.00535207, -0.01064654, -0.00636957,  0.07171211,\n",
              "        -0.02133913, -0.01409468, -0.00600306, -0.00488017,  0.12113252,\n",
              "        -0.04108341, -0.0311157 , -0.0051117 , -0.00599799, -0.01546088,\n",
              "        -0.03982201, -0.00600082,  0.04886666, -0.00698104, -0.01057898,\n",
              "        -0.01845311, -0.04451795, -0.00533544, -0.00540633, -0.00477987,\n",
              "        -0.00599217, -0.03896212,  0.00166449, -0.00602972, -0.020303  ,\n",
              "        -0.00625909,  0.06836107, -0.00883701, -0.00600262, -0.00146223,\n",
              "        -0.01976459,  0.03362743, -0.00938158, -0.00599523, -0.00832265,\n",
              "        -0.02944335, -0.00538518,  0.06770662,  0.01707507, -0.01180253,\n",
              "        -0.00600059, -0.00600321,  0.07997946,  0.04393948, -0.02848158,\n",
              "        -0.00600016, -0.00542608, -0.00555775, -0.00572457,  0.07541155,\n",
              "         0.01441819, -0.00600255,  0.06856836, -0.00665491,  0.01201624,\n",
              "         0.02649884, -0.0060044 , -0.00555825, -0.00600455,  0.0786116 ,\n",
              "        -0.01368086, -0.0580855 , -0.00711966, -0.00609322,  0.0780021 ,\n",
              "         0.06099765, -0.00590793, -0.00485874], dtype=float32),\n",
              " array([[ 0.00492957],\n",
              "        [-0.04975232],\n",
              "        [ 0.28670654],\n",
              "        [ 0.09314483],\n",
              "        [-0.22380506],\n",
              "        [-0.02062762],\n",
              "        [ 0.14887232],\n",
              "        [-0.03572864],\n",
              "        [ 0.05906649],\n",
              "        [-0.09116435],\n",
              "        [-0.06587969],\n",
              "        [-0.01774199],\n",
              "        [-0.0034817 ],\n",
              "        [-0.16884112],\n",
              "        [ 0.01273971],\n",
              "        [-0.30802345],\n",
              "        [-0.01408489],\n",
              "        [-0.30469403],\n",
              "        [ 0.23156561],\n",
              "        [ 0.07507544],\n",
              "        [-0.01484134],\n",
              "        [ 0.26160765],\n",
              "        [ 0.22583604],\n",
              "        [ 0.23944417],\n",
              "        [-0.01213566],\n",
              "        [ 0.261713  ],\n",
              "        [-0.17065752],\n",
              "        [-0.00421719],\n",
              "        [-0.1717409 ],\n",
              "        [-0.00527131],\n",
              "        [-0.10931146],\n",
              "        [ 0.17406091],\n",
              "        [-0.23520696],\n",
              "        [ 0.10169606],\n",
              "        [ 0.09041532],\n",
              "        [ 0.12326419],\n",
              "        [-0.01819234],\n",
              "        [ 0.10216664],\n",
              "        [-0.09038762],\n",
              "        [ 0.10249484],\n",
              "        [-0.07287337],\n",
              "        [-0.04894316],\n",
              "        [-0.16838382],\n",
              "        [-0.26800427],\n",
              "        [ 0.26377645],\n",
              "        [-0.18338951],\n",
              "        [-0.09333009],\n",
              "        [ 0.13220693],\n",
              "        [ 0.00329148],\n",
              "        [ 0.11876109],\n",
              "        [-0.18230121],\n",
              "        [-0.08918856],\n",
              "        [-0.316679  ],\n",
              "        [-0.11580326],\n",
              "        [ 0.10718121],\n",
              "        [-0.04637032],\n",
              "        [ 0.05054475],\n",
              "        [ 0.01421953],\n",
              "        [-0.16208887],\n",
              "        [ 0.14204498],\n",
              "        [-0.19829905],\n",
              "        [ 0.17898323],\n",
              "        [-0.18485317],\n",
              "        [ 0.14915326],\n",
              "        [ 0.17434575],\n",
              "        [ 0.09596608],\n",
              "        [ 0.02925464],\n",
              "        [-0.19408026],\n",
              "        [-0.05670279],\n",
              "        [-0.16413787],\n",
              "        [-0.03147538],\n",
              "        [-0.15418199],\n",
              "        [ 0.22779997],\n",
              "        [-0.15228699],\n",
              "        [-0.28037107],\n",
              "        [-0.1413661 ],\n",
              "        [ 0.00416995],\n",
              "        [ 0.04787042],\n",
              "        [ 0.05076848],\n",
              "        [-0.00426025],\n",
              "        [-0.05198392],\n",
              "        [-0.05354165],\n",
              "        [ 0.0195368 ],\n",
              "        [-0.08608753],\n",
              "        [-0.19502427],\n",
              "        [ 0.05780197],\n",
              "        [ 0.08814216],\n",
              "        [-0.12361188],\n",
              "        [-0.15598902],\n",
              "        [ 0.0992432 ],\n",
              "        [-0.00249233],\n",
              "        [-0.29436943],\n",
              "        [-0.10140224],\n",
              "        [-0.03991506],\n",
              "        [-0.24171935],\n",
              "        [-0.21484235],\n",
              "        [ 0.0773802 ],\n",
              "        [ 0.1403242 ],\n",
              "        [-0.26143372],\n",
              "        [ 0.05865375],\n",
              "        [ 0.0684398 ],\n",
              "        [-0.19702514],\n",
              "        [ 0.12058897],\n",
              "        [ 0.18822077],\n",
              "        [ 0.11681984],\n",
              "        [-0.07148138],\n",
              "        [ 0.1004763 ],\n",
              "        [ 0.07763375],\n",
              "        [ 0.00646228],\n",
              "        [ 0.23923293],\n",
              "        [ 0.01330806],\n",
              "        [-0.15201497],\n",
              "        [ 0.16941571],\n",
              "        [ 0.12094392],\n",
              "        [-0.3078733 ],\n",
              "        [ 0.07056218],\n",
              "        [-0.1605563 ],\n",
              "        [ 0.04965607],\n",
              "        [-0.20304191],\n",
              "        [ 0.16090317],\n",
              "        [ 0.02997012],\n",
              "        [-0.05412311],\n",
              "        [ 0.05756404],\n",
              "        [-0.00834541],\n",
              "        [ 0.15923873],\n",
              "        [ 0.29605904],\n",
              "        [-0.0107821 ],\n",
              "        [-0.22729178]], dtype=float32),\n",
              " array([0.00935132], dtype=float32)]"
            ]
          },
          "metadata": {},
          "execution_count": 48
        }
      ]
    },
    {
      "cell_type": "markdown",
      "metadata": {
        "id": "HuxjW35RFCZ6"
      },
      "source": [
        "<h3>Evaluasi Model</h3>"
      ]
    },
    {
      "cell_type": "code",
      "metadata": {
        "id": "rN710zUjRAA8"
      },
      "source": [
        "%matplotlib inline\n",
        "import matplotlib.pyplot as plt\n",
        "import numpy as np\n",
        "from keras.models import load_model\n",
        "from sklearn.metrics import classification_report, confusion_matrix"
      ],
      "execution_count": 51,
      "outputs": []
    },
    {
      "cell_type": "code",
      "metadata": {
        "colab": {
          "base_uri": "https://localhost:8080/",
          "height": 316
        },
        "id": "1AM3ms3zE_AU",
        "outputId": "59046892-2e75-452a-9fff-2cd99459a9ba"
      },
      "source": [
        "plt.style.use(\"ggplot\")\n",
        "plt.figure()\n",
        "plt.plot(np.arange(0, 25), H.history[\"loss\"], label=\"train_loss\")\n",
        "plt.plot(np.arange(0, 25), H.history[\"val_loss\"], label=\"val_loss\")\n",
        "plt.title(\"Loss Plot\")\n",
        "plt.xlabel(\"Epoch #\")\n",
        "plt.ylabel(\"Loss\")\n",
        "plt.legend()\n",
        "plt.show()\n",
        "\n",
        "plt.savefig('loss-plot-cancer.png')"
      ],
      "execution_count": 53,
      "outputs": [
        {
          "output_type": "display_data",
          "data": {
            "image/png": "[encoded data removed]",
            "text/plain": [
              "<Figure size 432x288 with 1 Axes>"
            ]
          },
          "metadata": {}
        },
        {
          "output_type": "display_data",
          "data": {
            "text/plain": [
              "<Figure size 432x288 with 0 Axes>"
            ]
          },
          "metadata": {}
        }
      ]
    },
    {
      "cell_type": "code",
      "metadata": {
        "colab": {
          "base_uri": "https://localhost:8080/",
          "height": 316
        },
        "id": "q1SJWudcFEDL",
        "outputId": "637ea1bb-e763-422d-c108-8e25c1b6bc66"
      },
      "source": [
        "plt.style.use(\"ggplot\")\n",
        "plt.figure()\n",
        "plt.plot(np.arange(0, 25), H.history[\"acc\"], label=\"train_acc\")\n",
        "plt.plot(np.arange(0, 25), H.history[\"val_acc\"], label=\"val_acc\")\n",
        "plt.title(\"Accuracy Plot\")\n",
        "plt.xlabel(\"Epoch #\")\n",
        "plt.ylabel(\"Acc\")\n",
        "plt.legend()\n",
        "plt.show()\n",
        "\n",
        "plt.savefig('accuracy-plot-cancer.png')"
      ],
      "execution_count": 54,
      "outputs": [
        {
          "output_type": "display_data",
          "data": {
            "image/png": "[encoded data removed]",
            "text/plain": [
              "<Figure size 432x288 with 1 Axes>"
            ]
          },
          "metadata": {}
        },
        {
          "output_type": "display_data",
          "data": {
            "text/plain": [
              "<Figure size 432x288 with 0 Axes>"
            ]
          },
          "metadata": {}
        }
      ]
    },
    {
      "cell_type": "code",
      "metadata": {
        "colab": {
          "base_uri": "https://localhost:8080/"
        },
        "id": "H_8mB3igFG-x",
        "outputId": "c4853923-bdd0-4f0d-c6ee-87d3895b598c"
      },
      "source": [
        "from sklearn.metrics import classification_report\n",
        "\n",
        "pred = model.predict(x_val)\n",
        "labels = (pred > 0.5).astype(np.int)\n",
        "\n",
        "print(classification_report(y_val, labels))"
      ],
      "execution_count": 55,
      "outputs": [
        {
          "output_type": "stream",
          "name": "stdout",
          "text": [
            "              precision    recall  f1-score   support\n",
            "\n",
            "           0       0.84      0.84      0.84       360\n",
            "           1       0.81      0.81      0.81       300\n",
            "\n",
            "    accuracy                           0.83       660\n",
            "   macro avg       0.82      0.82      0.82       660\n",
            "weighted avg       0.83      0.83      0.83       660\n",
            "\n"
          ]
        }
      ]
    }
  ]
}