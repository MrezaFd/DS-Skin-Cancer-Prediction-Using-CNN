{
  "nbformat": 4,
  "nbformat_minor": 0,
  "metadata": {
    "colab": {
      "name": "convolutional_neural_network.ipynb",
      "provenance": [],
      "include_colab_link": true
    },
    "kernelspec": {
      "name": "python3",
      "display_name": "Python 3"
    },
    "language_info": {
      "name": "python"
    },
    "accelerator": "GPU"
  },
  "cells": [
    {
      "cell_type": "markdown",
      "metadata": {
        "id": "view-in-github",
        "colab_type": "text"
      },
      "source": [
        "<a href=\"https://colab.research.google.com/github/MrezaFd/Tugas-Besar-ML-059-055-/blob/main/Tugas_5_(3model)convolutional_neural_network.ipynb\" target=\"_parent\"><img src=\"https://colab.research.google.com/assets/colab-badge.svg\" alt=\"Open In Colab\"/></a>"
      ]
    },
    {
      "cell_type": "code",
      "metadata": {
        "id": "pg3l1ejwCF9P"
      },
      "source": [
        "import numpy as np\n",
        "import pandas as pd\n",
        "import matplotlib.pyplot as plt"
      ],
      "execution_count": 1,
      "outputs": []
    },
    {
      "cell_type": "code",
      "metadata": {
        "id": "_yhI15_dBJI1",
        "outputId": "ef536c61-ab8e-4090-8ce2-0a1551875c49",
        "colab": {
          "resources": {
            "http://localhost:8080/nbextensions/google.colab/files.js": {
              "data": "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",
              "ok": true,
              "headers": [
                [
                  "content-type",
                  "application/javascript"
                ]
              ],
              "status": 200,
              "status_text": ""
            }
          },
          "base_uri": "https://localhost:8080/",
          "height": 91
        }
      },
      "source": [
        "from google.colab import files #import lib\n",
        "files.upload()"
      ],
      "execution_count": 2,
      "outputs": [
        {
          "output_type": "display_data",
          "data": {
            "text/html": [
              "\n",
              "     <input type=\"file\" id=\"files-f0347755-e115-4187-9bb8-d1828ed964ce\" name=\"files[]\" multiple disabled\n",
              "        style=\"border:none\" />\n",
              "     <output id=\"result-f0347755-e115-4187-9bb8-d1828ed964ce\">\n",
              "      Upload widget is only available when the cell has been executed in the\n",
              "      current browser session. Please rerun this cell to enable.\n",
              "      </output>\n",
              "      <script src=\"/nbextensions/google.colab/files.js\"></script> "
            ],
            "text/plain": [
              "<IPython.core.display.HTML object>"
            ]
          },
          "metadata": {}
        },
        {
          "output_type": "stream",
          "name": "stdout",
          "text": [
            "Saving kaggle.json to kaggle.json\n"
          ]
        },
        {
          "output_type": "execute_result",
          "data": {
            "text/plain": [
              "{'kaggle.json': b'{\"username\":\"rezafdz\",\"key\":\"fd16295d7b817e274541292110c8f784\"}'}"
            ]
          },
          "metadata": {},
          "execution_count": 2
        }
      ]
    },
    {
      "cell_type": "code",
      "metadata": {
        "id": "T-PttF09A1jP"
      },
      "source": [
        "!mkdir -p ~/.kaggle #membuat directory bernama kaggle \n",
        "!cp kaggle.json ~/.kaggle/ #copy file kaggle.json upload tadi ke directory baru\n",
        "!chmod 600 ~/.kaggle/kaggle.json #berikan izin untuk file kaggle.jsonv"
      ],
      "execution_count": 3,
      "outputs": []
    },
    {
      "cell_type": "code",
      "metadata": {
        "id": "OvexdoKwBZ5V",
        "outputId": "60cce84e-6197-4128-9a28-3d7e4a8fd748",
        "colab": {
          "base_uri": "https://localhost:8080/"
        }
      },
      "source": [
        "#Unduh dataset\n",
        "!kaggle datasets download -d fanconic/skin-cancer-malignant-vs-benign"
      ],
      "execution_count": 4,
      "outputs": [
        {
          "output_type": "stream",
          "name": "stdout",
          "text": [
            "Downloading skin-cancer-malignant-vs-benign.zip to /content\n",
            " 98% 317M/325M [00:04<00:00, 83.4MB/s]\n",
            "100% 325M/325M [00:04<00:00, 69.9MB/s]\n"
          ]
        }
      ]
    },
    {
      "cell_type": "code",
      "metadata": {
        "id": "4rtnNrFsEDIf",
        "colab": {
          "base_uri": "https://localhost:8080/"
        },
        "outputId": "07df2e76-19f0-4838-fd45-394aad8b0e37"
      },
      "source": [
        "from zipfile import ZipFile\n",
        "file_name = \"skin-cancer-malignant-vs-benign.zip\"\n",
        "\n",
        "with ZipFile(file_name,'r') as zip :\n",
        "  zip.extractall()\n",
        "  print('Berhasil')"
      ],
      "execution_count": 5,
      "outputs": [
        {
          "output_type": "stream",
          "name": "stdout",
          "text": [
            "Berhasil\n"
          ]
        }
      ]
    },
    {
      "cell_type": "code",
      "metadata": {
        "id": "31Pr3YSaDHnn"
      },
      "source": [
        "!mkdir a"
      ],
      "execution_count": 6,
      "outputs": []
    },
    {
      "cell_type": "code",
      "metadata": {
        "id": "u6Wd9eg8DOao"
      },
      "source": [
        "!mv -t a test train"
      ],
      "execution_count": 7,
      "outputs": []
    },
    {
      "cell_type": "code",
      "metadata": {
        "id": "y9L_1kqnEEjc"
      },
      "source": [
        "# Definisikan path untuk data train dan data validation\n",
        "import os\n",
        "base_dir = '/content/a'\n",
        "\n",
        "\n",
        "train_dir = os.path.join(base_dir, 'train')\n",
        "validation_dir = os.path.join(base_dir, 'test')"
      ],
      "execution_count": 8,
      "outputs": []
    },
    {
      "cell_type": "code",
      "metadata": {
        "id": "9gc0BCSREF0M"
      },
      "source": [
        "import cv2\n",
        "import numpy as np\n",
        "\n",
        "# Gather data train\n",
        "train_data = []\n",
        "train_label = []\n",
        "for r, d, f in os.walk(train_dir):\n",
        "    for file in f:\n",
        "        if \".jpg\" in file:\n",
        "            imagePath = os.path.join(r, file)\n",
        "            image = cv2.imread(imagePath)\n",
        "            image = cv2.resize(image, (150,150))\n",
        "            train_data.append(image)\n",
        "            label = imagePath.split(os.path.sep)[-2]\n",
        "            train_label.append(label)\n",
        "\n",
        "train_data = np.array(train_data)\n",
        "train_label = np.array(train_label)"
      ],
      "execution_count": 9,
      "outputs": []
    },
    {
      "cell_type": "code",
      "metadata": {
        "id": "FuoKFhhVEG_O"
      },
      "source": [
        "# Gather data validation\n",
        "val_data = []\n",
        "val_label = []\n",
        "for r, d, f in os.walk(validation_dir):\n",
        "    for file in f:\n",
        "        if \".jpg\" in file:\n",
        "            imagePath = os.path.join(r, file)\n",
        "            image = cv2.imread(imagePath)\n",
        "            image = cv2.resize(image, (150,150))\n",
        "            val_data.append(image)\n",
        "            label = imagePath.split(os.path.sep)[-2]\n",
        "            val_label.append(label)\n",
        "\n",
        "val_data = np.array(val_data)\n",
        "val_label = np.array(val_label)"
      ],
      "execution_count": 10,
      "outputs": []
    },
    {
      "cell_type": "markdown",
      "metadata": {
        "id": "kiXbwrN3ELqv"
      },
      "source": [
        "<h3>Data Preprocessing</h3>"
      ]
    },
    {
      "cell_type": "code",
      "metadata": {
        "colab": {
          "base_uri": "https://localhost:8080/"
        },
        "id": "m5VhnvtrEI1I",
        "outputId": "b16afb5f-aaef-43d8-f164-2c0f70ca40f9"
      },
      "source": [
        "# Tampilkan shape dari data train dan data validation\n",
        "print(\"Train Data = \", train_data.shape)\n",
        "print(\"Train Label = \", train_label.shape)\n",
        "print(\"Validation Data = \", val_data.shape)\n",
        "print(\"Validation Label = \", val_label.shape)"
      ],
      "execution_count": 11,
      "outputs": [
        {
          "output_type": "stream",
          "name": "stdout",
          "text": [
            "Train Data =  (2637, 150, 150, 3)\n",
            "Train Label =  (2637,)\n",
            "Validation Data =  (660, 150, 150, 3)\n",
            "Validation Label =  (660,)\n"
          ]
        }
      ]
    },
    {
      "cell_type": "code",
      "metadata": {
        "colab": {
          "base_uri": "https://localhost:8080/"
        },
        "id": "q1LVp6dCENne",
        "outputId": "440a6f9e-1ca5-451b-d406-0c9b31ce4ea9"
      },
      "source": [
        "# Normalisasi dataset\n",
        "print(\"Data sebelum di-normalisasi \", train_data[0][0][0])\n",
        "\n",
        "x_train = train_data.astype('float32') / 255.0\n",
        "x_val = val_data.astype('float32') / 255.0\n",
        "print(\"Data setelah di-normalisasi \", x_train[0][0][0])"
      ],
      "execution_count": 12,
      "outputs": [
        {
          "output_type": "stream",
          "name": "stdout",
          "text": [
            "Data sebelum di-normalisasi  [184 171 248]\n",
            "Data setelah di-normalisasi  [0.72156864 0.67058825 0.972549  ]\n"
          ]
        }
      ]
    },
    {
      "cell_type": "code",
      "metadata": {
        "colab": {
          "base_uri": "https://localhost:8080/"
        },
        "id": "tc7FivC6EPhm",
        "outputId": "6bb3f064-2b7b-49ff-8e0d-9e5762cedba9"
      },
      "source": [
        "# Transformasi label encoder\n",
        "from sklearn.preprocessing import LabelEncoder\n",
        "\n",
        "print(\"Label sebelum di-encoder \", train_label[995:2005])\n",
        "\n",
        "lb = LabelEncoder()\n",
        "y_train = lb.fit_transform(train_label)\n",
        "y_val = lb.fit_transform(val_label)\n",
        "\n",
        "print(\"Label setelah di-encoder \", y_train[995:2005])"
      ],
      "execution_count": 13,
      "outputs": [
        {
          "output_type": "stream",
          "name": "stdout",
          "text": [
            "Label sebelum di-encoder  ['benign' 'benign' 'benign' ... 'malignant' 'malignant' 'malignant']\n",
            "Label setelah di-encoder  [0 0 0 ... 1 1 1]\n"
          ]
        }
      ]
    },
    {
      "cell_type": "markdown",
      "metadata": {
        "id": "4jVWbOhOEzQJ"
      },
      "source": [
        "<h3>Definisikan Model 1</h3>"
      ]
    },
    {
      "cell_type": "code",
      "source": [
        "import tensorflow as tf\n",
        "from tensorflow.keras.models import Sequential\n",
        "from tensorflow.keras.layers import InputLayer, Dense, Conv2D, MaxPool2D, Flatten, BatchNormalization, Dropout\n",
        "from tensorflow.keras.callbacks import ModelCheckpoint, ReduceLROnPlateau, EarlyStopping\n",
        "from tensorflow.keras.optimizers import Adam\n",
        "import time"
      ],
      "metadata": {
        "id": "KrR7ChtaPxw6"
      },
      "execution_count": 14,
      "outputs": []
    },
    {
      "cell_type": "code",
      "source": [
        "# Feature Extraction Layer\n",
        "model = Sequential()\n",
        "\n",
        "model.add(InputLayer(input_shape=[150,150,3]))\n",
        "model.add(Conv2D(filters=16, kernel_size=3, strides=1, padding='same', activation='relu'))\n",
        "model.add(MaxPool2D(pool_size=2, padding='same'))\n",
        "model.add(Conv2D(filters=32, kernel_size=3, strides=1, padding='same', activation='relu'))\n",
        "model.add(MaxPool2D(pool_size=2, padding='same'))\n",
        "model.add(Conv2D(filters=64, kernel_size=3, strides=1, padding='same', activation='relu'))\n",
        "model.add(MaxPool2D(pool_size=2, padding='same'))\n",
        "model.add(Flatten())\n",
        "# Fully Connected Layer\n",
        "model.add(Dense(128, activation='relu'))\n",
        "model.add(Dense(1, activation='sigmoid'))"
      ],
      "metadata": {
        "id": "FL0L2f9Aq3vb"
      },
      "execution_count": 15,
      "outputs": []
    },
    {
      "cell_type": "code",
      "source": [
        "# Print model summary\n",
        "print(model.summary())"
      ],
      "metadata": {
        "id": "LlJn1hPgq9RP",
        "outputId": "435cff7b-d7e9-4c4c-be5f-190b903f9389",
        "colab": {
          "base_uri": "https://localhost:8080/"
        }
      },
      "execution_count": 16,
      "outputs": [
        {
          "output_type": "stream",
          "name": "stdout",
          "text": [
            "Model: \"sequential\"\n",
            "_________________________________________________________________\n",
            " Layer (type)                Output Shape              Param #   \n",
            "=================================================================\n",
            " conv2d (Conv2D)             (None, 150, 150, 16)      448       \n",
            "                                                                 \n",
            " max_pooling2d (MaxPooling2D  (None, 75, 75, 16)       0         \n",
            " )                                                               \n",
            "                                                                 \n",
            " conv2d_1 (Conv2D)           (None, 75, 75, 32)        4640      \n",
            "                                                                 \n",
            " max_pooling2d_1 (MaxPooling  (None, 38, 38, 32)       0         \n",
            " 2D)                                                             \n",
            "                                                                 \n",
            " conv2d_2 (Conv2D)           (None, 38, 38, 64)        18496     \n",
            "                                                                 \n",
            " max_pooling2d_2 (MaxPooling  (None, 19, 19, 64)       0         \n",
            " 2D)                                                             \n",
            "                                                                 \n",
            " flatten (Flatten)           (None, 23104)             0         \n",
            "                                                                 \n",
            " dense (Dense)               (None, 128)               2957440   \n",
            "                                                                 \n",
            " dense_1 (Dense)             (None, 1)                 129       \n",
            "                                                                 \n",
            "=================================================================\n",
            "Total params: 2,981,153\n",
            "Trainable params: 2,981,153\n",
            "Non-trainable params: 0\n",
            "_________________________________________________________________\n",
            "None\n"
          ]
        }
      ]
    },
    {
      "cell_type": "code",
      "source": [
        "# Compile model\n",
        "from tensorflow.keras.optimizers import Adam\n",
        "\n",
        "model.compile(optimizer=Adam(lr=0.001), \n",
        "              loss='binary_crossentropy', \n",
        "              metrics=['acc'])"
      ],
      "metadata": {
        "id": "Ib7grrGrrAK6",
        "outputId": "aadde141-5958-4c0a-aa4c-fad7937bbdfe",
        "colab": {
          "base_uri": "https://localhost:8080/"
        }
      },
      "execution_count": 17,
      "outputs": [
        {
          "output_type": "stream",
          "name": "stderr",
          "text": [
            "/usr/local/lib/python3.7/dist-packages/keras/optimizer_v2/adam.py:105: UserWarning: The `lr` argument is deprecated, use `learning_rate` instead.\n",
            "  super(Adam, self).__init__(name, **kwargs)\n"
          ]
        }
      ]
    },
    {
      "cell_type": "code",
      "source": [
        "H = model.fit(x_train, y_train, batch_size=20, epochs=100, validation_data=(x_val, y_val))"
      ],
      "metadata": {
        "id": "52d_HJuCrF6e",
        "outputId": "0ec91464-a6d4-4a53-8f30-9c3c4bdd564b",
        "colab": {
          "base_uri": "https://localhost:8080/"
        }
      },
      "execution_count": 18,
      "outputs": [
        {
          "output_type": "stream",
          "name": "stdout",
          "text": [
            "Epoch 1/100\n",
            "132/132 [==============================] - 17s 41ms/step - loss: 0.5511 - acc: 0.6928 - val_loss: 0.4173 - val_acc: 0.7773\n",
            "Epoch 2/100\n",
            "132/132 [==============================] - 4s 30ms/step - loss: 0.4277 - acc: 0.7876 - val_loss: 0.3894 - val_acc: 0.8000\n",
            "Epoch 3/100\n",
            "132/132 [==============================] - 3s 24ms/step - loss: 0.3823 - acc: 0.8104 - val_loss: 0.3708 - val_acc: 0.7955\n",
            "Epoch 4/100\n",
            "132/132 [==============================] - 3s 24ms/step - loss: 0.3708 - acc: 0.8184 - val_loss: 0.3568 - val_acc: 0.8197\n",
            "Epoch 5/100\n",
            "132/132 [==============================] - 3s 24ms/step - loss: 0.3345 - acc: 0.8339 - val_loss: 0.3501 - val_acc: 0.8364\n",
            "Epoch 6/100\n",
            "132/132 [==============================] - 3s 24ms/step - loss: 0.3219 - acc: 0.8385 - val_loss: 0.3394 - val_acc: 0.8364\n",
            "Epoch 7/100\n",
            "132/132 [==============================] - 3s 24ms/step - loss: 0.2988 - acc: 0.8582 - val_loss: 0.3463 - val_acc: 0.8242\n",
            "Epoch 8/100\n",
            "132/132 [==============================] - 3s 24ms/step - loss: 0.2762 - acc: 0.8726 - val_loss: 0.3760 - val_acc: 0.8364\n",
            "Epoch 9/100\n",
            "132/132 [==============================] - 3s 24ms/step - loss: 0.2761 - acc: 0.8730 - val_loss: 0.3622 - val_acc: 0.8242\n",
            "Epoch 10/100\n",
            "132/132 [==============================] - 3s 24ms/step - loss: 0.2499 - acc: 0.8881 - val_loss: 0.3325 - val_acc: 0.8288\n",
            "Epoch 11/100\n",
            "132/132 [==============================] - 3s 24ms/step - loss: 0.2260 - acc: 0.8984 - val_loss: 0.3551 - val_acc: 0.8303\n",
            "Epoch 12/100\n",
            "132/132 [==============================] - 3s 24ms/step - loss: 0.2020 - acc: 0.9090 - val_loss: 0.3549 - val_acc: 0.8364\n",
            "Epoch 13/100\n",
            "132/132 [==============================] - 3s 25ms/step - loss: 0.1809 - acc: 0.9219 - val_loss: 0.4316 - val_acc: 0.8348\n",
            "Epoch 14/100\n",
            "132/132 [==============================] - 3s 24ms/step - loss: 0.1778 - acc: 0.9261 - val_loss: 0.3514 - val_acc: 0.8409\n",
            "Epoch 15/100\n",
            "132/132 [==============================] - 3s 24ms/step - loss: 0.1514 - acc: 0.9439 - val_loss: 0.4128 - val_acc: 0.8379\n",
            "Epoch 16/100\n",
            "132/132 [==============================] - 3s 24ms/step - loss: 0.1281 - acc: 0.9526 - val_loss: 0.4565 - val_acc: 0.8409\n",
            "Epoch 17/100\n",
            "132/132 [==============================] - 3s 24ms/step - loss: 0.1232 - acc: 0.9564 - val_loss: 0.4156 - val_acc: 0.8242\n",
            "Epoch 18/100\n",
            "132/132 [==============================] - 4s 27ms/step - loss: 0.1559 - acc: 0.9367 - val_loss: 0.4847 - val_acc: 0.8379\n",
            "Epoch 19/100\n",
            "132/132 [==============================] - 5s 35ms/step - loss: 0.1063 - acc: 0.9613 - val_loss: 0.5242 - val_acc: 0.8470\n",
            "Epoch 20/100\n",
            "132/132 [==============================] - 4s 29ms/step - loss: 0.1012 - acc: 0.9613 - val_loss: 0.5298 - val_acc: 0.8318\n",
            "Epoch 21/100\n",
            "132/132 [==============================] - 4s 29ms/step - loss: 0.0620 - acc: 0.9746 - val_loss: 0.5870 - val_acc: 0.8500\n",
            "Epoch 22/100\n",
            "132/132 [==============================] - 3s 25ms/step - loss: 0.0529 - acc: 0.9799 - val_loss: 0.5098 - val_acc: 0.8394\n",
            "Epoch 23/100\n",
            "132/132 [==============================] - 3s 24ms/step - loss: 0.0740 - acc: 0.9765 - val_loss: 0.5220 - val_acc: 0.8379\n",
            "Epoch 24/100\n",
            "132/132 [==============================] - 3s 25ms/step - loss: 0.0565 - acc: 0.9810 - val_loss: 0.7637 - val_acc: 0.8333\n",
            "Epoch 25/100\n",
            "132/132 [==============================] - 3s 24ms/step - loss: 0.0424 - acc: 0.9856 - val_loss: 0.6204 - val_acc: 0.8455\n",
            "Epoch 26/100\n",
            "132/132 [==============================] - 4s 28ms/step - loss: 0.0513 - acc: 0.9863 - val_loss: 0.6836 - val_acc: 0.8470\n",
            "Epoch 27/100\n",
            "132/132 [==============================] - 4s 34ms/step - loss: 0.0238 - acc: 0.9924 - val_loss: 0.7600 - val_acc: 0.8470\n",
            "Epoch 28/100\n",
            "132/132 [==============================] - 5s 36ms/step - loss: 0.0088 - acc: 0.9981 - val_loss: 0.8438 - val_acc: 0.8545\n",
            "Epoch 29/100\n",
            "132/132 [==============================] - 4s 32ms/step - loss: 0.0027 - acc: 1.0000 - val_loss: 0.8853 - val_acc: 0.8455\n",
            "Epoch 30/100\n",
            "132/132 [==============================] - 4s 29ms/step - loss: 0.0019 - acc: 1.0000 - val_loss: 0.9679 - val_acc: 0.8500\n",
            "Epoch 31/100\n",
            "132/132 [==============================] - 3s 24ms/step - loss: 8.7406e-04 - acc: 1.0000 - val_loss: 0.9608 - val_acc: 0.8485\n",
            "Epoch 32/100\n",
            "132/132 [==============================] - 3s 24ms/step - loss: 5.9407e-04 - acc: 1.0000 - val_loss: 1.0012 - val_acc: 0.8561\n",
            "Epoch 33/100\n",
            "132/132 [==============================] - 4s 27ms/step - loss: 4.8757e-04 - acc: 1.0000 - val_loss: 1.0394 - val_acc: 0.8545\n",
            "Epoch 34/100\n",
            "132/132 [==============================] - 3s 24ms/step - loss: 3.7979e-04 - acc: 1.0000 - val_loss: 1.0562 - val_acc: 0.8545\n",
            "Epoch 35/100\n",
            "132/132 [==============================] - 3s 24ms/step - loss: 3.2436e-04 - acc: 1.0000 - val_loss: 1.0956 - val_acc: 0.8576\n",
            "Epoch 36/100\n",
            "132/132 [==============================] - 3s 24ms/step - loss: 2.6192e-04 - acc: 1.0000 - val_loss: 1.1012 - val_acc: 0.8530\n",
            "Epoch 37/100\n",
            "132/132 [==============================] - 3s 24ms/step - loss: 2.3704e-04 - acc: 1.0000 - val_loss: 1.1184 - val_acc: 0.8545\n",
            "Epoch 38/100\n",
            "132/132 [==============================] - 3s 24ms/step - loss: 2.0107e-04 - acc: 1.0000 - val_loss: 1.1480 - val_acc: 0.8515\n",
            "Epoch 39/100\n",
            "132/132 [==============================] - 3s 24ms/step - loss: 1.7552e-04 - acc: 1.0000 - val_loss: 1.1717 - val_acc: 0.8515\n",
            "Epoch 40/100\n",
            "132/132 [==============================] - 3s 25ms/step - loss: 1.5106e-04 - acc: 1.0000 - val_loss: 1.1937 - val_acc: 0.8515\n",
            "Epoch 41/100\n",
            "132/132 [==============================] - 3s 24ms/step - loss: 1.3415e-04 - acc: 1.0000 - val_loss: 1.2048 - val_acc: 0.8545\n",
            "Epoch 42/100\n",
            "132/132 [==============================] - 3s 24ms/step - loss: 1.1858e-04 - acc: 1.0000 - val_loss: 1.2234 - val_acc: 0.8515\n",
            "Epoch 43/100\n",
            "132/132 [==============================] - 3s 24ms/step - loss: 1.0491e-04 - acc: 1.0000 - val_loss: 1.2192 - val_acc: 0.8530\n",
            "Epoch 44/100\n",
            "132/132 [==============================] - 3s 24ms/step - loss: 9.4263e-05 - acc: 1.0000 - val_loss: 1.2527 - val_acc: 0.8515\n",
            "Epoch 45/100\n",
            "132/132 [==============================] - 3s 24ms/step - loss: 8.3262e-05 - acc: 1.0000 - val_loss: 1.2578 - val_acc: 0.8530\n",
            "Epoch 46/100\n",
            "132/132 [==============================] - 3s 24ms/step - loss: 7.3590e-05 - acc: 1.0000 - val_loss: 1.2969 - val_acc: 0.8515\n",
            "Epoch 47/100\n",
            "132/132 [==============================] - 3s 24ms/step - loss: 6.7076e-05 - acc: 1.0000 - val_loss: 1.2920 - val_acc: 0.8515\n",
            "Epoch 48/100\n",
            "132/132 [==============================] - 3s 25ms/step - loss: 6.1125e-05 - acc: 1.0000 - val_loss: 1.3063 - val_acc: 0.8515\n",
            "Epoch 49/100\n",
            "132/132 [==============================] - 3s 25ms/step - loss: 5.4624e-05 - acc: 1.0000 - val_loss: 1.3119 - val_acc: 0.8500\n",
            "Epoch 50/100\n",
            "132/132 [==============================] - 3s 24ms/step - loss: 4.8974e-05 - acc: 1.0000 - val_loss: 1.3119 - val_acc: 0.8515\n",
            "Epoch 51/100\n",
            "132/132 [==============================] - 3s 24ms/step - loss: 4.4869e-05 - acc: 1.0000 - val_loss: 1.3382 - val_acc: 0.8515\n",
            "Epoch 52/100\n",
            "132/132 [==============================] - 3s 24ms/step - loss: 4.0588e-05 - acc: 1.0000 - val_loss: 1.3651 - val_acc: 0.8515\n",
            "Epoch 53/100\n",
            "132/132 [==============================] - 3s 24ms/step - loss: 3.6645e-05 - acc: 1.0000 - val_loss: 1.3574 - val_acc: 0.8500\n",
            "Epoch 54/100\n",
            "132/132 [==============================] - 3s 24ms/step - loss: 3.3426e-05 - acc: 1.0000 - val_loss: 1.3824 - val_acc: 0.8485\n",
            "Epoch 55/100\n",
            "132/132 [==============================] - 3s 24ms/step - loss: 3.0720e-05 - acc: 1.0000 - val_loss: 1.3822 - val_acc: 0.8515\n",
            "Epoch 56/100\n",
            "132/132 [==============================] - 3s 24ms/step - loss: 2.7604e-05 - acc: 1.0000 - val_loss: 1.3971 - val_acc: 0.8500\n",
            "Epoch 57/100\n",
            "132/132 [==============================] - 3s 24ms/step - loss: 2.5583e-05 - acc: 1.0000 - val_loss: 1.4074 - val_acc: 0.8500\n",
            "Epoch 58/100\n",
            "132/132 [==============================] - 4s 28ms/step - loss: 2.3393e-05 - acc: 1.0000 - val_loss: 1.4186 - val_acc: 0.8500\n",
            "Epoch 59/100\n",
            "132/132 [==============================] - 3s 25ms/step - loss: 2.1037e-05 - acc: 1.0000 - val_loss: 1.4340 - val_acc: 0.8515\n",
            "Epoch 60/100\n",
            "132/132 [==============================] - 3s 25ms/step - loss: 1.9342e-05 - acc: 1.0000 - val_loss: 1.4423 - val_acc: 0.8515\n",
            "Epoch 61/100\n",
            "132/132 [==============================] - 3s 23ms/step - loss: 1.7875e-05 - acc: 1.0000 - val_loss: 1.4515 - val_acc: 0.8515\n",
            "Epoch 62/100\n",
            "132/132 [==============================] - 3s 24ms/step - loss: 1.6460e-05 - acc: 1.0000 - val_loss: 1.4580 - val_acc: 0.8515\n",
            "Epoch 63/100\n",
            "132/132 [==============================] - 3s 24ms/step - loss: 1.4812e-05 - acc: 1.0000 - val_loss: 1.4729 - val_acc: 0.8515\n",
            "Epoch 64/100\n",
            "132/132 [==============================] - 3s 24ms/step - loss: 1.3520e-05 - acc: 1.0000 - val_loss: 1.4722 - val_acc: 0.8500\n",
            "Epoch 65/100\n",
            "132/132 [==============================] - 3s 24ms/step - loss: 1.2764e-05 - acc: 1.0000 - val_loss: 1.4984 - val_acc: 0.8500\n",
            "Epoch 66/100\n",
            "132/132 [==============================] - 4s 28ms/step - loss: 1.1321e-05 - acc: 1.0000 - val_loss: 1.4991 - val_acc: 0.8500\n",
            "Epoch 67/100\n",
            "132/132 [==============================] - 3s 24ms/step - loss: 1.0369e-05 - acc: 1.0000 - val_loss: 1.5110 - val_acc: 0.8530\n",
            "Epoch 68/100\n",
            "132/132 [==============================] - 3s 24ms/step - loss: 9.7004e-06 - acc: 1.0000 - val_loss: 1.5130 - val_acc: 0.8515\n",
            "Epoch 69/100\n",
            "132/132 [==============================] - 3s 24ms/step - loss: 8.9984e-06 - acc: 1.0000 - val_loss: 1.5336 - val_acc: 0.8530\n",
            "Epoch 70/100\n",
            "132/132 [==============================] - 3s 24ms/step - loss: 8.2901e-06 - acc: 1.0000 - val_loss: 1.5324 - val_acc: 0.8515\n",
            "Epoch 71/100\n",
            "132/132 [==============================] - 3s 24ms/step - loss: 7.5910e-06 - acc: 1.0000 - val_loss: 1.5476 - val_acc: 0.8530\n",
            "Epoch 72/100\n",
            "132/132 [==============================] - 3s 24ms/step - loss: 7.0326e-06 - acc: 1.0000 - val_loss: 1.5675 - val_acc: 0.8530\n",
            "Epoch 73/100\n",
            "132/132 [==============================] - 3s 25ms/step - loss: 6.4481e-06 - acc: 1.0000 - val_loss: 1.5682 - val_acc: 0.8515\n",
            "Epoch 74/100\n",
            "132/132 [==============================] - 3s 24ms/step - loss: 5.8305e-06 - acc: 1.0000 - val_loss: 1.5759 - val_acc: 0.8515\n",
            "Epoch 75/100\n",
            "132/132 [==============================] - 3s 24ms/step - loss: 5.4708e-06 - acc: 1.0000 - val_loss: 1.5880 - val_acc: 0.8515\n",
            "Epoch 76/100\n",
            "132/132 [==============================] - 3s 24ms/step - loss: 5.0035e-06 - acc: 1.0000 - val_loss: 1.6000 - val_acc: 0.8530\n",
            "Epoch 77/100\n",
            "132/132 [==============================] - 3s 24ms/step - loss: 4.6736e-06 - acc: 1.0000 - val_loss: 1.6051 - val_acc: 0.8515\n",
            "Epoch 78/100\n",
            "132/132 [==============================] - 3s 24ms/step - loss: 4.3311e-06 - acc: 1.0000 - val_loss: 1.6156 - val_acc: 0.8515\n",
            "Epoch 79/100\n",
            "132/132 [==============================] - 3s 24ms/step - loss: 3.9207e-06 - acc: 1.0000 - val_loss: 1.6337 - val_acc: 0.8485\n",
            "Epoch 80/100\n",
            "132/132 [==============================] - 3s 24ms/step - loss: 3.7231e-06 - acc: 1.0000 - val_loss: 1.6364 - val_acc: 0.8500\n",
            "Epoch 81/100\n",
            "132/132 [==============================] - 4s 30ms/step - loss: 3.3621e-06 - acc: 1.0000 - val_loss: 1.6479 - val_acc: 0.8485\n",
            "Epoch 82/100\n",
            "132/132 [==============================] - 3s 25ms/step - loss: 3.1356e-06 - acc: 1.0000 - val_loss: 1.6584 - val_acc: 0.8470\n",
            "Epoch 83/100\n",
            "132/132 [==============================] - 3s 24ms/step - loss: 2.8784e-06 - acc: 1.0000 - val_loss: 1.6648 - val_acc: 0.8485\n",
            "Epoch 84/100\n",
            "132/132 [==============================] - 3s 25ms/step - loss: 2.6399e-06 - acc: 1.0000 - val_loss: 1.6698 - val_acc: 0.8500\n",
            "Epoch 85/100\n",
            "132/132 [==============================] - 3s 24ms/step - loss: 2.4625e-06 - acc: 1.0000 - val_loss: 1.6774 - val_acc: 0.8485\n",
            "Epoch 86/100\n",
            "132/132 [==============================] - 3s 24ms/step - loss: 2.2933e-06 - acc: 1.0000 - val_loss: 1.6853 - val_acc: 0.8485\n",
            "Epoch 87/100\n",
            "132/132 [==============================] - 3s 24ms/step - loss: 2.1187e-06 - acc: 1.0000 - val_loss: 1.6950 - val_acc: 0.8485\n",
            "Epoch 88/100\n",
            "132/132 [==============================] - 3s 25ms/step - loss: 1.9488e-06 - acc: 1.0000 - val_loss: 1.6988 - val_acc: 0.8500\n",
            "Epoch 89/100\n",
            "132/132 [==============================] - 3s 25ms/step - loss: 1.8140e-06 - acc: 1.0000 - val_loss: 1.7215 - val_acc: 0.8470\n",
            "Epoch 90/100\n",
            "132/132 [==============================] - 3s 25ms/step - loss: 1.6593e-06 - acc: 1.0000 - val_loss: 1.7207 - val_acc: 0.8485\n",
            "Epoch 91/100\n",
            "132/132 [==============================] - 3s 24ms/step - loss: 1.5372e-06 - acc: 1.0000 - val_loss: 1.7276 - val_acc: 0.8485\n",
            "Epoch 92/100\n",
            "132/132 [==============================] - 3s 24ms/step - loss: 1.4339e-06 - acc: 1.0000 - val_loss: 1.7392 - val_acc: 0.8485\n",
            "Epoch 93/100\n",
            "132/132 [==============================] - 3s 24ms/step - loss: 1.3089e-06 - acc: 1.0000 - val_loss: 1.7472 - val_acc: 0.8470\n",
            "Epoch 94/100\n",
            "132/132 [==============================] - 3s 24ms/step - loss: 1.2041e-06 - acc: 1.0000 - val_loss: 1.7639 - val_acc: 0.8470\n",
            "Epoch 95/100\n",
            "132/132 [==============================] - 3s 24ms/step - loss: 1.1372e-06 - acc: 1.0000 - val_loss: 1.7792 - val_acc: 0.8470\n",
            "Epoch 96/100\n",
            "132/132 [==============================] - 3s 24ms/step - loss: 1.0391e-06 - acc: 1.0000 - val_loss: 1.7798 - val_acc: 0.8470\n",
            "Epoch 97/100\n",
            "132/132 [==============================] - 3s 24ms/step - loss: 9.6105e-07 - acc: 1.0000 - val_loss: 1.7836 - val_acc: 0.8485\n",
            "Epoch 98/100\n",
            "132/132 [==============================] - 3s 25ms/step - loss: 8.8503e-07 - acc: 1.0000 - val_loss: 1.7881 - val_acc: 0.8485\n",
            "Epoch 99/100\n",
            "132/132 [==============================] - 4s 28ms/step - loss: 8.3854e-07 - acc: 1.0000 - val_loss: 1.7947 - val_acc: 0.8500\n",
            "Epoch 100/100\n",
            "132/132 [==============================] - 3s 25ms/step - loss: 7.6314e-07 - acc: 1.0000 - val_loss: 1.8117 - val_acc: 0.8470\n"
          ]
        }
      ]
    },
    {
      "cell_type": "markdown",
      "source": [
        "EVALUASI MODEL 1\n"
      ],
      "metadata": {
        "id": "GKFD0Xbi8YMi"
      }
    },
    {
      "cell_type": "code",
      "source": [
        "\n",
        "%matplotlib inline\n",
        "\n",
        "import matplotlib.pyplot as plt\n",
        "\n",
        "plt.style.use(\"ggplot\")\n",
        "plt.figure()\n",
        "plt.plot(np.arange(0, 100), H.history[\"loss\"], label=\"train_loss\")\n",
        "plt.plot(np.arange(0, 100), H.history[\"val_loss\"], label=\"val_loss\")\n",
        "plt.title(\"Loss Plot\")\n",
        "plt.xlabel(\"Epoch #\")\n",
        "plt.ylabel(\"Loss\")\n",
        "plt.legend()\n",
        "plt.show()"
      ],
      "metadata": {
        "id": "xsJHYZG48Ym6",
        "outputId": "bcc70edc-d063-47f4-e71d-aea513928b4f",
        "colab": {
          "base_uri": "https://localhost:8080/",
          "height": 298
        }
      },
      "execution_count": 19,
      "outputs": [
        {
          "output_type": "display_data",
          "data": {
            "image/png": "[encoded data removed]",
            "text/plain": [
              "<Figure size 432x288 with 1 Axes>"
            ]
          },
          "metadata": {}
        }
      ]
    },
    {
      "cell_type": "code",
      "source": [
        "plt.style.use(\"ggplot\")\n",
        "plt.figure()\n",
        "plt.plot(np.arange(0, 100), H.history[\"acc\"], label=\"train_acc\")\n",
        "plt.plot(np.arange(0, 100), H.history[\"val_acc\"], label=\"val_acc\")\n",
        "plt.title(\"Accuracy Plot\")\n",
        "plt.xlabel(\"Epoch #\")\n",
        "plt.ylabel(\"Acc\")\n",
        "plt.legend()\n",
        "plt.show()"
      ],
      "metadata": {
        "id": "QZc_3ezr8h78",
        "outputId": "585725a7-ba52-48ef-a5be-0c46e92c223f",
        "colab": {
          "base_uri": "https://localhost:8080/",
          "height": 298
        }
      },
      "execution_count": 20,
      "outputs": [
        {
          "output_type": "display_data",
          "data": {
            "image/png": "[encoded data removed]",
            "text/plain": [
              "<Figure size 432x288 with 1 Axes>"
            ]
          },
          "metadata": {}
        }
      ]
    },
    {
      "cell_type": "code",
      "source": [
        "from sklearn.metrics import classification_report\n",
        "\n",
        "target = ['bening']\n",
        "pred = model.predict(x_val)\n",
        "labels = (pred > 0.5).astype(np.int)\n",
        "\n",
        "\n",
        "print(classification_report(y_val, labels))"
      ],
      "metadata": {
        "id": "lMgsf3tu8rRm",
        "outputId": "a3a19aec-d057-4ff4-f837-6004705bc87d",
        "colab": {
          "base_uri": "https://localhost:8080/"
        }
      },
      "execution_count": 22,
      "outputs": [
        {
          "output_type": "stream",
          "name": "stdout",
          "text": [
            "              precision    recall  f1-score   support\n",
            "\n",
            "           0       0.87      0.84      0.86       360\n",
            "           1       0.82      0.85      0.83       300\n",
            "\n",
            "    accuracy                           0.85       660\n",
            "   macro avg       0.85      0.85      0.85       660\n",
            "weighted avg       0.85      0.85      0.85       660\n",
            "\n"
          ]
        }
      ]
    },
    {
      "cell_type": "markdown",
      "source": [
        "MODEL 2"
      ],
      "metadata": {
        "id": "owNe7lyhBQtR"
      }
    },
    {
      "cell_type": "code",
      "source": [
        "import tensorflow as tf\n",
        "from tensorflow.keras.models import Sequential\n",
        "from tensorflow.keras.layers import InputLayer, Dense, Conv2D, MaxPool2D, Flatten, BatchNormalization, Dropout\n",
        "from tensorflow.keras.callbacks import ModelCheckpoint, ReduceLROnPlateau, EarlyStopping\n",
        "from tensorflow.keras.optimizers import Adam\n",
        "import time"
      ],
      "metadata": {
        "id": "vTtaFU4xUUJ4"
      },
      "execution_count": 23,
      "outputs": []
    },
    {
      "cell_type": "code",
      "source": [
        "model2 = Sequential()\n",
        "\n",
        "model2.add(InputLayer(input_shape=[150,150,3]))\n",
        "model2.add(Conv2D(filters=64, kernel_size=3, activation='relu'))\n",
        "model2.add(MaxPool2D(pool_size=2))\n",
        "model2.add(Conv2D(filters=64, kernel_size=3, activation='relu'))\n",
        "model2.add(MaxPool2D(pool_size=2))\n",
        "model2.add(Conv2D(filters=128, kernel_size=3, activation='relu'))\n",
        "model2.add(MaxPool2D(pool_size=2))\n",
        "model2.add(Conv2D(filters=128, kernel_size=3, activation='relu'))\n",
        "model2.add(MaxPool2D(pool_size=2))\n",
        "\n",
        "model2.add(Dropout(0.5))\n",
        "model2.add(BatchNormalization())\n",
        "model2.add(Flatten())\n",
        "\n",
        "model2.add(Dense(512, activation='relu'))\n",
        "model2.add(Dense(128, activation='relu'))\n",
        "model2.add(Dense(1, activation='sigmoid'))"
      ],
      "metadata": {
        "id": "vU1s5UmCBTrf"
      },
      "execution_count": 24,
      "outputs": []
    },
    {
      "cell_type": "code",
      "source": [
        "print(model2.summary())"
      ],
      "metadata": {
        "colab": {
          "base_uri": "https://localhost:8080/"
        },
        "id": "pk15u4DBBUBc",
        "outputId": "aa5010bc-ca4f-4935-a5db-ae89cd1918bf"
      },
      "execution_count": 37,
      "outputs": [
        {
          "output_type": "stream",
          "name": "stdout",
          "text": [
            "Model: \"sequential_1\"\n",
            "_________________________________________________________________\n",
            " Layer (type)                Output Shape              Param #   \n",
            "=================================================================\n",
            " conv2d_3 (Conv2D)           (None, 148, 148, 64)      1792      \n",
            "                                                                 \n",
            " max_pooling2d_3 (MaxPooling  (None, 74, 74, 64)       0         \n",
            " 2D)                                                             \n",
            "                                                                 \n",
            " conv2d_4 (Conv2D)           (None, 72, 72, 64)        36928     \n",
            "                                                                 \n",
            " max_pooling2d_4 (MaxPooling  (None, 36, 36, 64)       0         \n",
            " 2D)                                                             \n",
            "                                                                 \n",
            " conv2d_5 (Conv2D)           (None, 34, 34, 128)       73856     \n",
            "                                                                 \n",
            " max_pooling2d_5 (MaxPooling  (None, 17, 17, 128)      0         \n",
            " 2D)                                                             \n",
            "                                                                 \n",
            " conv2d_6 (Conv2D)           (None, 15, 15, 128)       147584    \n",
            "                                                                 \n",
            " max_pooling2d_6 (MaxPooling  (None, 7, 7, 128)        0         \n",
            " 2D)                                                             \n",
            "                                                                 \n",
            " dropout (Dropout)           (None, 7, 7, 128)         0         \n",
            "                                                                 \n",
            " batch_normalization (BatchN  (None, 7, 7, 128)        512       \n",
            " ormalization)                                                   \n",
            "                                                                 \n",
            " flatten_1 (Flatten)         (None, 6272)              0         \n",
            "                                                                 \n",
            " dense_2 (Dense)             (None, 512)               3211776   \n",
            "                                                                 \n",
            " dense_3 (Dense)             (None, 128)               65664     \n",
            "                                                                 \n",
            " dense_4 (Dense)             (None, 1)                 129       \n",
            "                                                                 \n",
            "=================================================================\n",
            "Total params: 3,538,241\n",
            "Trainable params: 3,537,985\n",
            "Non-trainable params: 256\n",
            "_________________________________________________________________\n",
            "None\n"
          ]
        }
      ]
    },
    {
      "cell_type": "code",
      "source": [
        "# Compile model\n",
        "from tensorflow.keras.optimizers import Adam\n",
        "\n",
        "model2.compile(optimizer=Adam(lr=0.001), \n",
        "              loss='binary_crossentropy', \n",
        "              metrics=['acc'])"
      ],
      "metadata": {
        "id": "InaBEKPbtOJH",
        "outputId": "8eb1e323-0a73-495e-819c-3376d6ed255e",
        "colab": {
          "base_uri": "https://localhost:8080/"
        }
      },
      "execution_count": 28,
      "outputs": [
        {
          "output_type": "stream",
          "name": "stderr",
          "text": [
            "/usr/local/lib/python3.7/dist-packages/keras/optimizer_v2/adam.py:105: UserWarning: The `lr` argument is deprecated, use `learning_rate` instead.\n",
            "  super(Adam, self).__init__(name, **kwargs)\n"
          ]
        }
      ]
    },
    {
      "cell_type": "code",
      "source": [
        "H2 = model2.fit(x_train, y_train, batch_size=20, epochs=100, validation_data=(x_val, y_val))"
      ],
      "metadata": {
        "id": "XPEdzxNotW7J",
        "outputId": "f19f1bcc-4fca-43f0-cd3b-7717afe55774",
        "colab": {
          "base_uri": "https://localhost:8080/"
        }
      },
      "execution_count": 29,
      "outputs": [
        {
          "output_type": "stream",
          "name": "stdout",
          "text": [
            "Epoch 1/100\n",
            "132/132 [==============================] - 10s 62ms/step - loss: 0.5651 - acc: 0.7084 - val_loss: 0.6872 - val_acc: 0.7545\n",
            "Epoch 2/100\n",
            "132/132 [==============================] - 7s 56ms/step - loss: 0.4969 - acc: 0.7615 - val_loss: 0.6552 - val_acc: 0.6439\n",
            "Epoch 3/100\n",
            "132/132 [==============================] - 7s 56ms/step - loss: 0.4794 - acc: 0.7573 - val_loss: 0.4537 - val_acc: 0.7758\n",
            "Epoch 4/100\n",
            "132/132 [==============================] - 7s 55ms/step - loss: 0.4787 - acc: 0.7569 - val_loss: 0.5585 - val_acc: 0.6712\n",
            "Epoch 5/100\n",
            "132/132 [==============================] - 7s 56ms/step - loss: 0.4561 - acc: 0.7728 - val_loss: 0.4456 - val_acc: 0.7697\n",
            "Epoch 6/100\n",
            "132/132 [==============================] - 9s 65ms/step - loss: 0.4230 - acc: 0.7907 - val_loss: 1.1420 - val_acc: 0.5894\n",
            "Epoch 7/100\n",
            "132/132 [==============================] - 7s 55ms/step - loss: 0.4076 - acc: 0.7899 - val_loss: 0.6125 - val_acc: 0.7167\n",
            "Epoch 8/100\n",
            "132/132 [==============================] - 7s 55ms/step - loss: 0.4053 - acc: 0.8111 - val_loss: 1.8756 - val_acc: 0.4879\n",
            "Epoch 9/100\n",
            "132/132 [==============================] - 7s 55ms/step - loss: 0.3924 - acc: 0.8096 - val_loss: 0.3817 - val_acc: 0.8152\n",
            "Epoch 10/100\n",
            "132/132 [==============================] - 7s 56ms/step - loss: 0.3815 - acc: 0.8153 - val_loss: 0.4691 - val_acc: 0.7530\n",
            "Epoch 11/100\n",
            "132/132 [==============================] - 7s 55ms/step - loss: 0.3792 - acc: 0.8165 - val_loss: 0.9531 - val_acc: 0.5652\n",
            "Epoch 12/100\n",
            "132/132 [==============================] - 7s 55ms/step - loss: 0.3615 - acc: 0.8229 - val_loss: 0.4517 - val_acc: 0.7788\n",
            "Epoch 13/100\n",
            "132/132 [==============================] - 7s 55ms/step - loss: 0.3798 - acc: 0.8127 - val_loss: 1.7592 - val_acc: 0.6091\n",
            "Epoch 14/100\n",
            "132/132 [==============================] - 7s 55ms/step - loss: 0.3697 - acc: 0.8108 - val_loss: 1.0409 - val_acc: 0.5864\n",
            "Epoch 15/100\n",
            "132/132 [==============================] - 7s 53ms/step - loss: 0.3611 - acc: 0.8172 - val_loss: 0.3581 - val_acc: 0.8212\n",
            "Epoch 16/100\n",
            "132/132 [==============================] - 7s 52ms/step - loss: 0.3535 - acc: 0.8271 - val_loss: 0.3784 - val_acc: 0.8379\n",
            "Epoch 17/100\n",
            "132/132 [==============================] - 7s 52ms/step - loss: 0.3376 - acc: 0.8290 - val_loss: 0.3927 - val_acc: 0.8182\n",
            "Epoch 18/100\n",
            "132/132 [==============================] - 7s 53ms/step - loss: 0.3304 - acc: 0.8343 - val_loss: 0.3899 - val_acc: 0.7924\n",
            "Epoch 19/100\n",
            "132/132 [==============================] - 7s 53ms/step - loss: 0.3324 - acc: 0.8366 - val_loss: 0.4010 - val_acc: 0.8333\n",
            "Epoch 20/100\n",
            "132/132 [==============================] - 7s 54ms/step - loss: 0.3253 - acc: 0.8441 - val_loss: 0.3414 - val_acc: 0.8455\n",
            "Epoch 21/100\n",
            "132/132 [==============================] - 7s 56ms/step - loss: 0.3133 - acc: 0.8479 - val_loss: 0.3846 - val_acc: 0.8000\n",
            "Epoch 22/100\n",
            "132/132 [==============================] - 7s 52ms/step - loss: 0.3199 - acc: 0.8464 - val_loss: 0.3473 - val_acc: 0.8258\n",
            "Epoch 23/100\n",
            "132/132 [==============================] - 7s 53ms/step - loss: 0.2993 - acc: 0.8574 - val_loss: 0.3625 - val_acc: 0.8091\n",
            "Epoch 24/100\n",
            "132/132 [==============================] - 7s 53ms/step - loss: 0.2953 - acc: 0.8582 - val_loss: 0.3797 - val_acc: 0.8439\n",
            "Epoch 25/100\n",
            "132/132 [==============================] - 7s 52ms/step - loss: 0.2938 - acc: 0.8654 - val_loss: 0.3500 - val_acc: 0.8303\n",
            "Epoch 26/100\n",
            "132/132 [==============================] - 7s 54ms/step - loss: 0.2739 - acc: 0.8692 - val_loss: 0.3785 - val_acc: 0.8152\n",
            "Epoch 27/100\n",
            "132/132 [==============================] - 7s 54ms/step - loss: 0.2829 - acc: 0.8623 - val_loss: 0.4645 - val_acc: 0.7364\n",
            "Epoch 28/100\n",
            "132/132 [==============================] - 7s 53ms/step - loss: 0.2890 - acc: 0.8635 - val_loss: 0.3733 - val_acc: 0.8258\n",
            "Epoch 29/100\n",
            "132/132 [==============================] - 7s 53ms/step - loss: 0.2784 - acc: 0.8718 - val_loss: 1.1194 - val_acc: 0.6424\n",
            "Epoch 30/100\n",
            "132/132 [==============================] - 7s 54ms/step - loss: 0.2863 - acc: 0.8658 - val_loss: 0.3357 - val_acc: 0.8348\n",
            "Epoch 31/100\n",
            "132/132 [==============================] - 7s 53ms/step - loss: 0.2514 - acc: 0.8832 - val_loss: 0.4541 - val_acc: 0.8121\n",
            "Epoch 32/100\n",
            "132/132 [==============================] - 7s 54ms/step - loss: 0.2470 - acc: 0.8809 - val_loss: 0.3822 - val_acc: 0.8212\n",
            "Epoch 33/100\n",
            "132/132 [==============================] - 7s 53ms/step - loss: 0.2349 - acc: 0.8866 - val_loss: 0.3565 - val_acc: 0.8364\n",
            "Epoch 34/100\n",
            "132/132 [==============================] - 7s 54ms/step - loss: 0.2193 - acc: 0.8972 - val_loss: 0.4231 - val_acc: 0.8318\n",
            "Epoch 35/100\n",
            "132/132 [==============================] - 7s 55ms/step - loss: 0.2053 - acc: 0.9056 - val_loss: 0.4431 - val_acc: 0.7970\n",
            "Epoch 36/100\n",
            "132/132 [==============================] - 7s 54ms/step - loss: 0.2293 - acc: 0.8912 - val_loss: 0.3581 - val_acc: 0.8515\n",
            "Epoch 37/100\n",
            "132/132 [==============================] - 7s 52ms/step - loss: 0.2017 - acc: 0.9090 - val_loss: 0.3780 - val_acc: 0.8318\n",
            "Epoch 38/100\n",
            "132/132 [==============================] - 7s 53ms/step - loss: 0.2022 - acc: 0.9075 - val_loss: 0.3986 - val_acc: 0.8258\n",
            "Epoch 39/100\n",
            "132/132 [==============================] - 7s 53ms/step - loss: 0.1895 - acc: 0.9139 - val_loss: 0.3979 - val_acc: 0.8394\n",
            "Epoch 40/100\n",
            "132/132 [==============================] - 7s 54ms/step - loss: 0.1983 - acc: 0.9075 - val_loss: 0.4645 - val_acc: 0.8227\n",
            "Epoch 41/100\n",
            "132/132 [==============================] - 7s 53ms/step - loss: 0.1721 - acc: 0.9253 - val_loss: 0.4251 - val_acc: 0.8242\n",
            "Epoch 42/100\n",
            "132/132 [==============================] - 7s 53ms/step - loss: 0.1792 - acc: 0.9219 - val_loss: 0.5327 - val_acc: 0.8197\n",
            "Epoch 43/100\n",
            "132/132 [==============================] - 7s 53ms/step - loss: 0.1685 - acc: 0.9230 - val_loss: 0.3653 - val_acc: 0.8409\n",
            "Epoch 44/100\n",
            "132/132 [==============================] - 7s 54ms/step - loss: 0.1519 - acc: 0.9344 - val_loss: 0.4919 - val_acc: 0.8227\n",
            "Epoch 45/100\n",
            "132/132 [==============================] - 7s 52ms/step - loss: 0.1625 - acc: 0.9276 - val_loss: 0.4376 - val_acc: 0.8470\n",
            "Epoch 46/100\n",
            "132/132 [==============================] - 7s 52ms/step - loss: 0.1495 - acc: 0.9393 - val_loss: 0.5253 - val_acc: 0.8121\n",
            "Epoch 47/100\n",
            "132/132 [==============================] - 7s 53ms/step - loss: 0.1467 - acc: 0.9370 - val_loss: 0.4340 - val_acc: 0.8485\n",
            "Epoch 48/100\n",
            "132/132 [==============================] - 7s 53ms/step - loss: 0.1049 - acc: 0.9545 - val_loss: 0.5856 - val_acc: 0.8197\n",
            "Epoch 49/100\n",
            "132/132 [==============================] - 7s 53ms/step - loss: 0.1620 - acc: 0.9317 - val_loss: 0.4860 - val_acc: 0.8197\n",
            "Epoch 50/100\n",
            "132/132 [==============================] - 7s 54ms/step - loss: 0.1110 - acc: 0.9515 - val_loss: 0.5468 - val_acc: 0.8242\n",
            "Epoch 51/100\n",
            "132/132 [==============================] - 7s 54ms/step - loss: 0.1238 - acc: 0.9458 - val_loss: 0.4870 - val_acc: 0.8394\n",
            "Epoch 52/100\n",
            "132/132 [==============================] - 7s 53ms/step - loss: 0.1196 - acc: 0.9484 - val_loss: 0.5284 - val_acc: 0.8455\n",
            "Epoch 53/100\n",
            "132/132 [==============================] - 7s 53ms/step - loss: 0.1104 - acc: 0.9568 - val_loss: 0.4604 - val_acc: 0.8318\n",
            "Epoch 54/100\n",
            "132/132 [==============================] - 7s 54ms/step - loss: 0.1341 - acc: 0.9473 - val_loss: 0.5138 - val_acc: 0.8303\n",
            "Epoch 55/100\n",
            "132/132 [==============================] - 7s 54ms/step - loss: 0.1127 - acc: 0.9530 - val_loss: 0.6713 - val_acc: 0.8015\n",
            "Epoch 56/100\n",
            "132/132 [==============================] - 7s 54ms/step - loss: 0.0901 - acc: 0.9632 - val_loss: 0.5104 - val_acc: 0.8394\n",
            "Epoch 57/100\n",
            "132/132 [==============================] - 7s 53ms/step - loss: 0.1034 - acc: 0.9575 - val_loss: 0.5704 - val_acc: 0.8424\n",
            "Epoch 58/100\n",
            "132/132 [==============================] - 7s 54ms/step - loss: 0.0963 - acc: 0.9583 - val_loss: 0.8076 - val_acc: 0.7712\n",
            "Epoch 59/100\n",
            "132/132 [==============================] - 7s 54ms/step - loss: 0.1104 - acc: 0.9556 - val_loss: 0.5844 - val_acc: 0.8273\n",
            "Epoch 60/100\n",
            "132/132 [==============================] - 7s 53ms/step - loss: 0.0917 - acc: 0.9613 - val_loss: 0.6547 - val_acc: 0.8000\n",
            "Epoch 61/100\n",
            "132/132 [==============================] - 7s 53ms/step - loss: 0.0912 - acc: 0.9655 - val_loss: 0.5979 - val_acc: 0.8348\n",
            "Epoch 62/100\n",
            "132/132 [==============================] - 7s 53ms/step - loss: 0.0928 - acc: 0.9644 - val_loss: 0.6194 - val_acc: 0.8348\n",
            "Epoch 63/100\n",
            "132/132 [==============================] - 7s 53ms/step - loss: 0.0786 - acc: 0.9716 - val_loss: 0.6550 - val_acc: 0.8333\n",
            "Epoch 64/100\n",
            "132/132 [==============================] - 7s 53ms/step - loss: 0.0909 - acc: 0.9655 - val_loss: 1.8299 - val_acc: 0.7364\n",
            "Epoch 65/100\n",
            "132/132 [==============================] - 7s 54ms/step - loss: 0.0858 - acc: 0.9655 - val_loss: 0.6202 - val_acc: 0.8242\n",
            "Epoch 66/100\n",
            "132/132 [==============================] - 7s 52ms/step - loss: 0.0813 - acc: 0.9689 - val_loss: 0.7995 - val_acc: 0.8015\n",
            "Epoch 67/100\n",
            "132/132 [==============================] - 7s 54ms/step - loss: 0.0660 - acc: 0.9738 - val_loss: 0.7871 - val_acc: 0.8121\n",
            "Epoch 68/100\n",
            "132/132 [==============================] - 7s 54ms/step - loss: 0.0613 - acc: 0.9761 - val_loss: 0.7656 - val_acc: 0.8212\n",
            "Epoch 69/100\n",
            "132/132 [==============================] - 7s 53ms/step - loss: 0.0966 - acc: 0.9636 - val_loss: 0.6104 - val_acc: 0.8394\n",
            "Epoch 70/100\n",
            "132/132 [==============================] - 7s 53ms/step - loss: 0.0680 - acc: 0.9761 - val_loss: 0.5735 - val_acc: 0.8348\n",
            "Epoch 71/100\n",
            "132/132 [==============================] - 7s 53ms/step - loss: 0.0588 - acc: 0.9772 - val_loss: 0.7422 - val_acc: 0.8152\n",
            "Epoch 72/100\n",
            "132/132 [==============================] - 7s 53ms/step - loss: 0.0548 - acc: 0.9807 - val_loss: 0.6371 - val_acc: 0.8273\n",
            "Epoch 73/100\n",
            "132/132 [==============================] - 7s 53ms/step - loss: 0.0498 - acc: 0.9818 - val_loss: 0.7782 - val_acc: 0.8182\n",
            "Epoch 74/100\n",
            "132/132 [==============================] - 7s 53ms/step - loss: 0.0499 - acc: 0.9795 - val_loss: 0.6007 - val_acc: 0.8348\n",
            "Epoch 75/100\n",
            "132/132 [==============================] - 7s 53ms/step - loss: 0.0577 - acc: 0.9784 - val_loss: 0.7793 - val_acc: 0.8136\n",
            "Epoch 76/100\n",
            "132/132 [==============================] - 7s 54ms/step - loss: 0.0537 - acc: 0.9818 - val_loss: 0.7583 - val_acc: 0.8212\n",
            "Epoch 77/100\n",
            "132/132 [==============================] - 7s 53ms/step - loss: 0.0508 - acc: 0.9826 - val_loss: 0.6853 - val_acc: 0.8500\n",
            "Epoch 78/100\n",
            "132/132 [==============================] - 7s 54ms/step - loss: 0.0373 - acc: 0.9841 - val_loss: 0.7180 - val_acc: 0.8455\n",
            "Epoch 79/100\n",
            "132/132 [==============================] - 7s 53ms/step - loss: 0.0667 - acc: 0.9776 - val_loss: 0.7006 - val_acc: 0.8439\n",
            "Epoch 80/100\n",
            "132/132 [==============================] - 7s 55ms/step - loss: 0.0648 - acc: 0.9784 - val_loss: 0.7017 - val_acc: 0.8045\n",
            "Epoch 81/100\n",
            "132/132 [==============================] - 7s 55ms/step - loss: 0.0573 - acc: 0.9772 - val_loss: 0.6611 - val_acc: 0.8364\n",
            "Epoch 82/100\n",
            "132/132 [==============================] - 8s 60ms/step - loss: 0.0472 - acc: 0.9810 - val_loss: 0.6446 - val_acc: 0.8288\n",
            "Epoch 83/100\n",
            "132/132 [==============================] - 8s 61ms/step - loss: 0.0532 - acc: 0.9769 - val_loss: 0.8249 - val_acc: 0.8076\n",
            "Epoch 84/100\n",
            "132/132 [==============================] - 8s 61ms/step - loss: 0.0401 - acc: 0.9871 - val_loss: 0.7404 - val_acc: 0.8364\n",
            "Epoch 85/100\n",
            "132/132 [==============================] - 8s 60ms/step - loss: 0.0491 - acc: 0.9826 - val_loss: 0.7585 - val_acc: 0.8106\n",
            "Epoch 86/100\n",
            "132/132 [==============================] - 7s 53ms/step - loss: 0.0264 - acc: 0.9890 - val_loss: 0.6924 - val_acc: 0.8348\n",
            "Epoch 87/100\n",
            "132/132 [==============================] - 7s 54ms/step - loss: 0.0430 - acc: 0.9856 - val_loss: 0.6598 - val_acc: 0.8364\n",
            "Epoch 88/100\n",
            "132/132 [==============================] - 7s 54ms/step - loss: 0.0358 - acc: 0.9871 - val_loss: 0.7247 - val_acc: 0.8364\n",
            "Epoch 89/100\n",
            "132/132 [==============================] - 7s 52ms/step - loss: 0.0759 - acc: 0.9761 - val_loss: 0.8204 - val_acc: 0.8015\n",
            "Epoch 90/100\n",
            "132/132 [==============================] - 7s 54ms/step - loss: 0.0597 - acc: 0.9799 - val_loss: 0.6495 - val_acc: 0.8364\n",
            "Epoch 91/100\n",
            "132/132 [==============================] - 7s 55ms/step - loss: 0.0281 - acc: 0.9890 - val_loss: 1.0308 - val_acc: 0.8091\n",
            "Epoch 92/100\n",
            "132/132 [==============================] - 7s 55ms/step - loss: 0.0632 - acc: 0.9799 - val_loss: 0.7256 - val_acc: 0.8212\n",
            "Epoch 93/100\n",
            "132/132 [==============================] - 7s 54ms/step - loss: 0.0677 - acc: 0.9735 - val_loss: 0.6496 - val_acc: 0.8333\n",
            "Epoch 94/100\n",
            "132/132 [==============================] - 7s 55ms/step - loss: 0.0458 - acc: 0.9837 - val_loss: 0.7812 - val_acc: 0.8152\n",
            "Epoch 95/100\n",
            "132/132 [==============================] - 7s 54ms/step - loss: 0.0433 - acc: 0.9856 - val_loss: 0.7174 - val_acc: 0.8121\n",
            "Epoch 96/100\n",
            "132/132 [==============================] - 7s 55ms/step - loss: 0.0349 - acc: 0.9871 - val_loss: 0.6738 - val_acc: 0.8379\n",
            "Epoch 97/100\n",
            "132/132 [==============================] - 7s 54ms/step - loss: 0.0221 - acc: 0.9917 - val_loss: 0.7768 - val_acc: 0.8500\n",
            "Epoch 98/100\n",
            "132/132 [==============================] - 7s 54ms/step - loss: 0.0199 - acc: 0.9936 - val_loss: 0.8425 - val_acc: 0.8106\n",
            "Epoch 99/100\n",
            "132/132 [==============================] - 7s 55ms/step - loss: 0.0311 - acc: 0.9894 - val_loss: 0.8494 - val_acc: 0.8242\n",
            "Epoch 100/100\n",
            "132/132 [==============================] - 7s 54ms/step - loss: 0.0393 - acc: 0.9879 - val_loss: 0.7044 - val_acc: 0.8288\n"
          ]
        }
      ]
    },
    {
      "cell_type": "code",
      "source": [
        "\n",
        "%matplotlib inline\n",
        "\n",
        "import matplotlib.pyplot as plt\n",
        "\n",
        "plt.style.use(\"ggplot\")\n",
        "plt.figure()\n",
        "plt.plot(np.arange(0, 100), H.history[\"loss\"], label=\"train_loss\")\n",
        "plt.plot(np.arange(0, 100), H.history[\"val_loss\"], label=\"val_loss\")\n",
        "plt.title(\"Loss Plot\")\n",
        "plt.xlabel(\"Epoch #\")\n",
        "plt.ylabel(\"Loss\")\n",
        "plt.legend()\n",
        "plt.show()"
      ],
      "metadata": {
        "id": "YJFERsM789F4",
        "outputId": "2330d0bc-66f8-4097-8e3b-b591d5e222b6",
        "colab": {
          "base_uri": "https://localhost:8080/",
          "height": 298
        }
      },
      "execution_count": 30,
      "outputs": [
        {
          "output_type": "display_data",
          "data": {
            "image/png": "[encoded data removed]",
            "text/plain": [
              "<Figure size 432x288 with 1 Axes>"
            ]
          },
          "metadata": {}
        }
      ]
    },
    {
      "cell_type": "code",
      "source": [
        "plt.style.use(\"ggplot\")\n",
        "plt.figure()\n",
        "plt.plot(np.arange(0, 100), H2.history[\"acc\"], label=\"train_acc\")\n",
        "plt.plot(np.arange(0, 100), H2.history[\"val_acc\"], label=\"val_acc\")\n",
        "plt.title(\"Accuracy Plot\")\n",
        "plt.xlabel(\"Epoch #\")\n",
        "plt.ylabel(\"Acc\")\n",
        "plt.legend()\n",
        "plt.show()"
      ],
      "metadata": {
        "id": "b5nUdjJMD2xN",
        "outputId": "35183999-fcd3-4b61-f8d2-6c8c39f3c7f1",
        "colab": {
          "base_uri": "https://localhost:8080/",
          "height": 298
        }
      },
      "execution_count": 31,
      "outputs": [
        {
          "output_type": "display_data",
          "data": {
            "image/png": "[encoded data removed]",
            "text/plain": [
              "<Figure size 432x288 with 1 Axes>"
            ]
          },
          "metadata": {}
        }
      ]
    },
    {
      "cell_type": "code",
      "source": [
        "from sklearn.metrics import classification_report\n",
        "\n",
        "target = ['bening']\n",
        "pred = model2.predict(x_val)\n",
        "labels = (pred > 0.5).astype(np.int)\n",
        "\n",
        "\n",
        "print(classification_report(y_val, labels))"
      ],
      "metadata": {
        "id": "WtCg-RtTD20E",
        "outputId": "ac1e15c4-04c6-442c-f8af-4ade53b679f3",
        "colab": {
          "base_uri": "https://localhost:8080/"
        }
      },
      "execution_count": 33,
      "outputs": [
        {
          "output_type": "stream",
          "name": "stdout",
          "text": [
            "              precision    recall  f1-score   support\n",
            "\n",
            "           0       0.88      0.80      0.84       360\n",
            "           1       0.78      0.87      0.82       300\n",
            "\n",
            "    accuracy                           0.83       660\n",
            "   macro avg       0.83      0.83      0.83       660\n",
            "weighted avg       0.83      0.83      0.83       660\n",
            "\n"
          ]
        }
      ]
    },
    {
      "cell_type": "markdown",
      "source": [
        "MODEL 3"
      ],
      "metadata": {
        "id": "lr-bsJGtBUO6"
      }
    },
    {
      "cell_type": "code",
      "source": [
        "model3 = Sequential()\n",
        "\n",
        "model3.add(InputLayer(input_shape=[150,150,3]))\n",
        "model3.add(Conv2D(filters=64, kernel_size=3, activation='relu'))\n",
        "model3.add(MaxPool2D(pool_size=2))\n",
        "model3.add(BatchNormalization())\n",
        "\n",
        "model3.add(Conv2D(filters=64, kernel_size=3, activation='relu'))\n",
        "model3.add(MaxPool2D(pool_size=2))\n",
        "model3.add(BatchNormalization())\n",
        "\n",
        "model3.add(Conv2D(filters=128, kernel_size=3, activation='relu'))\n",
        "model3.add(MaxPool2D(pool_size=2))\n",
        "model3.add(BatchNormalization())\n",
        "\n",
        "model3.add(Conv2D(filters=128, kernel_size=3, activation='relu'))\n",
        "model3.add(MaxPool2D(pool_size=2))\n",
        "model3.add(BatchNormalization())\n",
        "model3.add(Dropout(0.5))\n",
        "model3.add(Flatten())\n",
        "\n",
        "model3.add(Dense(512, activation='relu'))\n",
        "model3.add(Dropout(0.5))\n",
        "model3.add(Dense(128, activation='relu'))\n",
        "model3.add(Dense(1, activation='sigmoid'))"
      ],
      "metadata": {
        "id": "P5ACkSoe4UGW"
      },
      "execution_count": 34,
      "outputs": []
    },
    {
      "cell_type": "code",
      "source": [
        ""
      ],
      "metadata": {
        "id": "SqeleUZs4UJR"
      },
      "execution_count": 34,
      "outputs": []
    },
    {
      "cell_type": "code",
      "source": [
        "print(model3.summary())"
      ],
      "metadata": {
        "outputId": "78c9c48e-cecc-4b25-87f3-815aa1a7786d",
        "colab": {
          "base_uri": "https://localhost:8080/"
        },
        "id": "Ze5eV5gZHaJB"
      },
      "execution_count": 38,
      "outputs": [
        {
          "output_type": "stream",
          "name": "stdout",
          "text": [
            "Model: \"sequential_2\"\n",
            "_________________________________________________________________\n",
            " Layer (type)                Output Shape              Param #   \n",
            "=================================================================\n",
            " conv2d_7 (Conv2D)           (None, 148, 148, 64)      1792      \n",
            "                                                                 \n",
            " max_pooling2d_7 (MaxPooling  (None, 74, 74, 64)       0         \n",
            " 2D)                                                             \n",
            "                                                                 \n",
            " batch_normalization_1 (Batc  (None, 74, 74, 64)       256       \n",
            " hNormalization)                                                 \n",
            "                                                                 \n",
            " conv2d_8 (Conv2D)           (None, 72, 72, 64)        36928     \n",
            "                                                                 \n",
            " max_pooling2d_8 (MaxPooling  (None, 36, 36, 64)       0         \n",
            " 2D)                                                             \n",
            "                                                                 \n",
            " batch_normalization_2 (Batc  (None, 36, 36, 64)       256       \n",
            " hNormalization)                                                 \n",
            "                                                                 \n",
            " conv2d_9 (Conv2D)           (None, 34, 34, 128)       73856     \n",
            "                                                                 \n",
            " max_pooling2d_9 (MaxPooling  (None, 17, 17, 128)      0         \n",
            " 2D)                                                             \n",
            "                                                                 \n",
            " batch_normalization_3 (Batc  (None, 17, 17, 128)      512       \n",
            " hNormalization)                                                 \n",
            "                                                                 \n",
            " conv2d_10 (Conv2D)          (None, 15, 15, 128)       147584    \n",
            "                                                                 \n",
            " max_pooling2d_10 (MaxPoolin  (None, 7, 7, 128)        0         \n",
            " g2D)                                                            \n",
            "                                                                 \n",
            " batch_normalization_4 (Batc  (None, 7, 7, 128)        512       \n",
            " hNormalization)                                                 \n",
            "                                                                 \n",
            " dropout_1 (Dropout)         (None, 7, 7, 128)         0         \n",
            "                                                                 \n",
            " flatten_2 (Flatten)         (None, 6272)              0         \n",
            "                                                                 \n",
            " dense_5 (Dense)             (None, 512)               3211776   \n",
            "                                                                 \n",
            " dropout_2 (Dropout)         (None, 512)               0         \n",
            "                                                                 \n",
            " dense_6 (Dense)             (None, 128)               65664     \n",
            "                                                                 \n",
            " dense_7 (Dense)             (None, 1)                 129       \n",
            "                                                                 \n",
            "=================================================================\n",
            "Total params: 3,539,265\n",
            "Trainable params: 3,538,497\n",
            "Non-trainable params: 768\n",
            "_________________________________________________________________\n",
            "None\n"
          ]
        }
      ]
    },
    {
      "cell_type": "code",
      "source": [
        "# Compile model\n",
        "from tensorflow.keras.optimizers import Adam\n",
        "\n",
        "model3.compile(optimizer=Adam(lr=0.001), \n",
        "              loss='binary_crossentropy', \n",
        "              metrics=['acc'])"
      ],
      "metadata": {
        "id": "ZKufQHoN4UMO",
        "outputId": "4152abd0-3bf3-4db8-edb5-f57b1b8d11fd",
        "colab": {
          "base_uri": "https://localhost:8080/"
        }
      },
      "execution_count": 39,
      "outputs": [
        {
          "output_type": "stream",
          "name": "stderr",
          "text": [
            "/usr/local/lib/python3.7/dist-packages/keras/optimizer_v2/adam.py:105: UserWarning: The `lr` argument is deprecated, use `learning_rate` instead.\n",
            "  super(Adam, self).__init__(name, **kwargs)\n"
          ]
        }
      ]
    },
    {
      "cell_type": "code",
      "source": [
        "H3 = model3.fit(x_train, y_train, batch_size=20, epochs=100, validation_data=(x_val, y_val))"
      ],
      "metadata": {
        "id": "dOxZh9L_4UPs",
        "outputId": "f2a28e92-8177-4029-c580-d8d690442d52",
        "colab": {
          "base_uri": "https://localhost:8080/"
        }
      },
      "execution_count": 40,
      "outputs": [
        {
          "output_type": "stream",
          "name": "stdout",
          "text": [
            "Epoch 1/100\n",
            "132/132 [==============================] - 9s 61ms/step - loss: 0.8941 - acc: 0.7304 - val_loss: 1.0227 - val_acc: 0.4545\n",
            "Epoch 2/100\n",
            "132/132 [==============================] - 8s 58ms/step - loss: 0.5375 - acc: 0.7649 - val_loss: 1.2962 - val_acc: 0.4758\n",
            "Epoch 3/100\n",
            "132/132 [==============================] - 8s 60ms/step - loss: 0.4385 - acc: 0.7903 - val_loss: 0.5297 - val_acc: 0.7576\n",
            "Epoch 4/100\n",
            "132/132 [==============================] - 10s 73ms/step - loss: 0.4326 - acc: 0.8024 - val_loss: 0.5314 - val_acc: 0.7606\n",
            "Epoch 5/100\n",
            "132/132 [==============================] - 9s 65ms/step - loss: 0.4027 - acc: 0.8024 - val_loss: 0.5372 - val_acc: 0.7561\n",
            "Epoch 6/100\n",
            "132/132 [==============================] - 9s 65ms/step - loss: 0.3762 - acc: 0.8309 - val_loss: 0.3673 - val_acc: 0.8364\n",
            "Epoch 7/100\n",
            "132/132 [==============================] - 8s 64ms/step - loss: 0.3446 - acc: 0.8362 - val_loss: 0.4807 - val_acc: 0.7545\n",
            "Epoch 8/100\n",
            "132/132 [==============================] - 8s 60ms/step - loss: 0.3402 - acc: 0.8358 - val_loss: 0.4629 - val_acc: 0.7818\n",
            "Epoch 9/100\n",
            "132/132 [==============================] - 8s 58ms/step - loss: 0.3396 - acc: 0.8411 - val_loss: 0.3430 - val_acc: 0.8455\n",
            "Epoch 10/100\n",
            "132/132 [==============================] - 8s 58ms/step - loss: 0.3236 - acc: 0.8513 - val_loss: 0.5235 - val_acc: 0.7909\n",
            "Epoch 11/100\n",
            "132/132 [==============================] - 8s 60ms/step - loss: 0.3259 - acc: 0.8453 - val_loss: 0.3618 - val_acc: 0.8318\n",
            "Epoch 12/100\n",
            "132/132 [==============================] - 8s 58ms/step - loss: 0.3086 - acc: 0.8449 - val_loss: 0.9652 - val_acc: 0.6288\n",
            "Epoch 13/100\n",
            "132/132 [==============================] - 8s 58ms/step - loss: 0.3027 - acc: 0.8699 - val_loss: 0.3807 - val_acc: 0.8348\n",
            "Epoch 14/100\n",
            "132/132 [==============================] - 8s 58ms/step - loss: 0.2958 - acc: 0.8551 - val_loss: 0.4068 - val_acc: 0.8045\n",
            "Epoch 15/100\n",
            "132/132 [==============================] - 8s 58ms/step - loss: 0.2942 - acc: 0.8559 - val_loss: 0.3542 - val_acc: 0.8485\n",
            "Epoch 16/100\n",
            "132/132 [==============================] - 8s 58ms/step - loss: 0.2730 - acc: 0.8711 - val_loss: 0.4361 - val_acc: 0.8242\n",
            "Epoch 17/100\n",
            "132/132 [==============================] - 8s 59ms/step - loss: 0.2754 - acc: 0.8749 - val_loss: 0.4528 - val_acc: 0.8000\n",
            "Epoch 18/100\n",
            "132/132 [==============================] - 8s 58ms/step - loss: 0.2725 - acc: 0.8741 - val_loss: 0.3388 - val_acc: 0.8561\n",
            "Epoch 19/100\n",
            "132/132 [==============================] - 8s 58ms/step - loss: 0.2577 - acc: 0.8821 - val_loss: 0.3670 - val_acc: 0.8303\n",
            "Epoch 20/100\n",
            "132/132 [==============================] - 8s 58ms/step - loss: 0.2542 - acc: 0.8870 - val_loss: 0.3387 - val_acc: 0.8364\n",
            "Epoch 21/100\n",
            "132/132 [==============================] - 8s 58ms/step - loss: 0.2411 - acc: 0.8915 - val_loss: 0.4455 - val_acc: 0.8258\n",
            "Epoch 22/100\n",
            "132/132 [==============================] - 8s 59ms/step - loss: 0.2425 - acc: 0.8931 - val_loss: 0.5974 - val_acc: 0.7970\n",
            "Epoch 23/100\n",
            "132/132 [==============================] - 8s 59ms/step - loss: 0.2226 - acc: 0.8965 - val_loss: 0.4548 - val_acc: 0.7667\n",
            "Epoch 24/100\n",
            "132/132 [==============================] - 8s 59ms/step - loss: 0.2287 - acc: 0.8999 - val_loss: 0.4833 - val_acc: 0.8121\n",
            "Epoch 25/100\n",
            "132/132 [==============================] - 8s 61ms/step - loss: 0.2171 - acc: 0.9082 - val_loss: 0.3605 - val_acc: 0.8545\n",
            "Epoch 26/100\n",
            "132/132 [==============================] - 8s 59ms/step - loss: 0.2144 - acc: 0.9094 - val_loss: 0.3465 - val_acc: 0.8500\n",
            "Epoch 27/100\n",
            "132/132 [==============================] - 8s 58ms/step - loss: 0.2122 - acc: 0.9063 - val_loss: 0.6020 - val_acc: 0.7879\n",
            "Epoch 28/100\n",
            "132/132 [==============================] - 8s 59ms/step - loss: 0.2048 - acc: 0.9060 - val_loss: 0.4047 - val_acc: 0.8470\n",
            "Epoch 29/100\n",
            "132/132 [==============================] - 8s 59ms/step - loss: 0.1915 - acc: 0.9101 - val_loss: 0.9444 - val_acc: 0.7485\n",
            "Epoch 30/100\n",
            "132/132 [==============================] - 8s 58ms/step - loss: 0.1947 - acc: 0.9116 - val_loss: 0.3532 - val_acc: 0.8576\n",
            "Epoch 31/100\n",
            "132/132 [==============================] - 8s 62ms/step - loss: 0.1838 - acc: 0.9181 - val_loss: 0.4369 - val_acc: 0.8167\n",
            "Epoch 32/100\n",
            "132/132 [==============================] - 8s 58ms/step - loss: 0.1735 - acc: 0.9215 - val_loss: 0.5861 - val_acc: 0.8030\n",
            "Epoch 33/100\n",
            "132/132 [==============================] - 8s 58ms/step - loss: 0.1625 - acc: 0.9302 - val_loss: 0.6020 - val_acc: 0.8030\n",
            "Epoch 34/100\n",
            "132/132 [==============================] - 8s 58ms/step - loss: 0.1400 - acc: 0.9416 - val_loss: 0.4092 - val_acc: 0.8561\n",
            "Epoch 35/100\n",
            "132/132 [==============================] - 8s 58ms/step - loss: 0.1549 - acc: 0.9336 - val_loss: 0.5096 - val_acc: 0.8394\n",
            "Epoch 36/100\n",
            "132/132 [==============================] - 8s 62ms/step - loss: 0.1439 - acc: 0.9397 - val_loss: 0.3936 - val_acc: 0.8500\n",
            "Epoch 37/100\n",
            "132/132 [==============================] - 9s 71ms/step - loss: 0.1405 - acc: 0.9397 - val_loss: 1.0997 - val_acc: 0.7530\n",
            "Epoch 38/100\n",
            "132/132 [==============================] - 9s 66ms/step - loss: 0.1282 - acc: 0.9431 - val_loss: 0.3844 - val_acc: 0.8379\n",
            "Epoch 39/100\n",
            "132/132 [==============================] - 10s 76ms/step - loss: 0.1350 - acc: 0.9439 - val_loss: 0.6949 - val_acc: 0.8333\n",
            "Epoch 40/100\n",
            "132/132 [==============================] - 9s 65ms/step - loss: 0.1486 - acc: 0.9427 - val_loss: 0.6602 - val_acc: 0.8303\n",
            "Epoch 41/100\n",
            "132/132 [==============================] - 9s 67ms/step - loss: 0.1310 - acc: 0.9484 - val_loss: 0.8121 - val_acc: 0.7985\n",
            "Epoch 42/100\n",
            "132/132 [==============================] - 9s 67ms/step - loss: 0.1298 - acc: 0.9477 - val_loss: 0.6315 - val_acc: 0.8273\n",
            "Epoch 43/100\n",
            "132/132 [==============================] - 8s 64ms/step - loss: 0.1285 - acc: 0.9499 - val_loss: 0.4089 - val_acc: 0.8303\n",
            "Epoch 44/100\n",
            "132/132 [==============================] - 8s 59ms/step - loss: 0.1308 - acc: 0.9473 - val_loss: 0.4397 - val_acc: 0.8258\n",
            "Epoch 45/100\n",
            "132/132 [==============================] - 8s 58ms/step - loss: 0.1018 - acc: 0.9553 - val_loss: 0.5097 - val_acc: 0.8394\n",
            "Epoch 46/100\n",
            "132/132 [==============================] - 8s 58ms/step - loss: 0.1049 - acc: 0.9568 - val_loss: 0.8458 - val_acc: 0.7712\n",
            "Epoch 47/100\n",
            "132/132 [==============================] - 8s 58ms/step - loss: 0.1078 - acc: 0.9575 - val_loss: 0.4733 - val_acc: 0.8561\n",
            "Epoch 48/100\n",
            "132/132 [==============================] - 8s 59ms/step - loss: 0.0844 - acc: 0.9659 - val_loss: 0.8532 - val_acc: 0.8318\n",
            "Epoch 49/100\n",
            "132/132 [==============================] - 8s 59ms/step - loss: 0.0910 - acc: 0.9666 - val_loss: 0.5066 - val_acc: 0.8303\n",
            "Epoch 50/100\n",
            "132/132 [==============================] - 8s 58ms/step - loss: 0.0900 - acc: 0.9655 - val_loss: 0.5201 - val_acc: 0.8455\n",
            "Epoch 51/100\n",
            "132/132 [==============================] - 8s 59ms/step - loss: 0.0843 - acc: 0.9697 - val_loss: 0.5463 - val_acc: 0.8439\n",
            "Epoch 52/100\n",
            "132/132 [==============================] - 8s 59ms/step - loss: 0.0846 - acc: 0.9662 - val_loss: 0.6157 - val_acc: 0.8318\n",
            "Epoch 53/100\n",
            "132/132 [==============================] - 8s 58ms/step - loss: 0.0777 - acc: 0.9685 - val_loss: 1.2561 - val_acc: 0.7379\n",
            "Epoch 54/100\n",
            "132/132 [==============================] - 8s 59ms/step - loss: 0.0885 - acc: 0.9670 - val_loss: 0.5354 - val_acc: 0.8061\n",
            "Epoch 55/100\n",
            "132/132 [==============================] - 8s 61ms/step - loss: 0.0781 - acc: 0.9704 - val_loss: 0.7729 - val_acc: 0.8197\n",
            "Epoch 56/100\n",
            "132/132 [==============================] - 8s 58ms/step - loss: 0.0481 - acc: 0.9829 - val_loss: 0.5962 - val_acc: 0.8485\n",
            "Epoch 57/100\n",
            "132/132 [==============================] - 8s 59ms/step - loss: 0.0739 - acc: 0.9742 - val_loss: 2.6462 - val_acc: 0.7727\n",
            "Epoch 58/100\n",
            "132/132 [==============================] - 8s 59ms/step - loss: 0.0642 - acc: 0.9772 - val_loss: 0.6852 - val_acc: 0.8394\n",
            "Epoch 59/100\n",
            "132/132 [==============================] - 8s 58ms/step - loss: 0.0566 - acc: 0.9791 - val_loss: 0.5988 - val_acc: 0.8424\n",
            "Epoch 60/100\n",
            "132/132 [==============================] - 8s 59ms/step - loss: 0.0628 - acc: 0.9784 - val_loss: 0.6280 - val_acc: 0.8091\n",
            "Epoch 61/100\n",
            "132/132 [==============================] - 8s 58ms/step - loss: 0.0633 - acc: 0.9772 - val_loss: 0.6799 - val_acc: 0.8258\n",
            "Epoch 62/100\n",
            "132/132 [==============================] - 8s 58ms/step - loss: 0.0643 - acc: 0.9772 - val_loss: 0.7375 - val_acc: 0.8197\n",
            "Epoch 63/100\n",
            "132/132 [==============================] - 8s 62ms/step - loss: 0.0570 - acc: 0.9784 - val_loss: 0.7466 - val_acc: 0.8409\n",
            "Epoch 64/100\n",
            "132/132 [==============================] - 8s 58ms/step - loss: 0.0470 - acc: 0.9856 - val_loss: 0.6073 - val_acc: 0.8515\n",
            "Epoch 65/100\n",
            "132/132 [==============================] - 8s 58ms/step - loss: 0.0563 - acc: 0.9772 - val_loss: 0.8142 - val_acc: 0.7985\n",
            "Epoch 66/100\n",
            "132/132 [==============================] - 8s 58ms/step - loss: 0.0699 - acc: 0.9784 - val_loss: 0.7102 - val_acc: 0.8182\n",
            "Epoch 67/100\n",
            "132/132 [==============================] - 8s 58ms/step - loss: 0.0504 - acc: 0.9826 - val_loss: 0.6394 - val_acc: 0.8273\n",
            "Epoch 68/100\n",
            "132/132 [==============================] - 8s 60ms/step - loss: 0.0488 - acc: 0.9810 - val_loss: 0.6282 - val_acc: 0.8485\n",
            "Epoch 69/100\n",
            "132/132 [==============================] - 8s 59ms/step - loss: 0.0540 - acc: 0.9818 - val_loss: 0.6028 - val_acc: 0.8470\n",
            "Epoch 70/100\n",
            "132/132 [==============================] - 8s 58ms/step - loss: 0.0445 - acc: 0.9845 - val_loss: 0.8434 - val_acc: 0.8167\n",
            "Epoch 71/100\n",
            "132/132 [==============================] - 8s 59ms/step - loss: 0.0459 - acc: 0.9822 - val_loss: 0.7480 - val_acc: 0.8288\n",
            "Epoch 72/100\n",
            "132/132 [==============================] - 8s 58ms/step - loss: 0.0638 - acc: 0.9784 - val_loss: 0.7124 - val_acc: 0.8318\n",
            "Epoch 73/100\n",
            "132/132 [==============================] - 8s 58ms/step - loss: 0.0347 - acc: 0.9860 - val_loss: 0.7436 - val_acc: 0.8364\n",
            "Epoch 74/100\n",
            "132/132 [==============================] - 8s 58ms/step - loss: 0.0774 - acc: 0.9750 - val_loss: 0.8861 - val_acc: 0.8076\n",
            "Epoch 75/100\n",
            "132/132 [==============================] - 8s 59ms/step - loss: 0.0439 - acc: 0.9822 - val_loss: 0.6496 - val_acc: 0.8424\n",
            "Epoch 76/100\n",
            "132/132 [==============================] - 8s 58ms/step - loss: 0.0437 - acc: 0.9833 - val_loss: 0.9045 - val_acc: 0.8318\n",
            "Epoch 77/100\n",
            "132/132 [==============================] - 8s 59ms/step - loss: 0.0369 - acc: 0.9882 - val_loss: 0.8128 - val_acc: 0.8364\n",
            "Epoch 78/100\n",
            "132/132 [==============================] - 8s 59ms/step - loss: 0.0326 - acc: 0.9863 - val_loss: 0.6672 - val_acc: 0.8061\n",
            "Epoch 79/100\n",
            "132/132 [==============================] - 8s 59ms/step - loss: 0.0376 - acc: 0.9871 - val_loss: 0.7328 - val_acc: 0.8364\n",
            "Epoch 80/100\n",
            "132/132 [==============================] - 8s 60ms/step - loss: 0.0342 - acc: 0.9909 - val_loss: 0.7315 - val_acc: 0.8470\n",
            "Epoch 81/100\n",
            "132/132 [==============================] - 8s 60ms/step - loss: 0.0495 - acc: 0.9837 - val_loss: 0.5915 - val_acc: 0.8439\n",
            "Epoch 82/100\n",
            "132/132 [==============================] - 8s 60ms/step - loss: 0.0434 - acc: 0.9856 - val_loss: 0.8051 - val_acc: 0.8212\n",
            "Epoch 83/100\n",
            "132/132 [==============================] - 8s 60ms/step - loss: 0.0369 - acc: 0.9848 - val_loss: 0.8866 - val_acc: 0.8227\n",
            "Epoch 84/100\n",
            "132/132 [==============================] - 8s 60ms/step - loss: 0.0417 - acc: 0.9856 - val_loss: 0.6829 - val_acc: 0.8394\n",
            "Epoch 85/100\n",
            "132/132 [==============================] - 8s 60ms/step - loss: 0.0348 - acc: 0.9879 - val_loss: 0.8965 - val_acc: 0.8379\n",
            "Epoch 86/100\n",
            "132/132 [==============================] - 8s 59ms/step - loss: 0.0403 - acc: 0.9867 - val_loss: 0.9181 - val_acc: 0.7591\n",
            "Epoch 87/100\n",
            "132/132 [==============================] - 8s 59ms/step - loss: 0.0236 - acc: 0.9920 - val_loss: 0.7526 - val_acc: 0.8500\n",
            "Epoch 88/100\n",
            "132/132 [==============================] - 8s 59ms/step - loss: 0.0108 - acc: 0.9966 - val_loss: 0.8867 - val_acc: 0.8424\n",
            "Epoch 89/100\n",
            "132/132 [==============================] - 8s 59ms/step - loss: 0.0410 - acc: 0.9875 - val_loss: 1.2278 - val_acc: 0.7955\n",
            "Epoch 90/100\n",
            "132/132 [==============================] - 8s 59ms/step - loss: 0.0380 - acc: 0.9898 - val_loss: 0.7647 - val_acc: 0.8318\n",
            "Epoch 91/100\n",
            "132/132 [==============================] - 8s 60ms/step - loss: 0.0246 - acc: 0.9924 - val_loss: 0.9574 - val_acc: 0.8394\n",
            "Epoch 92/100\n",
            "132/132 [==============================] - 8s 58ms/step - loss: 0.0371 - acc: 0.9890 - val_loss: 0.7684 - val_acc: 0.8485\n",
            "Epoch 93/100\n",
            "132/132 [==============================] - 8s 59ms/step - loss: 0.0308 - acc: 0.9898 - val_loss: 0.8497 - val_acc: 0.8364\n",
            "Epoch 94/100\n",
            "132/132 [==============================] - 8s 59ms/step - loss: 0.0456 - acc: 0.9803 - val_loss: 0.9276 - val_acc: 0.8409\n",
            "Epoch 95/100\n",
            "132/132 [==============================] - 8s 60ms/step - loss: 0.0393 - acc: 0.9875 - val_loss: 0.7220 - val_acc: 0.8439\n",
            "Epoch 96/100\n",
            "132/132 [==============================] - 8s 59ms/step - loss: 0.0230 - acc: 0.9913 - val_loss: 0.7444 - val_acc: 0.8348\n",
            "Epoch 97/100\n",
            "132/132 [==============================] - 8s 60ms/step - loss: 0.0185 - acc: 0.9932 - val_loss: 0.8804 - val_acc: 0.8485\n",
            "Epoch 98/100\n",
            "132/132 [==============================] - 8s 59ms/step - loss: 0.0344 - acc: 0.9867 - val_loss: 1.0086 - val_acc: 0.8136\n",
            "Epoch 99/100\n",
            "132/132 [==============================] - 8s 60ms/step - loss: 0.0206 - acc: 0.9939 - val_loss: 0.8433 - val_acc: 0.8470\n",
            "Epoch 100/100\n",
            "132/132 [==============================] - 8s 59ms/step - loss: 0.0281 - acc: 0.9924 - val_loss: 0.7136 - val_acc: 0.8561\n"
          ]
        }
      ]
    },
    {
      "cell_type": "code",
      "source": [
        "%matplotlib inline\n",
        "\n",
        "import matplotlib.pyplot as plt\n",
        "\n",
        "plt.style.use(\"ggplot\")\n",
        "plt.figure()\n",
        "plt.plot(np.arange(0, 100), H3.history[\"loss\"], label=\"train_loss\")\n",
        "plt.plot(np.arange(0, 100), H3.history[\"val_loss\"], label=\"val_loss\")\n",
        "plt.title(\"Loss Plot\")\n",
        "plt.xlabel(\"Epoch #\")\n",
        "plt.ylabel(\"Loss\")\n",
        "plt.legend()\n",
        "plt.show()"
      ],
      "metadata": {
        "id": "GtaENB2IHvJm",
        "outputId": "58d29605-ce76-4da8-d80e-f7effa397bbb",
        "colab": {
          "base_uri": "https://localhost:8080/",
          "height": 298
        }
      },
      "execution_count": 41,
      "outputs": [
        {
          "output_type": "display_data",
          "data": {
            "image/png": "[encoded data removed]",
            "text/plain": [
              "<Figure size 432x288 with 1 Axes>"
            ]
          },
          "metadata": {}
        }
      ]
    },
    {
      "cell_type": "code",
      "source": [
        "plt.style.use(\"ggplot\")\n",
        "plt.figure()\n",
        "plt.plot(np.arange(0, 100), H3.history[\"acc\"], label=\"train_acc\")\n",
        "plt.plot(np.arange(0, 100), H3.history[\"val_acc\"], label=\"val_acc\")\n",
        "plt.title(\"Accuracy Plot\")\n",
        "plt.xlabel(\"Epoch #\")\n",
        "plt.ylabel(\"Acc\")\n",
        "plt.legend()\n",
        "plt.show()"
      ],
      "metadata": {
        "id": "oYS9HIb_HvSG",
        "outputId": "c0f1f69a-f851-4044-a7e4-9aee379c442f",
        "colab": {
          "base_uri": "https://localhost:8080/",
          "height": 298
        }
      },
      "execution_count": 42,
      "outputs": [
        {
          "output_type": "display_data",
          "data": {
            "image/png": "[encoded data removed]",
            "text/plain": [
              "<Figure size 432x288 with 1 Axes>"
            ]
          },
          "metadata": {}
        }
      ]
    },
    {
      "cell_type": "code",
      "source": [
        "from sklearn.metrics import classification_report\n",
        "\n",
        "target = ['bening']\n",
        "pred = model3.predict(x_val)\n",
        "labels = (pred > 0.5).astype(np.int)\n",
        "\n",
        "\n",
        "print(classification_report(y_val, labels))"
      ],
      "metadata": {
        "id": "_l9O8yUeHvgh",
        "outputId": "df979ea1-0a5a-4a17-ccbd-62903aca9efd",
        "colab": {
          "base_uri": "https://localhost:8080/"
        }
      },
      "execution_count": 43,
      "outputs": [
        {
          "output_type": "stream",
          "name": "stdout",
          "text": [
            "              precision    recall  f1-score   support\n",
            "\n",
            "           0       0.90      0.83      0.86       360\n",
            "           1       0.81      0.89      0.85       300\n",
            "\n",
            "    accuracy                           0.86       660\n",
            "   macro avg       0.86      0.86      0.86       660\n",
            "weighted avg       0.86      0.86      0.86       660\n",
            "\n"
          ]
        }
      ]
    },
    {
      "cell_type": "code",
      "source": [
        ""
      ],
      "metadata": {
        "id": "0hZorYCq8GvN"
      },
      "execution_count": null,
      "outputs": []
    }
  ]
}