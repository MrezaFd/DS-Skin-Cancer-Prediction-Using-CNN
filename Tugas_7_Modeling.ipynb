{
  "nbformat": 4,
  "nbformat_minor": 0,
  "metadata": {
    "colab": {
      "name": "Tugas_7_Modeling",
      "provenance": [],
      "authorship_tag": "ABX9TyOACw4o0ZINBea8rHvdhLbG",
      "include_colab_link": true
    },
    "kernelspec": {
      "name": "python3",
      "display_name": "Python 3"
    },
    "language_info": {
      "name": "python"
    }
  },
  "cells": [
    {
      "cell_type": "markdown",
      "metadata": {
        "id": "view-in-github",
        "colab_type": "text"
      },
      "source": [
        "<a href=\"https://colab.research.google.com/github/MrezaFd/Tugas-Besar-ML-059-055-/blob/main/Tugas_7_Modeling.ipynb\" target=\"_parent\"><img src=\"https://colab.research.google.com/assets/colab-badge.svg\" alt=\"Open In Colab\"/></a>"
      ]
    },
    {
      "cell_type": "code",
      "metadata": {
        "id": "X10Fs0sZdypw"
      },
      "source": [
        "import numpy as np\n",
        "import pandas as pd\n",
        "import matplotlib.pyplot as plt"
      ],
      "execution_count": 1,
      "outputs": []
    },
    {
      "cell_type": "code",
      "metadata": {
        "colab": {
          "resources": {
            "http://localhost:8080/nbextensions/google.colab/files.js": {
              "data": "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",
              "ok": true,
              "headers": [
                [
                  "content-type",
                  "application/javascript"
                ]
              ],
              "status": 200,
              "status_text": ""
            }
          },
          "base_uri": "https://localhost:8080/",
          "height": 90
        },
        "id": "cjLzq2S3eRGN",
        "outputId": "bd123257-68e4-41b1-c860-28375f8cc7c6"
      },
      "source": [
        "from google.colab import files #import lib\n",
        "files.upload()"
      ],
      "execution_count": 2,
      "outputs": [
        {
          "output_type": "display_data",
          "data": {
            "text/html": [
              "\n",
              "     <input type=\"file\" id=\"files-d74bccb0-8b60-472a-8dcd-a259babaa995\" name=\"files[]\" multiple disabled\n",
              "        style=\"border:none\" />\n",
              "     <output id=\"result-d74bccb0-8b60-472a-8dcd-a259babaa995\">\n",
              "      Upload widget is only available when the cell has been executed in the\n",
              "      current browser session. Please rerun this cell to enable.\n",
              "      </output>\n",
              "      <script src=\"/nbextensions/google.colab/files.js\"></script> "
            ],
            "text/plain": [
              "<IPython.core.display.HTML object>"
            ]
          },
          "metadata": {}
        },
        {
          "output_type": "stream",
          "name": "stdout",
          "text": [
            "Saving kaggle.json to kaggle.json\n"
          ]
        },
        {
          "output_type": "execute_result",
          "data": {
            "text/plain": [
              "{'kaggle.json': b'{\"username\":\"radityajs28\",\"key\":\"c68d62e8c60d5e8e868437c6f9256a81\"}'}"
            ]
          },
          "metadata": {},
          "execution_count": 2
        }
      ]
    },
    {
      "cell_type": "code",
      "metadata": {
        "id": "vyhPRKKSeToo"
      },
      "source": [
        "!mkdir -p ~/.kaggle #membuat directory bernama kaggle \n",
        "!cp kaggle.json ~/.kaggle/ #copy file kaggle.json upload tadi ke directory baru\n",
        "!chmod 600 ~/.kaggle/kaggle.json #berikan izin untuk file kaggle.jsonv"
      ],
      "execution_count": 3,
      "outputs": []
    },
    {
      "cell_type": "code",
      "metadata": {
        "colab": {
          "base_uri": "https://localhost:8080/"
        },
        "id": "ITeMh8TVebqz",
        "outputId": "5c06fea2-f72e-42ca-87a7-d3ed088bd89e"
      },
      "source": [
        "#Unduh dataset\n",
        "!kaggle datasets download -d fanconic/skin-cancer-malignant-vs-benign"
      ],
      "execution_count": 4,
      "outputs": [
        {
          "output_type": "stream",
          "name": "stdout",
          "text": [
            "Downloading skin-cancer-malignant-vs-benign.zip to /content\n",
            " 97% 314M/325M [00:06<00:00, 75.0MB/s]\n",
            "100% 325M/325M [00:06<00:00, 55.0MB/s]\n"
          ]
        }
      ]
    },
    {
      "cell_type": "code",
      "metadata": {
        "colab": {
          "base_uri": "https://localhost:8080/"
        },
        "id": "U8NVsJfQef1a",
        "outputId": "5ad521e4-dbb5-4b31-bbd9-d9185ae2b191"
      },
      "source": [
        "from zipfile import ZipFile\n",
        "file_name = \"skin-cancer-malignant-vs-benign.zip\"\n",
        "\n",
        "with ZipFile(file_name,'r') as zip :\n",
        "  zip.extractall()\n",
        "  print('Berhasil')"
      ],
      "execution_count": 6,
      "outputs": [
        {
          "output_type": "stream",
          "name": "stdout",
          "text": [
            "Berhasil\n"
          ]
        }
      ]
    },
    {
      "cell_type": "code",
      "metadata": {
        "id": "uYUoxmfEehui"
      },
      "source": [
        "!mkdir a"
      ],
      "execution_count": 7,
      "outputs": []
    },
    {
      "cell_type": "code",
      "metadata": {
        "id": "7DSHarzgei2h"
      },
      "source": [
        "!mv -t a test train"
      ],
      "execution_count": 8,
      "outputs": []
    },
    {
      "cell_type": "code",
      "metadata": {
        "id": "OIas7VQJela5"
      },
      "source": [
        "# Definisikan path untuk data train dan data validation\n",
        "import os\n",
        "base_dir = '/content/a'\n",
        "\n",
        "\n",
        "train_dir = os.path.join(base_dir, 'train')\n",
        "validation_dir = os.path.join(base_dir, 'test')"
      ],
      "execution_count": 9,
      "outputs": []
    },
    {
      "cell_type": "code",
      "metadata": {
        "id": "GGkhW4t5emYp"
      },
      "source": [
        "import cv2\n",
        "import numpy as np\n",
        "\n",
        "# Gather data train\n",
        "train_data = []\n",
        "train_label = []\n",
        "for r, d, f in os.walk(train_dir):\n",
        "    for file in f:\n",
        "        if \".jpg\" in file:\n",
        "            imagePath = os.path.join(r, file)\n",
        "            image = cv2.imread(imagePath)\n",
        "            image = cv2.resize(image, (150,150))\n",
        "            train_data.append(image)\n",
        "            label = imagePath.split(os.path.sep)[-2]\n",
        "            train_label.append(label)\n",
        "\n",
        "train_data = np.array(train_data)\n",
        "train_label = np.array(train_label)"
      ],
      "execution_count": 10,
      "outputs": []
    },
    {
      "cell_type": "code",
      "metadata": {
        "id": "kZthypNPeoYO"
      },
      "source": [
        "# Gather data validation\n",
        "val_data = []\n",
        "val_label = []\n",
        "for r, d, f in os.walk(validation_dir):\n",
        "    for file in f:\n",
        "        if \".jpg\" in file:\n",
        "            imagePath = os.path.join(r, file)\n",
        "            image = cv2.imread(imagePath)\n",
        "            image = cv2.resize(image, (150,150))\n",
        "            val_data.append(image)\n",
        "            label = imagePath.split(os.path.sep)[-2]\n",
        "            val_label.append(label)\n",
        "\n",
        "val_data = np.array(val_data)\n",
        "val_label = np.array(val_label)"
      ],
      "execution_count": 11,
      "outputs": []
    },
    {
      "cell_type": "code",
      "metadata": {
        "colab": {
          "base_uri": "https://localhost:8080/"
        },
        "id": "d8D1-BWkeqv2",
        "outputId": "9e3b887f-4f55-4f74-9678-c8461ac427eb"
      },
      "source": [
        "# Tampilkan shape dari data train dan data validation\n",
        "print(\"Train Data = \", train_data.shape)\n",
        "print(\"Train Label = \", train_label.shape)\n",
        "print(\"Validation Data = \", val_data.shape)\n",
        "print(\"Validation Label = \", val_label.shape)"
      ],
      "execution_count": 12,
      "outputs": [
        {
          "output_type": "stream",
          "name": "stdout",
          "text": [
            "Train Data =  (2637, 150, 150, 3)\n",
            "Train Label =  (2637,)\n",
            "Validation Data =  (660, 150, 150, 3)\n",
            "Validation Label =  (660,)\n"
          ]
        }
      ]
    },
    {
      "cell_type": "code",
      "metadata": {
        "colab": {
          "base_uri": "https://localhost:8080/"
        },
        "id": "SpqjZw2Oet8a",
        "outputId": "b2391d18-396c-4138-ed54-bc620e986389"
      },
      "source": [
        "# Normalisasi dataset\n",
        "print(\"Data sebelum di-normalisasi \", train_data[0][0][0])\n",
        "\n",
        "x_train = train_data.astype('float32') / 255.0\n",
        "x_val = val_data.astype('float32') / 255.0\n",
        "print(\"Data setelah di-normalisasi \", x_train[0][0][0])"
      ],
      "execution_count": 13,
      "outputs": [
        {
          "output_type": "stream",
          "name": "stdout",
          "text": [
            "Data sebelum di-normalisasi  [22 12 29]\n",
            "Data setelah di-normalisasi  [0.08627451 0.04705882 0.11372549]\n"
          ]
        }
      ]
    },
    {
      "cell_type": "code",
      "metadata": {
        "colab": {
          "base_uri": "https://localhost:8080/"
        },
        "id": "-JHU4cZ0e8tR",
        "outputId": "44490af5-a5cd-4f31-836f-043c4a7d0143"
      },
      "source": [
        "# Transformasi label encoder\n",
        "from sklearn.preprocessing import LabelEncoder\n",
        "\n",
        "print(\"Label sebelum di-encoder \", train_label[995:2005])\n",
        "\n",
        "lb = LabelEncoder()\n",
        "y_train = lb.fit_transform(train_label)\n",
        "y_val = lb.fit_transform(val_label)\n",
        "\n",
        "print(\"Label setelah di-encoder \", y_train[995:2005])"
      ],
      "execution_count": 14,
      "outputs": [
        {
          "output_type": "stream",
          "name": "stdout",
          "text": [
            "Label sebelum di-encoder  ['malignant' 'malignant' 'malignant' ... 'benign' 'benign' 'benign']\n",
            "Label setelah di-encoder  [1 1 1 ... 0 0 0]\n"
          ]
        }
      ]
    },
    {
      "cell_type": "code",
      "metadata": {
        "id": "bc2yHBNIe9iJ"
      },
      "source": [
        "from tensorflow.keras.models import Sequential\n",
        "from tensorflow.keras.layers import InputLayer, Dense, Conv2D, MaxPool2D, Flatten\n",
        "from tensorflow.keras.callbacks import ModelCheckpoint\n",
        "import tensorflow as tf"
      ],
      "execution_count": 15,
      "outputs": []
    },
    {
      "cell_type": "code",
      "metadata": {
        "id": "MKBgCCImfDo4"
      },
      "source": [
        "# Feature Extraction Layer\n",
        "model = Sequential()\n",
        "\n",
        "model.add(InputLayer(input_shape=[150,150,3]))\n",
        "model.add(Conv2D(filters=16, kernel_size=3, strides=1, padding='same', activation='relu'))\n",
        "model.add(MaxPool2D(pool_size=2, padding='same'))\n",
        "model.add(Conv2D(filters=32, kernel_size=3, strides=1, padding='same', activation='relu'))\n",
        "model.add(MaxPool2D(pool_size=2, padding='same'))\n",
        "model.add(Conv2D(filters=64, kernel_size=3, strides=1, padding='same', activation='relu'))\n",
        "model.add(MaxPool2D(pool_size=2, padding='same'))\n",
        "model.add(Flatten())"
      ],
      "execution_count": 16,
      "outputs": []
    },
    {
      "cell_type": "code",
      "metadata": {
        "id": "nHRV1cjjfFfy"
      },
      "source": [
        "# Fully Connected Layer\n",
        "model.add(Dense(128, activation='relu'))\n",
        "model.add(Dense(1, activation='sigmoid'))"
      ],
      "execution_count": 17,
      "outputs": []
    },
    {
      "cell_type": "code",
      "metadata": {
        "colab": {
          "base_uri": "https://localhost:8080/"
        },
        "id": "QgS0A4wwfGvi",
        "outputId": "5923a501-1cfb-4cb9-c836-72d0ad8816be"
      },
      "source": [
        "# Print model summary\n",
        "print(model.summary())"
      ],
      "execution_count": 18,
      "outputs": [
        {
          "output_type": "stream",
          "name": "stdout",
          "text": [
            "Model: \"sequential\"\n",
            "_________________________________________________________________\n",
            " Layer (type)                Output Shape              Param #   \n",
            "=================================================================\n",
            " conv2d (Conv2D)             (None, 150, 150, 16)      448       \n",
            "                                                                 \n",
            " max_pooling2d (MaxPooling2D  (None, 75, 75, 16)       0         \n",
            " )                                                               \n",
            "                                                                 \n",
            " conv2d_1 (Conv2D)           (None, 75, 75, 32)        4640      \n",
            "                                                                 \n",
            " max_pooling2d_1 (MaxPooling  (None, 38, 38, 32)       0         \n",
            " 2D)                                                             \n",
            "                                                                 \n",
            " conv2d_2 (Conv2D)           (None, 38, 38, 64)        18496     \n",
            "                                                                 \n",
            " max_pooling2d_2 (MaxPooling  (None, 19, 19, 64)       0         \n",
            " 2D)                                                             \n",
            "                                                                 \n",
            " flatten (Flatten)           (None, 23104)             0         \n",
            "                                                                 \n",
            " dense (Dense)               (None, 128)               2957440   \n",
            "                                                                 \n",
            " dense_1 (Dense)             (None, 1)                 129       \n",
            "                                                                 \n",
            "=================================================================\n",
            "Total params: 2,981,153\n",
            "Trainable params: 2,981,153\n",
            "Non-trainable params: 0\n",
            "_________________________________________________________________\n",
            "None\n"
          ]
        }
      ]
    },
    {
      "cell_type": "code",
      "metadata": {
        "id": "sLZshCbTfg45"
      },
      "source": [
        "best_model_cancer_path = 'model-cancer.h5'\n",
        "checkpoint_callback = ModelCheckpoint(best_model_cancer_path,\n",
        "                                     monitor='val_acc',\n",
        "                                     save_best_only=True,\n",
        "                                     verbose=1)\n",
        "callbacks_list = [checkpoint_callback]"
      ],
      "execution_count": 19,
      "outputs": []
    },
    {
      "cell_type": "code",
      "metadata": {
        "colab": {
          "base_uri": "https://localhost:8080/"
        },
        "id": "GkJhR636fmsB",
        "outputId": "e24a653d-83d4-4c59-8a13-5e6f88efcc43"
      },
      "source": [
        "# Compile model\n",
        "from tensorflow.keras.optimizers import Adam\n",
        "\n",
        "model.compile(optimizer=Adam(lr=0.001), \n",
        "              loss='binary_crossentropy', \n",
        "              metrics=['acc'])"
      ],
      "execution_count": 20,
      "outputs": [
        {
          "output_type": "stream",
          "name": "stderr",
          "text": [
            "/usr/local/lib/python3.7/dist-packages/keras/optimizer_v2/adam.py:105: UserWarning: The `lr` argument is deprecated, use `learning_rate` instead.\n",
            "  super(Adam, self).__init__(name, **kwargs)\n"
          ]
        }
      ]
    },
    {
      "cell_type": "code",
      "metadata": {
        "colab": {
          "base_uri": "https://localhost:8080/"
        },
        "id": "TdNZl-1mfIWt",
        "outputId": "b550c753-7124-4ace-831c-85d1185224b0"
      },
      "source": [
        "H = model.fit(x_train, y_train, batch_size=20, epochs=25, validation_data=(x_val, y_val))"
      ],
      "execution_count": 21,
      "outputs": [
        {
          "output_type": "stream",
          "name": "stdout",
          "text": [
            "Epoch 1/25\n",
            "132/132 [==============================] - 60s 445ms/step - loss: 0.5847 - acc: 0.6871 - val_loss: 0.5109 - val_acc: 0.7167\n",
            "Epoch 2/25\n",
            "132/132 [==============================] - 59s 444ms/step - loss: 0.4524 - acc: 0.7679 - val_loss: 0.4051 - val_acc: 0.7879\n",
            "Epoch 3/25\n",
            "132/132 [==============================] - 58s 443ms/step - loss: 0.4236 - acc: 0.7941 - val_loss: 0.4057 - val_acc: 0.7985\n",
            "Epoch 4/25\n",
            "132/132 [==============================] - 58s 443ms/step - loss: 0.4020 - acc: 0.8055 - val_loss: 0.4264 - val_acc: 0.7909\n",
            "Epoch 5/25\n",
            "132/132 [==============================] - 58s 441ms/step - loss: 0.3756 - acc: 0.8123 - val_loss: 0.3344 - val_acc: 0.8288\n",
            "Epoch 6/25\n",
            "132/132 [==============================] - 58s 442ms/step - loss: 0.3280 - acc: 0.8415 - val_loss: 0.3668 - val_acc: 0.8091\n",
            "Epoch 7/25\n",
            "132/132 [==============================] - 58s 442ms/step - loss: 0.3101 - acc: 0.8570 - val_loss: 0.3374 - val_acc: 0.8379\n",
            "Epoch 8/25\n",
            "132/132 [==============================] - 58s 442ms/step - loss: 0.3134 - acc: 0.8578 - val_loss: 0.3555 - val_acc: 0.8167\n",
            "Epoch 9/25\n",
            "132/132 [==============================] - 58s 442ms/step - loss: 0.2907 - acc: 0.8627 - val_loss: 0.3888 - val_acc: 0.8106\n",
            "Epoch 10/25\n",
            "132/132 [==============================] - 58s 442ms/step - loss: 0.2768 - acc: 0.8631 - val_loss: 0.3259 - val_acc: 0.8530\n",
            "Epoch 11/25\n",
            "132/132 [==============================] - 58s 441ms/step - loss: 0.2459 - acc: 0.8866 - val_loss: 0.4336 - val_acc: 0.8030\n",
            "Epoch 12/25\n",
            "132/132 [==============================] - 58s 443ms/step - loss: 0.2368 - acc: 0.8934 - val_loss: 0.3378 - val_acc: 0.8303\n",
            "Epoch 13/25\n",
            "132/132 [==============================] - 58s 442ms/step - loss: 0.2237 - acc: 0.9029 - val_loss: 0.3722 - val_acc: 0.8288\n",
            "Epoch 14/25\n",
            "132/132 [==============================] - 58s 442ms/step - loss: 0.1895 - acc: 0.9143 - val_loss: 0.3596 - val_acc: 0.8439\n",
            "Epoch 15/25\n",
            "132/132 [==============================] - 58s 441ms/step - loss: 0.1698 - acc: 0.9253 - val_loss: 0.4622 - val_acc: 0.8121\n",
            "Epoch 16/25\n",
            "132/132 [==============================] - 58s 441ms/step - loss: 0.1638 - acc: 0.9298 - val_loss: 0.3843 - val_acc: 0.8364\n",
            "Epoch 17/25\n",
            "132/132 [==============================] - 58s 443ms/step - loss: 0.1520 - acc: 0.9344 - val_loss: 0.3993 - val_acc: 0.8348\n",
            "Epoch 18/25\n",
            "132/132 [==============================] - 59s 444ms/step - loss: 0.1217 - acc: 0.9499 - val_loss: 0.4682 - val_acc: 0.8530\n",
            "Epoch 19/25\n",
            "132/132 [==============================] - 59s 444ms/step - loss: 0.0948 - acc: 0.9587 - val_loss: 0.5499 - val_acc: 0.8045\n",
            "Epoch 20/25\n",
            "132/132 [==============================] - 58s 443ms/step - loss: 0.1059 - acc: 0.9632 - val_loss: 0.5654 - val_acc: 0.8227\n",
            "Epoch 21/25\n",
            "132/132 [==============================] - 58s 443ms/step - loss: 0.0704 - acc: 0.9754 - val_loss: 0.5963 - val_acc: 0.8485\n",
            "Epoch 22/25\n",
            "132/132 [==============================] - 58s 443ms/step - loss: 0.0711 - acc: 0.9746 - val_loss: 0.5538 - val_acc: 0.8258\n",
            "Epoch 23/25\n",
            "132/132 [==============================] - 59s 444ms/step - loss: 0.0598 - acc: 0.9788 - val_loss: 0.6017 - val_acc: 0.8455\n",
            "Epoch 24/25\n",
            "132/132 [==============================] - 58s 443ms/step - loss: 0.0624 - acc: 0.9795 - val_loss: 0.5504 - val_acc: 0.8409\n",
            "Epoch 25/25\n",
            "132/132 [==============================] - 58s 442ms/step - loss: 0.0624 - acc: 0.9784 - val_loss: 0.6533 - val_acc: 0.8439\n"
          ]
        }
      ]
    },
    {
      "cell_type": "code",
      "metadata": {
        "id": "Dxi12Pn-fpyk"
      },
      "source": [
        "model.save_weights('model-cancer.h5')"
      ],
      "execution_count": 22,
      "outputs": []
    },
    {
      "cell_type": "code",
      "metadata": {
        "colab": {
          "base_uri": "https://localhost:8080/"
        },
        "id": "39v6vv34frKb",
        "outputId": "85ce7f8e-3251-4204-8624-1b72cede79c5"
      },
      "source": [
        "model.get_weights()"
      ],
      "execution_count": 23,
      "outputs": [
        {
          "output_type": "execute_result",
          "data": {
            "text/plain": [
              "[array([[[[ 7.70905316e-02,  1.29209965e-01,  2.23758742e-01,\n",
              "           -2.01857295e-02,  2.16384262e-01,  1.02150448e-01,\n",
              "            6.63038343e-02,  9.42493379e-02,  1.07407019e-01,\n",
              "           -7.33551458e-02, -1.45518273e-01,  1.34346575e-01,\n",
              "            1.53587073e-01,  1.64419845e-01, -6.86876401e-02,\n",
              "           -1.86350361e-01],\n",
              "          [ 1.59484893e-01,  1.17437258e-01,  3.31883505e-02,\n",
              "           -9.42189470e-02, -9.83983651e-02, -1.14258014e-01,\n",
              "           -1.16820656e-01, -1.96005553e-01,  1.07260302e-01,\n",
              "            1.05681019e-02,  2.44445652e-02,  2.12877318e-01,\n",
              "           -5.32258414e-02, -1.63244382e-01,  2.73938850e-02,\n",
              "            2.08795935e-01],\n",
              "          [ 1.47330901e-02, -1.60998985e-01, -9.51431841e-02,\n",
              "           -8.97213966e-02,  7.72509053e-02,  9.39257592e-02,\n",
              "            1.29643008e-01,  1.53477311e-01,  4.12237123e-02,\n",
              "           -6.00412525e-02, -1.45365506e-01,  7.16563389e-02,\n",
              "            6.69955015e-02, -1.00065053e-01, -1.95716113e-01,\n",
              "            7.58933872e-02]],\n",
              " \n",
              "         [[ 5.07656373e-02, -4.03836928e-02,  1.43630460e-01,\n",
              "            3.07507589e-02,  1.76788628e-01,  3.02839633e-02,\n",
              "           -5.82752489e-02, -1.61776841e-01, -7.22371135e-03,\n",
              "           -1.69129714e-01, -7.20820129e-02, -8.10439587e-02,\n",
              "            1.69516161e-01, -3.84632386e-02, -4.17824872e-02,\n",
              "            5.78717589e-02],\n",
              "          [ 1.96281955e-01, -1.86808705e-02, -1.56988472e-01,\n",
              "           -1.46635041e-01, -5.01327589e-02, -2.03614488e-01,\n",
              "           -2.02936158e-01, -7.80572519e-02,  8.70272219e-02,\n",
              "            1.65315852e-01, -4.27696742e-02, -1.68104023e-01,\n",
              "            9.23471600e-02,  5.11977402e-03,  6.85431063e-02,\n",
              "            2.30936050e-01],\n",
              "          [-6.84958398e-02,  1.38207331e-01, -4.72923331e-02,\n",
              "           -1.57304153e-01,  2.66016312e-02,  8.77001733e-02,\n",
              "           -3.64425741e-02,  9.07172263e-02,  3.26854102e-02,\n",
              "           -1.49871990e-01,  1.39574260e-02, -2.06515402e-01,\n",
              "           -1.84262842e-01, -1.95011646e-02, -4.18725684e-02,\n",
              "           -1.70108184e-01]],\n",
              " \n",
              "         [[-1.18610300e-01, -2.89985817e-02,  1.50954798e-01,\n",
              "           -4.76869792e-02, -4.01009135e-02, -6.21019416e-02,\n",
              "            2.44193748e-02, -2.23527721e-04,  1.83081433e-01,\n",
              "            1.01495884e-01,  1.59505755e-01, -1.77136704e-01,\n",
              "           -9.15030986e-02,  1.58641905e-01, -1.53775781e-01,\n",
              "           -2.17117473e-01],\n",
              "          [ 2.02724516e-01,  8.03152844e-02,  2.04047095e-02,\n",
              "            9.47212707e-03,  1.35908052e-01, -2.37808838e-01,\n",
              "            1.58038139e-01, -1.23129293e-01,  6.54886514e-02,\n",
              "            9.89792868e-03,  1.99462086e-01,  1.10116624e-03,\n",
              "           -9.97405723e-02, -3.34342979e-02, -1.12689078e-01,\n",
              "           -1.22699467e-02],\n",
              "          [-2.58625187e-02,  2.02037096e-01,  2.88745090e-02,\n",
              "            1.09187104e-01,  3.64551954e-02,  4.59876843e-02,\n",
              "            1.08571604e-01,  1.65037632e-01, -3.59940976e-02,\n",
              "            2.93823443e-02, -1.32623553e-01, -1.87451094e-01,\n",
              "            8.56619924e-02, -9.08644870e-02,  8.65333155e-02,\n",
              "            1.35866418e-01]]],\n",
              " \n",
              " \n",
              "        [[[-2.36336842e-01, -1.87710389e-01,  1.05649769e-01,\n",
              "            1.61476005e-02,  1.53285593e-01,  2.51284316e-02,\n",
              "           -1.32452205e-01,  8.12648684e-02, -1.81014106e-01,\n",
              "           -8.53018984e-02, -5.88438357e-04, -3.64998728e-02,\n",
              "            1.55241728e-01,  1.63451359e-01, -1.05071157e-01,\n",
              "           -1.74518228e-01],\n",
              "          [ 4.87592909e-03,  8.08195248e-02,  1.58874214e-01,\n",
              "           -3.64551693e-03, -1.02729402e-01,  1.13413692e-01,\n",
              "           -1.15063228e-01, -1.47429079e-01, -7.49740843e-03,\n",
              "           -5.93440756e-02,  4.18353302e-04,  2.17856541e-01,\n",
              "           -1.68834671e-01,  1.20901436e-01,  5.76794967e-02,\n",
              "            1.15836635e-01],\n",
              "          [-1.52761519e-01, -8.39049369e-02,  1.70005113e-01,\n",
              "           -1.58899337e-01, -1.32732511e-01,  1.64502695e-01,\n",
              "           -5.96769899e-02,  3.18396790e-03,  5.54463938e-02,\n",
              "            7.94343501e-02, -1.37576059e-01, -2.23595602e-03,\n",
              "           -1.46351710e-01, -9.59043503e-02, -1.92201778e-01,\n",
              "            1.30266592e-01]],\n",
              " \n",
              "         [[-1.39221117e-01,  3.72225605e-02,  8.12759399e-02,\n",
              "           -1.82084829e-01,  1.73028037e-01,  3.36813405e-02,\n",
              "            4.93100807e-02, -1.08023398e-02,  3.62883396e-02,\n",
              "           -9.30593908e-02,  8.87340978e-02, -1.23122692e-04,\n",
              "            8.22097361e-02, -5.49568310e-02,  1.39903843e-01,\n",
              "           -1.86229974e-01],\n",
              "          [ 6.07077852e-02, -8.09575766e-02, -3.91170681e-02,\n",
              "           -1.29340634e-01, -5.35488420e-04,  1.14230672e-02,\n",
              "            1.44860759e-01, -3.83455195e-02,  1.51136547e-01,\n",
              "           -1.34503797e-01, -1.50542155e-01,  2.41235401e-02,\n",
              "           -1.38518855e-01,  1.31758288e-01,  1.17835097e-01,\n",
              "            1.32239431e-01],\n",
              "          [ 1.06839411e-01,  1.30176947e-01, -9.24240425e-02,\n",
              "           -1.11570515e-01,  6.37762481e-03,  4.21456583e-02,\n",
              "           -1.56181097e-01,  9.30962712e-03,  4.69064564e-02,\n",
              "            7.23407045e-02,  2.30514854e-02,  8.09104294e-02,\n",
              "            1.06241569e-01,  1.02233179e-01,  1.63867772e-01,\n",
              "            1.60425693e-01]],\n",
              " \n",
              "         [[ 9.46565568e-02, -2.02031150e-01, -1.77751675e-01,\n",
              "           -8.63075778e-02, -9.61150229e-02, -6.67818487e-02,\n",
              "            2.12214485e-01, -9.05390829e-02,  1.69547394e-01,\n",
              "            1.96033865e-01,  2.00465143e-01,  1.47571921e-01,\n",
              "            3.32169384e-02,  3.11546437e-02,  6.37465417e-02,\n",
              "           -3.09193105e-01],\n",
              "          [ 9.80995297e-02,  7.87665099e-02, -2.09384874e-01,\n",
              "            1.73041016e-01, -1.78558424e-01, -2.59932503e-02,\n",
              "            3.90192643e-02,  3.67086120e-02, -1.27728790e-01,\n",
              "           -7.19260648e-02,  1.86090663e-01,  2.49781236e-02,\n",
              "           -1.59857377e-01,  5.38941137e-02, -1.90560631e-02,\n",
              "           -1.42768010e-01],\n",
              "          [ 1.56511232e-01,  1.16066048e-02,  6.69671223e-03,\n",
              "            8.66630077e-02,  7.18315989e-02, -9.58260335e-03,\n",
              "            1.64732456e-01, -3.35732140e-02,  1.20983884e-01,\n",
              "           -1.62642691e-02,  1.17426224e-01, -1.50176391e-01,\n",
              "           -1.05324373e-01, -1.68449908e-01,  4.18573618e-02,\n",
              "           -5.97085506e-02]]],\n",
              " \n",
              " \n",
              "        [[[-1.45940512e-01, -2.09101930e-01,  1.34232556e-02,\n",
              "            2.14811400e-01,  2.49579996e-01,  1.66601501e-02,\n",
              "            1.50430903e-01,  2.06786364e-01, -2.96223983e-02,\n",
              "           -4.15317416e-02, -4.20642234e-02,  3.39541808e-02,\n",
              "            1.69595420e-01,  3.63688320e-02, -1.70484900e-01,\n",
              "           -2.31182724e-01],\n",
              "          [ 1.18535617e-02, -1.28926322e-01, -8.69172886e-02,\n",
              "           -1.64895635e-02, -8.46305490e-03, -4.07566987e-02,\n",
              "            1.03412360e-01, -1.48807809e-01, -8.41116160e-02,\n",
              "           -4.35623117e-02,  1.21680796e-01,  4.06981036e-02,\n",
              "           -1.87692747e-01,  8.34697392e-03,  2.01921418e-01,\n",
              "           -5.54724522e-02],\n",
              "          [-5.30645549e-02, -1.69531062e-01, -1.03855953e-01,\n",
              "           -5.45171276e-02, -1.04226783e-01,  1.43092334e-01,\n",
              "            1.02183886e-01, -1.12274289e-01, -2.51381516e-01,\n",
              "           -6.46465793e-02, -1.63934901e-02,  1.67482629e-01,\n",
              "            7.80914386e-04,  1.47231296e-01,  1.32452190e-01,\n",
              "            3.86076011e-02]],\n",
              " \n",
              "         [[-2.08731622e-01,  3.85584086e-02, -1.06189467e-01,\n",
              "           -4.04512845e-02,  1.45514429e-01, -1.01124786e-01,\n",
              "            1.57181192e-02,  1.48301631e-01,  1.98648162e-02,\n",
              "           -7.09424317e-02,  1.50964186e-01,  2.07873747e-01,\n",
              "           -1.49777919e-01,  2.31583834e-01,  5.53397126e-02,\n",
              "           -2.16541067e-01],\n",
              "          [ 1.41264990e-01,  4.32306044e-02, -1.40001038e-02,\n",
              "            1.27865449e-01, -9.97749642e-02, -2.09273323e-02,\n",
              "            1.30842790e-01,  1.30333871e-01,  1.37101248e-01,\n",
              "           -2.02555191e-02,  1.80145249e-01, -6.61868602e-02,\n",
              "            1.75545588e-02, -7.25141019e-02,  1.90076619e-01,\n",
              "            1.27461970e-01],\n",
              "          [ 1.33287042e-01, -1.32715523e-01, -5.71940504e-02,\n",
              "           -1.36097386e-01, -2.78998092e-02,  1.24870427e-01,\n",
              "           -8.51424485e-02,  1.46711931e-01, -6.33024052e-02,\n",
              "           -1.87197566e-01, -4.64038067e-02, -1.49556007e-02,\n",
              "           -2.16945082e-01,  6.41438738e-02, -2.81534791e-02,\n",
              "            8.84755030e-02]],\n",
              " \n",
              "         [[ 3.43637057e-02, -5.76840192e-02, -2.30870903e-01,\n",
              "            7.72024393e-02,  1.06434025e-01, -1.61699131e-01,\n",
              "           -1.11266427e-01,  7.53656924e-02, -4.47009836e-04,\n",
              "            1.19308643e-01, -6.35414794e-02, -1.64609000e-01,\n",
              "            1.00426205e-01,  1.02917738e-01, -1.55270413e-01,\n",
              "           -2.77129948e-01],\n",
              "          [ 1.97375402e-01, -5.58515452e-02,  2.88727097e-02,\n",
              "            1.63812771e-01, -5.21700494e-02, -1.07447309e-02,\n",
              "           -2.70513669e-02,  7.07343072e-02,  1.37997657e-01,\n",
              "            7.06263930e-02, -7.94801861e-02,  9.97934863e-02,\n",
              "           -2.04459473e-01,  1.66646644e-01,  4.08285670e-02,\n",
              "           -4.06031422e-02],\n",
              "          [-1.18920557e-01, -1.09061845e-01,  3.38302180e-02,\n",
              "            1.85007885e-01, -1.41696170e-01,  1.06092460e-01,\n",
              "           -5.52089885e-02, -5.71416952e-02,  8.76545161e-02,\n",
              "            1.93535715e-01, -1.37711331e-01,  2.01875009e-02,\n",
              "            7.49781951e-02, -1.53934181e-01, -7.79033601e-02,\n",
              "           -1.12163067e-01]]]], dtype=float32),\n",
              " array([ 0.00696344, -0.00219355,  0.01270607,  0.06176405, -0.07696187,\n",
              "        -0.03564663, -0.14430922, -0.09945951, -0.14950508,  0.00843341,\n",
              "         0.02798396,  0.03749874,  0.05311888, -0.02389732,  0.05412957,\n",
              "         0.05325996], dtype=float32),\n",
              " array([[[[-8.48317612e-03, -2.32997034e-02,  8.31929445e-02, ...,\n",
              "           -7.05570057e-02, -2.28161998e-02, -7.00512752e-02],\n",
              "          [-8.87948647e-02,  5.38850203e-02,  2.19972908e-01, ...,\n",
              "            2.50300933e-02, -6.37899190e-02, -1.27613982e-02],\n",
              "          [-6.17837757e-02,  1.73672467e-01,  1.24372356e-01, ...,\n",
              "            9.41122249e-02,  2.49954015e-01,  1.20073698e-01],\n",
              "          ...,\n",
              "          [ 6.18314324e-03,  3.81791219e-02, -1.26135692e-01, ...,\n",
              "            1.38010412e-01, -5.85228316e-02,  7.00092455e-03],\n",
              "          [ 4.07644100e-02, -4.98554446e-02, -5.04226349e-02, ...,\n",
              "            7.59883821e-02, -1.00156583e-01,  1.04137607e-01],\n",
              "          [-2.99872220e-01,  1.52194589e-01,  2.18061969e-01, ...,\n",
              "           -8.14339072e-02,  3.00714433e-01, -6.85951561e-02]],\n",
              " \n",
              "         [[-7.79487342e-02, -1.56944394e-01,  3.99058759e-02, ...,\n",
              "           -2.39183288e-02,  5.43096699e-02,  1.49902441e-02],\n",
              "          [-1.07628249e-01, -8.73182807e-03,  3.19526047e-02, ...,\n",
              "           -6.58669174e-02,  1.36208758e-01, -1.26055822e-01],\n",
              "          [ 8.20873454e-02,  1.34570539e-01,  2.20993802e-01, ...,\n",
              "            8.95185620e-02,  2.76284546e-01,  5.87259941e-02],\n",
              "          ...,\n",
              "          [ 1.81325793e-01, -9.18492824e-02, -1.55537635e-01, ...,\n",
              "            9.78247672e-02, -1.15083247e-01,  1.39875755e-01],\n",
              "          [ 4.79826964e-02,  5.97431965e-04,  2.06500851e-03, ...,\n",
              "            1.40230343e-01, -8.33644047e-02,  1.91886127e-01],\n",
              "          [ 9.74404742e-04, -3.29911932e-02,  2.13616922e-01, ...,\n",
              "            6.13637790e-02,  1.94612786e-01,  2.58419484e-01]],\n",
              " \n",
              "         [[-1.61723480e-01, -7.41386414e-02, -2.46682949e-02, ...,\n",
              "           -4.73624468e-02, -4.37388904e-02, -1.39326110e-01],\n",
              "          [-2.25292370e-02,  4.40722890e-02,  3.75653982e-01, ...,\n",
              "            2.39163619e-02,  1.70481637e-01, -2.37261541e-02],\n",
              "          [ 6.57130852e-02,  6.66270256e-02,  1.41877711e-01, ...,\n",
              "            9.60196406e-02, -1.09185845e-01, -4.56185006e-02],\n",
              "          ...,\n",
              "          [ 3.97084700e-03,  1.33577744e-02,  3.72597910e-02, ...,\n",
              "            4.38084602e-02, -5.08478060e-02,  7.39829615e-02],\n",
              "          [-1.71937791e-04, -1.18371770e-01,  5.88383153e-02, ...,\n",
              "            5.46490848e-02, -8.63009170e-02, -1.12897582e-01],\n",
              "          [-7.04738544e-03, -1.00614384e-01,  6.08650874e-03, ...,\n",
              "            8.49543884e-02,  1.83432952e-01, -8.73064846e-02]]],\n",
              " \n",
              " \n",
              "        [[[ 4.65487242e-02, -8.20358396e-02, -7.59635493e-02, ...,\n",
              "           -9.80595723e-02,  9.84079838e-02,  1.23523131e-01],\n",
              "          [ 9.24783647e-02, -1.41544521e-01, -8.28353092e-02, ...,\n",
              "            8.54310319e-02,  4.70387097e-03, -3.33648585e-02],\n",
              "          [ 5.89032769e-02, -2.34286673e-02,  2.12029628e-02, ...,\n",
              "            1.38587698e-01,  6.68895319e-02, -2.89127547e-02],\n",
              "          ...,\n",
              "          [-3.41333598e-02, -5.49446717e-02, -1.53436422e-01, ...,\n",
              "           -1.08232517e-02, -9.35207382e-02,  1.01782188e-01],\n",
              "          [-2.54593845e-02, -1.66036114e-01,  4.71492670e-02, ...,\n",
              "           -1.09984301e-01,  1.00019425e-01,  9.77517739e-02],\n",
              "          [-2.32961953e-01, -5.36112711e-02,  3.08041275e-01, ...,\n",
              "           -3.10750782e-01,  3.50006878e-01, -9.68581662e-02]],\n",
              " \n",
              "         [[ 3.34375612e-02, -1.06360503e-01, -1.38751373e-01, ...,\n",
              "            5.13368063e-02, -5.70448451e-02,  4.47186492e-02],\n",
              "          [ 8.43688250e-02, -1.30152293e-02,  6.18372671e-03, ...,\n",
              "           -3.55129205e-02,  1.11152090e-01, -1.33990064e-01],\n",
              "          [ 9.69896838e-03,  2.85800677e-02, -8.67804587e-02, ...,\n",
              "            1.84736952e-01,  7.88862631e-02, -9.24563408e-03],\n",
              "          ...,\n",
              "          [ 4.98447008e-02,  7.07458779e-02, -1.25143275e-01, ...,\n",
              "            3.09291366e-03, -3.96276526e-02, -7.87804499e-02],\n",
              "          [ 6.37547225e-02,  2.90725995e-02, -2.46758349e-02, ...,\n",
              "           -4.62571867e-02, -1.77441984e-02, -4.17283103e-02],\n",
              "          [ 1.47589400e-01,  4.01931331e-02,  2.35737786e-02, ...,\n",
              "            1.73845008e-01,  2.22432777e-01,  2.36014232e-01]],\n",
              " \n",
              "         [[-1.75550714e-01, -1.27803043e-01,  8.16190690e-02, ...,\n",
              "           -7.45366290e-02,  1.03448778e-01,  5.50611364e-03],\n",
              "          [-8.12630802e-02,  1.19710706e-01,  1.89873785e-01, ...,\n",
              "            6.80383220e-02,  3.99534740e-02, -1.38795341e-03],\n",
              "          [ 2.49572992e-02, -9.90499854e-02,  7.95435831e-02, ...,\n",
              "            1.61090493e-01, -1.76376980e-02, -6.86166361e-02],\n",
              "          ...,\n",
              "          [ 9.61649343e-02, -9.38765407e-02, -3.89537252e-02, ...,\n",
              "           -8.36041383e-03,  1.40196815e-01, -1.00895040e-01],\n",
              "          [-8.46016407e-02, -8.42873007e-02,  1.79594383e-01, ...,\n",
              "           -9.68111083e-02,  1.48378059e-01, -1.17504999e-01],\n",
              "          [-4.87394221e-02,  3.33929472e-02, -8.12138468e-02, ...,\n",
              "            8.80596042e-02,  1.90115675e-01,  4.43591066e-02]]],\n",
              " \n",
              " \n",
              "        [[[-8.63028392e-02, -2.43435577e-01, -1.70424387e-01, ...,\n",
              "           -1.07502267e-01,  1.09150879e-01, -1.52198235e-02],\n",
              "          [-6.85561635e-03,  1.87913934e-03, -3.90284993e-02, ...,\n",
              "            7.90705159e-02,  3.69404107e-02, -3.92584801e-02],\n",
              "          [-7.85833225e-02,  3.05424333e-02,  9.57693532e-03, ...,\n",
              "           -1.77175440e-02, -1.46174833e-01, -1.13150142e-02],\n",
              "          ...,\n",
              "          [ 1.52383253e-01,  7.04125464e-02, -1.13418564e-01, ...,\n",
              "            7.14448020e-02, -9.45951343e-02, -9.18971524e-02],\n",
              "          [-7.98021033e-02, -7.92719051e-02,  5.93783967e-02, ...,\n",
              "           -8.88704583e-02, -2.32488532e-02, -7.45980255e-03],\n",
              "          [-2.52832919e-01,  2.80296132e-02,  2.42729604e-01, ...,\n",
              "            5.00099100e-02,  1.36407241e-01,  1.93346199e-02]],\n",
              " \n",
              "         [[-3.92540954e-02, -1.42389471e-02, -2.80109290e-02, ...,\n",
              "           -7.17941895e-02,  9.25804079e-02,  2.10924633e-03],\n",
              "          [-8.05192813e-02,  2.12060008e-02, -2.40796618e-02, ...,\n",
              "            3.59803289e-02,  9.20438021e-02,  8.78769755e-02],\n",
              "          [ 1.61012664e-01, -1.18815139e-01, -3.21592577e-02, ...,\n",
              "            6.32900000e-02, -2.28187650e-01,  3.81135382e-03],\n",
              "          ...,\n",
              "          [ 2.04111934e-01,  1.23803310e-01, -7.78753161e-02, ...,\n",
              "            1.74690872e-01, -6.33241758e-02,  6.18048944e-02],\n",
              "          [-1.07387118e-01, -1.40647367e-01, -1.31900996e-01, ...,\n",
              "           -9.71071944e-02, -4.99642193e-02, -3.12577933e-02],\n",
              "          [-3.50877945e-03, -1.91019788e-01,  4.03487422e-02, ...,\n",
              "            2.41520748e-01,  2.05615819e-01,  5.03806323e-02]],\n",
              " \n",
              "         [[-7.68006444e-02, -6.10354654e-02, -7.63663426e-02, ...,\n",
              "           -1.20513169e-02,  2.82581896e-02,  8.79162923e-02],\n",
              "          [-1.17460862e-01, -3.22214067e-02,  1.35188490e-01, ...,\n",
              "           -6.32889569e-02,  9.01836623e-03, -1.03250012e-01],\n",
              "          [ 1.35601342e-01,  8.71423110e-02,  9.12365764e-02, ...,\n",
              "            7.26991072e-02, -1.69379920e-01, -1.80476215e-02],\n",
              "          ...,\n",
              "          [ 1.47448212e-01, -5.75119592e-02,  1.12696417e-01, ...,\n",
              "            1.26470411e-02, -3.74142677e-02, -1.55084223e-01],\n",
              "          [-1.52706444e-01, -1.60231367e-01,  2.08376601e-01, ...,\n",
              "           -5.68053275e-02,  4.68361191e-02,  7.03097284e-02],\n",
              "          [-6.33252645e-03,  4.88154888e-02,  3.66912000e-02, ...,\n",
              "            6.91316202e-02,  2.68808365e-01,  4.44949195e-02]]]],\n",
              "       dtype=float32),\n",
              " array([-0.08081427, -0.02093383, -0.03061242, -0.0407122 , -0.0140553 ,\n",
              "        -0.03268505, -0.0111749 ,  0.01731139, -0.07736085,  0.08449597,\n",
              "        -0.00486363, -0.00343953,  0.05861153, -0.05779726, -0.0314063 ,\n",
              "        -0.01634272, -0.00054584, -0.0369872 , -0.0332587 , -0.02274591,\n",
              "        -0.00326122, -0.00863391, -0.02900547,  0.06462129,  0.04724913,\n",
              "        -0.02364713, -0.03465812,  0.04652352, -0.03951702, -0.03064288,\n",
              "        -0.0062973 , -0.00071389], dtype=float32),\n",
              " array([[[[-1.02173656e-01, -1.05932780e-01,  1.25701964e-01, ...,\n",
              "           -1.15652038e-02, -6.93928525e-02,  4.60828990e-02],\n",
              "          [-4.68279906e-02,  2.75928508e-02,  3.25649581e-03, ...,\n",
              "            2.88841221e-02,  2.77817324e-02,  8.53063986e-02],\n",
              "          [-6.24305196e-03, -1.36206210e-01,  7.41477162e-02, ...,\n",
              "           -6.35697097e-02, -3.56067419e-02,  8.51603597e-02],\n",
              "          ...,\n",
              "          [-7.97186643e-02,  2.29003206e-02,  1.56093240e-01, ...,\n",
              "           -2.20952388e-02, -1.13275483e-01, -7.46149868e-02],\n",
              "          [-4.37108278e-02,  2.61017531e-02,  5.18896095e-02, ...,\n",
              "           -2.58709863e-02, -3.77509668e-02, -5.64288124e-02],\n",
              "          [ 5.65714575e-03,  5.32970987e-02, -5.84829822e-02, ...,\n",
              "           -6.85183555e-02, -1.83630516e-04, -4.38269638e-02]],\n",
              " \n",
              "         [[-1.37003288e-01, -5.77383339e-02, -1.51780779e-02, ...,\n",
              "           -9.65913236e-02, -3.15689892e-02,  6.37333021e-02],\n",
              "          [ 1.71814766e-02,  6.56178519e-02,  1.35063708e-01, ...,\n",
              "            1.51929613e-02,  1.87487639e-02,  4.34896909e-02],\n",
              "          [-2.88488232e-02, -4.45602909e-02,  6.80400282e-02, ...,\n",
              "           -1.18123703e-01,  1.40998796e-01, -1.13642730e-01],\n",
              "          ...,\n",
              "          [-1.92338899e-02, -1.58250425e-02, -5.91992699e-02, ...,\n",
              "           -9.56003293e-02,  2.18185801e-02, -7.54636228e-02],\n",
              "          [-5.13674840e-02, -1.31327257e-01,  1.47177279e-01, ...,\n",
              "           -6.94454089e-02,  5.36267571e-02, -9.94276032e-02],\n",
              "          [ 3.33043076e-02, -7.08682761e-02, -4.70418073e-02, ...,\n",
              "           -6.15387484e-02, -2.10116562e-02,  1.34471394e-02]],\n",
              " \n",
              "         [[ 2.37676222e-02, -4.02014330e-03, -8.07991326e-02, ...,\n",
              "           -5.28470203e-02,  1.80408894e-03,  4.48193625e-02],\n",
              "          [-3.53758689e-03, -9.32234153e-02,  8.56838301e-02, ...,\n",
              "            1.39869126e-02,  1.28792203e-03, -9.82815400e-02],\n",
              "          [-6.44589141e-02, -1.03201926e-01,  1.38826981e-01, ...,\n",
              "            2.28077881e-02, -8.64811763e-02,  8.39472339e-02],\n",
              "          ...,\n",
              "          [-9.27323326e-02,  2.01263223e-02, -4.44331951e-02, ...,\n",
              "           -4.83287387e-02, -4.45438176e-02, -2.40227543e-02],\n",
              "          [-2.23398618e-02, -8.62640236e-03,  1.67053044e-02, ...,\n",
              "           -9.34330001e-02,  9.72130150e-02, -6.62740991e-02],\n",
              "          [ 5.42819910e-02, -9.91681591e-02, -3.79649140e-02, ...,\n",
              "           -6.01812638e-02,  7.12231770e-02, -3.01946457e-02]]],\n",
              " \n",
              " \n",
              "        [[[-9.85980332e-02, -1.07739605e-01,  2.00775508e-02, ...,\n",
              "            1.89051777e-02, -1.18242204e-01,  4.52206470e-02],\n",
              "          [-7.64242038e-02,  7.80586153e-02, -4.98245144e-03, ...,\n",
              "            4.48320583e-02, -6.46225289e-02,  2.33943462e-02],\n",
              "          [ 3.17993835e-02, -1.54756838e-02, -2.14800853e-02, ...,\n",
              "           -1.48328478e-02, -5.17900707e-03,  2.08376627e-02],\n",
              "          ...,\n",
              "          [-7.92724825e-03, -1.11503512e-01, -2.89091971e-02, ...,\n",
              "           -3.33392695e-02, -5.11946231e-02, -4.20144983e-02],\n",
              "          [-1.90758845e-03,  3.12871449e-02, -1.05020292e-02, ...,\n",
              "            3.62761654e-02, -1.31355133e-02, -2.38544252e-02],\n",
              "          [ 6.39815778e-02,  2.49352790e-02,  6.36659861e-02, ...,\n",
              "           -9.68605727e-02, -1.98008865e-02, -7.10029155e-02]],\n",
              " \n",
              "         [[-2.08141319e-02, -6.26940504e-02, -4.00530957e-02, ...,\n",
              "           -4.07039560e-02,  1.87976658e-02,  4.84433137e-02],\n",
              "          [-4.78069410e-02, -2.65320148e-02,  9.92198139e-02, ...,\n",
              "            8.51299241e-03, -9.39421877e-02, -4.71090199e-03],\n",
              "          [-1.78201851e-02, -1.08278193e-01,  5.59381060e-02, ...,\n",
              "           -1.04009680e-01, -9.85066891e-02,  8.20989311e-02],\n",
              "          ...,\n",
              "          [-9.16776434e-02, -1.32406747e-03,  7.61817396e-02, ...,\n",
              "           -4.55091298e-02,  1.48788793e-02,  1.76507030e-02],\n",
              "          [-4.16541584e-02, -9.71020386e-02,  9.78303626e-02, ...,\n",
              "           -8.81493092e-02,  6.33389223e-03, -7.84192681e-02],\n",
              "          [-2.98757739e-02, -6.81647733e-02, -6.42239302e-02, ...,\n",
              "            1.83026604e-02, -1.08878501e-02, -2.64553446e-02]],\n",
              " \n",
              "         [[-1.60742160e-02, -4.76193726e-02,  2.15877686e-02, ...,\n",
              "           -1.43895410e-02, -1.00533620e-01,  4.10999171e-02],\n",
              "          [ 1.42753765e-01,  3.92486155e-02,  6.85541183e-02, ...,\n",
              "           -6.54261839e-03, -7.76986554e-02, -7.06257820e-02],\n",
              "          [-2.05103867e-02, -7.22305328e-02,  1.39848545e-01, ...,\n",
              "           -8.43305364e-02, -4.33039889e-02, -9.78441603e-05],\n",
              "          ...,\n",
              "          [-4.60756607e-02, -8.47455934e-02, -7.32857361e-02, ...,\n",
              "           -6.74121231e-02, -5.78310490e-02, -1.02424391e-01],\n",
              "          [-9.87827256e-02, -1.27257481e-01, -4.87913340e-02, ...,\n",
              "           -3.97571623e-02,  5.95738962e-02, -1.61004812e-02],\n",
              "          [ 1.76048912e-02, -8.61415714e-02,  3.34090032e-02, ...,\n",
              "           -1.41785480e-02,  1.88168930e-03, -3.96700092e-02]]],\n",
              " \n",
              " \n",
              "        [[[ 7.90921040e-03, -6.91732764e-02, -6.93351030e-02, ...,\n",
              "           -6.60405532e-02, -6.00982495e-02, -6.30733296e-02],\n",
              "          [-3.27416174e-02, -8.73694494e-02, -6.80040277e-04, ...,\n",
              "            6.24819249e-02,  5.98129407e-02,  6.10874407e-02],\n",
              "          [-2.50774994e-03, -1.22022793e-01, -6.85117766e-02, ...,\n",
              "            2.06093397e-03, -1.09360337e-01, -2.17016824e-02],\n",
              "          ...,\n",
              "          [-9.74907950e-02, -6.00143671e-02,  6.08253712e-03, ...,\n",
              "           -4.89548706e-02, -3.25822495e-02,  5.70080653e-02],\n",
              "          [ 1.78599134e-02,  6.21398957e-03,  5.94765618e-02, ...,\n",
              "           -1.04074709e-01,  6.76736236e-02, -1.20351493e-01],\n",
              "          [-7.90608004e-02, -1.26523208e-02, -5.45807071e-02, ...,\n",
              "           -1.13685995e-01, -7.95314312e-02,  3.10590230e-02]],\n",
              " \n",
              "         [[-2.17854884e-02,  4.32304479e-02,  1.56877059e-02, ...,\n",
              "            3.86713445e-02, -2.11656913e-02, -5.76585643e-02],\n",
              "          [-2.43602321e-02,  5.77275418e-02,  1.15491875e-01, ...,\n",
              "            9.35502574e-02, -5.25422134e-02, -7.17356876e-02],\n",
              "          [-6.74115494e-02, -9.93892848e-02,  2.51064673e-02, ...,\n",
              "           -2.31501117e-01, -7.28328619e-03, -9.54174027e-02],\n",
              "          ...,\n",
              "          [-6.84202611e-02, -4.06259000e-02, -2.70963423e-02, ...,\n",
              "           -3.95439379e-02,  7.78174326e-02, -3.53365764e-02],\n",
              "          [-9.53167975e-02, -1.20268650e-01,  1.30689472e-01, ...,\n",
              "            1.89360641e-02,  3.32573950e-02, -1.18432781e-02],\n",
              "          [ 8.92973132e-03, -3.69338393e-02,  5.55186160e-02, ...,\n",
              "           -6.13273121e-02, -1.38118668e-02, -6.65582865e-02]],\n",
              " \n",
              "         [[-3.47128399e-02, -3.11935972e-02, -2.73063779e-02, ...,\n",
              "           -7.79530630e-02,  3.00708553e-03, -1.79791283e-02],\n",
              "          [ 1.01745769e-01, -1.57807879e-02,  1.17764771e-01, ...,\n",
              "           -1.69447977e-02, -8.54048356e-02,  3.36551070e-02],\n",
              "          [ 7.02678561e-02, -4.11149301e-02,  1.62345022e-01, ...,\n",
              "           -1.09535597e-01,  6.39501438e-02, -4.44393717e-02],\n",
              "          ...,\n",
              "          [-8.52312893e-02,  4.09108996e-02, -8.33350047e-02, ...,\n",
              "           -1.12313360e-01,  7.37804249e-02, -2.93652192e-02],\n",
              "          [-3.48653570e-02, -4.94027659e-02, -6.53742626e-02, ...,\n",
              "           -2.34433915e-02,  9.63072851e-02, -8.54944587e-02],\n",
              "          [-8.61514434e-02, -8.12493041e-02,  4.44241278e-02, ...,\n",
              "           -5.78211471e-02,  1.29756983e-02,  4.96266335e-02]]]],\n",
              "       dtype=float32),\n",
              " array([-0.03888318, -0.0348325 , -0.04182116, -0.00593415,  0.02659478,\n",
              "        -0.05121908, -0.03233659, -0.03042451, -0.02326152,  0.08960776,\n",
              "        -0.01750954,  0.03858132, -0.04548262,  0.01577677, -0.06463865,\n",
              "        -0.05825369,  0.02114473, -0.0390972 , -0.02634859, -0.04070187,\n",
              "         0.01046749, -0.01235873, -0.0491981 ,  0.06095937, -0.05523831,\n",
              "        -0.05211185, -0.00779073, -0.02298949, -0.01079017, -0.04091796,\n",
              "        -0.01966484, -0.02002927, -0.05873943, -0.02269845, -0.01779303,\n",
              "         0.00692049, -0.03506014, -0.0693654 , -0.0787046 ,  0.03829757,\n",
              "        -0.05494148, -0.00742971,  0.0027284 , -0.08855398, -0.03861311,\n",
              "        -0.02397369, -0.00949701, -0.02741031,  0.07200556, -0.0621176 ,\n",
              "        -0.01709619, -0.02427014,  0.00559815, -0.07666358, -0.06303186,\n",
              "        -0.03177454, -0.05126363, -0.04558795, -0.02381243,  0.0221574 ,\n",
              "        -0.03165986, -0.0355063 , -0.03347143, -0.04310358], dtype=float32),\n",
              " array([[ 0.0287059 , -0.01578161, -0.00748343, ..., -0.01905515,\n",
              "         -0.00200202,  0.01225083],\n",
              "        [ 0.02124998,  0.01191788, -0.0077939 , ..., -0.01266738,\n",
              "         -0.01553666, -0.00663071],\n",
              "        [ 0.20392972, -0.10794146,  0.01611864, ..., -0.1348639 ,\n",
              "         -0.03692361,  0.009801  ],\n",
              "        ...,\n",
              "        [ 0.01134088, -0.00163209,  0.00576181, ..., -0.0251031 ,\n",
              "         -0.03188619, -0.00047988],\n",
              "        [ 0.08894749, -0.08358321, -0.00312748, ..., -0.08071917,\n",
              "         -0.02609809, -0.00500113],\n",
              "        [ 0.01345218, -0.00347972, -0.00326143, ..., -0.00185432,\n",
              "         -0.01014252,  0.00344492]], dtype=float32),\n",
              " array([-1.66473456e-03,  4.86080199e-02, -9.43757314e-03, -2.16129213e-03,\n",
              "        -6.84318412e-03,  5.60493097e-02, -2.02460028e-02, -3.99387777e-02,\n",
              "        -9.58344340e-03, -5.71819302e-03, -1.32126035e-02, -3.27130817e-02,\n",
              "        -1.00434814e-02,  6.45650507e-05, -7.18192458e-02, -9.95208230e-03,\n",
              "        -8.54357239e-03, -1.71650629e-02,  1.03562605e-02,  5.53064235e-02,\n",
              "        -1.59263406e-02, -1.75060406e-02,  4.75508608e-02, -7.82867149e-03,\n",
              "        -5.99959772e-03, -8.52143578e-03, -2.85019670e-02, -9.99808125e-03,\n",
              "        -2.50704177e-02, -6.00359915e-03,  1.38089666e-03, -3.36823403e-03,\n",
              "        -1.79748237e-03, -3.10686184e-03, -2.26235781e-02, -8.98266956e-03,\n",
              "         5.37102576e-03, -3.96510474e-02, -6.00344967e-03, -6.00328576e-03,\n",
              "         3.11095249e-02, -9.51769575e-03, -4.31386335e-03, -9.81671177e-03,\n",
              "        -2.15383270e-03, -9.57236812e-03, -5.92704769e-03, -2.71046977e-03,\n",
              "        -1.37747480e-02, -1.14030717e-02, -2.13601515e-02,  9.35398228e-03,\n",
              "        -1.71780903e-02, -1.16899498e-02,  3.30226645e-02, -1.78097654e-02,\n",
              "         7.32126599e-03, -5.55854756e-03, -9.26049799e-03, -3.01654935e-02,\n",
              "         4.58003432e-02, -3.05284616e-02,  4.12745913e-03, -6.00018026e-03,\n",
              "        -4.44730138e-03, -1.00139156e-03,  1.25213759e-02,  6.68076426e-02,\n",
              "        -2.47734804e-02, -5.10992296e-03, -8.41449201e-03, -1.72067508e-02,\n",
              "         5.90012372e-02, -8.23897496e-03,  8.23961869e-02, -1.07669691e-02,\n",
              "         6.55713901e-02, -3.86623340e-03, -2.38110162e-02, -5.33480057e-03,\n",
              "        -8.96502566e-03,  2.84589957e-02, -3.24356519e-02, -7.71744363e-03,\n",
              "        -4.60113771e-02,  6.11626729e-02, -8.57533421e-03, -2.91304966e-03,\n",
              "         1.61830522e-02, -1.48341954e-02, -5.55839855e-03, -5.70456311e-03,\n",
              "         2.84416862e-02, -3.39976349e-03, -7.60926306e-03, -5.85823366e-03,\n",
              "         4.92620133e-02, -5.11223124e-03,  7.74715692e-02, -9.51665267e-03,\n",
              "        -3.46254967e-02, -4.82743466e-03, -4.07431973e-03,  7.17969015e-02,\n",
              "        -1.64511781e-02, -3.31666432e-02, -5.98452520e-03, -1.00527285e-02,\n",
              "         3.96162160e-02, -3.42129171e-02,  5.99826016e-02, -5.33280708e-03,\n",
              "         1.05966628e-02,  5.67638837e-02,  2.43452545e-02,  1.88386701e-02,\n",
              "        -2.96087079e-02, -1.00691039e-02, -3.61768939e-02, -9.96477343e-03,\n",
              "        -5.33588417e-03,  3.36677046e-03, -2.96440516e-02, -3.67876366e-02,\n",
              "        -5.34317084e-03,  5.05393408e-02,  6.13258081e-03, -9.34353471e-03],\n",
              "       dtype=float32),\n",
              " array([[-2.34015390e-01],\n",
              "        [ 2.13639468e-01],\n",
              "        [-1.74153060e-01],\n",
              "        [ 1.03863142e-01],\n",
              "        [-1.28190324e-01],\n",
              "        [ 2.00601682e-01],\n",
              "        [ 1.80107746e-02],\n",
              "        [ 1.14656310e-03],\n",
              "        [-4.35739122e-02],\n",
              "        [-7.32844323e-02],\n",
              "        [-1.90919369e-01],\n",
              "        [-1.62957266e-01],\n",
              "        [-7.15123340e-02],\n",
              "        [-2.43836731e-01],\n",
              "        [ 3.71779664e-04],\n",
              "        [ 1.34197408e-02],\n",
              "        [ 9.00978819e-02],\n",
              "        [-1.86431304e-01],\n",
              "        [ 2.36483186e-01],\n",
              "        [ 1.73057139e-01],\n",
              "        [ 1.39977589e-01],\n",
              "        [ 1.43703774e-01],\n",
              "        [ 1.41870812e-01],\n",
              "        [-2.65791919e-03],\n",
              "        [-6.43267781e-02],\n",
              "        [-1.14472866e-01],\n",
              "        [-1.88364595e-01],\n",
              "        [-3.72701660e-02],\n",
              "        [ 9.70233157e-02],\n",
              "        [-5.46839461e-02],\n",
              "        [ 2.03625470e-01],\n",
              "        [ 3.23678553e-02],\n",
              "        [ 2.11005792e-01],\n",
              "        [-1.98380789e-03],\n",
              "        [ 1.41664356e-01],\n",
              "        [ 1.52152628e-01],\n",
              "        [-2.30434135e-01],\n",
              "        [ 1.53680623e-01],\n",
              "        [-8.31119493e-02],\n",
              "        [-1.26638502e-01],\n",
              "        [-2.92258590e-01],\n",
              "        [-4.37800512e-02],\n",
              "        [ 1.05896927e-01],\n",
              "        [-1.83650509e-01],\n",
              "        [ 1.88231722e-01],\n",
              "        [-1.29255459e-01],\n",
              "        [ 7.65846996e-03],\n",
              "        [ 1.62537973e-02],\n",
              "        [ 1.21042237e-01],\n",
              "        [ 1.97899655e-01],\n",
              "        [-3.18936914e-01],\n",
              "        [-3.40113550e-01],\n",
              "        [ 3.33279022e-04],\n",
              "        [-1.49253696e-01],\n",
              "        [-2.12617874e-01],\n",
              "        [ 1.56216502e-01],\n",
              "        [-1.50406003e-01],\n",
              "        [ 1.46948397e-01],\n",
              "        [-3.99138540e-01],\n",
              "        [ 8.12676996e-02],\n",
              "        [ 7.98591077e-02],\n",
              "        [ 4.88433950e-02],\n",
              "        [-1.71739370e-01],\n",
              "        [-1.46705464e-01],\n",
              "        [ 1.22896545e-01],\n",
              "        [-3.03858787e-01],\n",
              "        [-1.60499096e-01],\n",
              "        [ 1.48836598e-01],\n",
              "        [ 4.96036410e-02],\n",
              "        [-8.22257698e-02],\n",
              "        [-5.11930175e-02],\n",
              "        [-8.65702182e-02],\n",
              "        [ 1.75896183e-01],\n",
              "        [-1.66726232e-01],\n",
              "        [ 3.51705343e-01],\n",
              "        [ 2.05002472e-01],\n",
              "        [ 2.63716310e-01],\n",
              "        [ 5.53816147e-02],\n",
              "        [ 1.18777610e-01],\n",
              "        [-1.31388023e-01],\n",
              "        [ 9.66990250e-04],\n",
              "        [-3.01270336e-01],\n",
              "        [ 1.20474987e-01],\n",
              "        [ 2.21414346e-04],\n",
              "        [ 8.28699488e-03],\n",
              "        [ 2.34230846e-01],\n",
              "        [-1.26404315e-01],\n",
              "        [ 5.99099658e-02],\n",
              "        [ 1.29790753e-01],\n",
              "        [ 1.73482850e-01],\n",
              "        [ 7.63629675e-02],\n",
              "        [ 2.05877632e-01],\n",
              "        [-2.85699695e-01],\n",
              "        [ 8.97628255e-03],\n",
              "        [-1.21848568e-01],\n",
              "        [-6.96457399e-04],\n",
              "        [-2.84460485e-01],\n",
              "        [-2.00263441e-01],\n",
              "        [ 2.35675693e-01],\n",
              "        [-4.68216687e-02],\n",
              "        [-7.09647499e-03],\n",
              "        [ 1.65229976e-01],\n",
              "        [ 7.63337314e-02],\n",
              "        [ 3.15428585e-01],\n",
              "        [-4.15270701e-02],\n",
              "        [ 4.55832891e-02],\n",
              "        [ 7.28524872e-04],\n",
              "        [-9.17489976e-02],\n",
              "        [-3.09784532e-01],\n",
              "        [ 6.21367618e-02],\n",
              "        [ 2.12691277e-01],\n",
              "        [ 1.10296480e-01],\n",
              "        [-1.53493598e-01],\n",
              "        [ 3.32190931e-01],\n",
              "        [-9.53894258e-02],\n",
              "        [-1.44541085e-01],\n",
              "        [ 1.71094555e-02],\n",
              "        [-1.60258889e-01],\n",
              "        [ 7.02550858e-02],\n",
              "        [-1.93525836e-01],\n",
              "        [-6.83003142e-02],\n",
              "        [ 2.85103977e-01],\n",
              "        [ 4.60779928e-02],\n",
              "        [ 6.12037741e-02],\n",
              "        [-1.96535051e-01],\n",
              "        [ 1.49010122e-01],\n",
              "        [ 1.73659816e-01],\n",
              "        [-1.61730170e-01]], dtype=float32),\n",
              " array([-0.01155756], dtype=float32)]"
            ]
          },
          "metadata": {},
          "execution_count": 23
        }
      ]
    },
    {
      "cell_type": "code",
      "metadata": {
        "id": "ZC7Bzyy1fvL4"
      },
      "source": [
        "%matplotlib inline\n",
        "import matplotlib.pyplot as plt\n",
        "import numpy as np\n",
        "from keras.models import load_model\n",
        "from sklearn.metrics import classification_report, confusion_matrix"
      ],
      "execution_count": 24,
      "outputs": []
    },
    {
      "cell_type": "code",
      "metadata": {
        "colab": {
          "base_uri": "https://localhost:8080/",
          "height": 316
        },
        "id": "YaIsdtxrfLja",
        "outputId": "0adfdddd-004d-4177-fa08-4bd0bafa5eb6"
      },
      "source": [
        "plt.style.use(\"ggplot\")\n",
        "plt.figure()\n",
        "plt.plot(np.arange(0, 25), H.history[\"loss\"], label=\"train_loss\")\n",
        "plt.plot(np.arange(0, 25), H.history[\"val_loss\"], label=\"val_loss\")\n",
        "plt.title(\"Loss Plot\")\n",
        "plt.xlabel(\"Epoch #\")\n",
        "plt.ylabel(\"Loss\")\n",
        "plt.legend()\n",
        "plt.show()\n",
        "\n",
        "plt.savefig('loss-plot-cancer.png')"
      ],
      "execution_count": 25,
      "outputs": [
        {
          "output_type": "display_data",
          "data": {
            "image/png": "[encoded data removed]",
            "text/plain": [
              "<Figure size 432x288 with 1 Axes>"
            ]
          },
          "metadata": {}
        },
        {
          "output_type": "display_data",
          "data": {
            "text/plain": [
              "<Figure size 432x288 with 0 Axes>"
            ]
          },
          "metadata": {}
        }
      ]
    },
    {
      "cell_type": "code",
      "metadata": {
        "colab": {
          "base_uri": "https://localhost:8080/",
          "height": 316
        },
        "id": "dnL4TYXgfNKz",
        "outputId": "3e990373-a94f-4589-b31e-c62ed19b4467"
      },
      "source": [
        "plt.style.use(\"ggplot\")\n",
        "plt.figure()\n",
        "plt.plot(np.arange(0, 25), H.history[\"acc\"], label=\"train_acc\")\n",
        "plt.plot(np.arange(0, 25), H.history[\"val_acc\"], label=\"val_acc\")\n",
        "plt.title(\"Accuracy Plot\")\n",
        "plt.xlabel(\"Epoch #\")\n",
        "plt.ylabel(\"Acc\")\n",
        "plt.legend()\n",
        "plt.show()\n",
        "\n",
        "plt.savefig('accuracy-plot-cancer.png')"
      ],
      "execution_count": 26,
      "outputs": [
        {
          "output_type": "display_data",
          "data": {
            "image/png": "[encoded data removed]",
            "text/plain": [
              "<Figure size 432x288 with 1 Axes>"
            ]
          },
          "metadata": {}
        },
        {
          "output_type": "display_data",
          "data": {
            "text/plain": [
              "<Figure size 432x288 with 0 Axes>"
            ]
          },
          "metadata": {}
        }
      ]
    },
    {
      "cell_type": "code",
      "metadata": {
        "colab": {
          "base_uri": "https://localhost:8080/"
        },
        "id": "oDcv-i-efPXl",
        "outputId": "0de26b3a-6a97-45d2-e9c0-1f8b2502436d"
      },
      "source": [
        "from sklearn.metrics import classification_report\n",
        "\n",
        "pred = model.predict(x_val)\n",
        "labels = (pred > 0.5).astype(np.int)\n",
        "\n",
        "print(classification_report(y_val, labels))"
      ],
      "execution_count": 27,
      "outputs": [
        {
          "output_type": "stream",
          "name": "stdout",
          "text": [
            "              precision    recall  f1-score   support\n",
            "\n",
            "           0       0.84      0.88      0.86       360\n",
            "           1       0.84      0.81      0.82       300\n",
            "\n",
            "    accuracy                           0.84       660\n",
            "   macro avg       0.84      0.84      0.84       660\n",
            "weighted avg       0.84      0.84      0.84       660\n",
            "\n"
          ]
        }
      ]
    }
  ]
}